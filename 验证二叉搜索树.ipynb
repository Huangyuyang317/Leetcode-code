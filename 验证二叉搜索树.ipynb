{
 "cells": [
  {
   "cell_type": "markdown",
   "id": "1f547b13",
   "metadata": {},
   "source": [
    "这是hot100的第43题：验证二叉搜索树 给你一个二叉树的根节点 root ，判断其是否是一个有效的二叉搜索树。\n",
    "\n",
    "有效 二叉搜索树定义如下：\n",
    "\n",
    "节点的左子树只包含 小于 当前节点的数。\n",
    "节点的右子树只包含 大于 当前节点的数。\n",
    "所有左子树和右子树自身必须也是二叉搜索树。"
   ]
  },
  {
   "cell_type": "code",
   "execution_count": null,
   "id": "27108574",
   "metadata": {},
   "outputs": [],
   "source": [
    "# Definition for a binary tree node.\n",
    "# class TreeNode:\n",
    "#     def __init__(self, val=0, left=None, right=None):\n",
    "#         self.val = val\n",
    "#         self.left = left\n",
    "#         self.right = right\n",
    "class Solution:\n",
    "    def isValidBST(self, root: Optional[TreeNode]) -> bool:\n",
    "        def isbst(node):\n",
    "            if not node:\n",
    "                return None,None,True\n",
    "            a,b,c =isbst(node.left)\n",
    "            d,e,f = isbst(node.right)\n",
    "            if (b == None or b < node.val) and (d == None or d > node.val) and c and f:\n",
    "                m = a if a else node.val\n",
    "                n = e if e else node.val\n",
    "                return m,n,True\n",
    "            else:\n",
    "                m = a if a else node.val\n",
    "                n = e if e else node.val\n",
    "                return m,n,False\n",
    "        o,p,q=isbst(root)\n",
    "        return q"
   ]
  },
  {
   "cell_type": "markdown",
   "id": "a95c6dc6",
   "metadata": {},
   "source": [
    "这个方法采用的是后序遍历，把左子树的最大最和右子树的小值取出，最后和节点比较，返回是不是二叉搜索树"
   ]
  },
  {
   "cell_type": "code",
   "execution_count": null,
   "id": "7b0992f8",
   "metadata": {},
   "outputs": [],
   "source": [
    "# Definition for a binary tree node.\n",
    "# class TreeNode:\n",
    "#     def __init__(self, val=0, left=None, right=None):\n",
    "#         self.val = val\n",
    "#         self.left = left\n",
    "#         self.right = right\n",
    "class Solution:\n",
    "    def isValidBST(self, root: Optional[TreeNode]) -> bool:\n",
    "        prev = None\n",
    "        def isbst(node):\n",
    "            nonlocal prev\n",
    "            if not node:\n",
    "                return True\n",
    "            if not isbst(node.left):\n",
    "                return False\n",
    "            if prev is not None and prev >= node.val:\n",
    "                return False\n",
    "            prev = node.val\n",
    "            return isbst(node.right)\n",
    "        return isbst(root)"
   ]
  },
  {
   "cell_type": "markdown",
   "id": "9689569d",
   "metadata": {},
   "source": [
    "中序遍历有一个特点，就是中序遍历一个二叉搜索树（左子树<节点<右子树），一定得到一个升序严格的序列，使用我们只需要比较相邻的两个数就可以了\n",
    "学到的地方：\n",
    "1.当外部变量在函数内部需要重新赋值时，要在内部用nonlocal声明，比如说字符，数字等，当时如果是迭代器，只进行像append的话，就不需要了，lis = []就会需要"
   ]
  }
 ],
 "metadata": {
  "language_info": {
   "name": "python"
  }
 },
 "nbformat": 4,
 "nbformat_minor": 5
}
