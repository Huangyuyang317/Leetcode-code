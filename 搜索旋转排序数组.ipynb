{
 "cells": [
  {
   "cell_type": "markdown",
   "id": "fc0b31f6",
   "metadata": {},
   "source": [
    "这是hot100的第66题：搜索旋转排序数组 整数数组 nums 按升序排列，数组中的值 互不相同 。\n",
    "\n",
    "在传递给函数之前，nums 在预先未知的某个下标 k（0 <= k < nums.length）上进行了 旋转，使数组变为 [nums[k], nums[k+1], ..., nums[n-1], nums[0], nums[1], ..., nums[k-1]]（下标 从 0 开始 计数）。例如， [0,1,2,4,5,6,7] 在下标 3 处经旋转后可能变为 [4,5,6,7,0,1,2] 。\n",
    "\n",
    "给你 旋转后 的数组 nums 和一个整数 target ，如果 nums 中存在这个目标值 target ，则返回它的下标，否则返回 -1 。\n",
    "\n",
    "你必须设计一个时间复杂度为 O(log n) 的算法解决此问题。"
   ]
  },
  {
   "cell_type": "code",
   "execution_count": null,
   "id": "3fabae7d",
   "metadata": {},
   "outputs": [],
   "source": [
    "class Solution:\n",
    "    def search(self, nums: List[int], target: int) -> int:\n",
    "        def seek(left,right):\n",
    "            nonlocal target\n",
    "            maxi = right\n",
    "            while left <= right:\n",
    "                mid = (left+right)//2\n",
    "                if nums[mid] < target:\n",
    "                    left = mid+1\n",
    "                else:\n",
    "                    right = mid-1\n",
    "            print(left,maxi)\n",
    "            if left > maxi or nums[left] != target:\n",
    "                return -1\n",
    "            else:\n",
    "                return left\n",
    "        left,right = 0,0   \n",
    "        if nums[0] <= nums[-1]:\n",
    "            left,right = 0,len(nums)-1\n",
    "        else:\n",
    "            m,n = 0,len(nums)-1\n",
    "            while m < n-1:\n",
    "                mid = (m+n)//2\n",
    "                if nums[mid] > nums[m]:\n",
    "                    m = mid\n",
    "                else:\n",
    "                    n = mid\n",
    "            if nums[-1] >= target:\n",
    "                left,right = n,len(nums)-1\n",
    "            if nums[0] <= target:\n",
    "                left,right = 0,m\n",
    "        return seek(left,right)"
   ]
  },
  {
   "cell_type": "markdown",
   "id": "cbedf9ae",
   "metadata": {},
   "source": [
    "这个的思路是使用两次二分法，第一次二分法，目的是找到断点，这里可以使用二分法是因为它部分有序，二分法在这里不需要找到mid-1+1，就是和mid，返回条件还是left大于right，返回之后呢，如果整个的左节点小于等于target，就会在左半边，如果是右节点大于target，就会在右半边"
   ]
  },
  {
   "cell_type": "code",
   "execution_count": null,
   "id": "052df6bc",
   "metadata": {},
   "outputs": [],
   "source": [
    "class Solution:\n",
    "    def search(self, nums: List[int], target: int) -> int:\n",
    "        def seek(left,right):\n",
    "            nonlocal target\n",
    "            while left <= right:\n",
    "                mid = (left+right)//2\n",
    "                if nums[mid] < target:\n",
    "                    left = mid+1\n",
    "                else:\n",
    "                    right = mid-1\n",
    "            if left > len(nums)-1 or nums[left] != target:\n",
    "                return -1\n",
    "            else:\n",
    "                return left\n",
    "\n",
    "        left,right = 0,len(nums)-1\n",
    "        while left <= right:\n",
    "            mid = (left+right)//2\n",
    "            if nums[mid] > nums[-1]:\n",
    "                left = mid+1\n",
    "            else:\n",
    "                right = mid-1\n",
    "        if target > nums[-1]:\n",
    "            left,right = 0,left-1\n",
    "        else:\n",
    "            left,right = left,len(nums)-1\n",
    "        return seek(left,right)"
   ]
  },
  {
   "cell_type": "markdown",
   "id": "2f6a6411",
   "metadata": {},
   "source": [
    "把代码写的优美一点了，第一步的找到分段点位的最小值，二分法，边界条件是left <= right的标准条件，比较对象是mid和-1的所在值的大小关系，如果大于，说明mid在左半段，left可以推进到mid+1，否则，说明mid在右半段，right可以推进到mid-1\n",
    "找到了之后，如果target小于nums[-1]说明在右半段，否则在左半段,注意啊，不要再用elif去框定了，因为这样很容易就忽略了一些范围，使用在这里用if else就行了"
   ]
  },
  {
   "cell_type": "code",
   "execution_count": null,
   "id": "3635bbb7",
   "metadata": {},
   "outputs": [],
   "source": [
    "class Solution:\n",
    "    def search(self, nums: List[int], target: int) -> int:\n",
    "        def check(i: int) -> bool:\n",
    "            x = nums[i]\n",
    "            if x > nums[-1]:\n",
    "                return target > nums[-1] and x >= target\n",
    "            return target > nums[-1] or x >= target\n",
    "\n",
    "        left, right = 0, len(nums) - 1  # 闭区间 [0, n-1]\n",
    "        while left <= right:  # 闭区间不为空\n",
    "            mid = (left + right) // 2\n",
    "            if check(mid):\n",
    "                right = mid - 1  # 向左搜索，越过mid\n",
    "            else:\n",
    "                left = mid + 1  # 向右搜索，越过mid\n",
    "        # 检查是否找到target\n",
    "        return left if left < len(nums) and nums[left] == target else -1"
   ]
  },
  {
   "cell_type": "markdown",
   "id": "7f70edda",
   "metadata": {},
   "source": [
    "这个只是使用了一次遍历，重点是什么时候right移动，也就是在nums[mid] > nums[-1]时，target>nums[-1]和<= nums[mid]，除此之外，还有就是nums[mid]<= nums[-1]时，target>nums[-1]或者nums[mid] >= target,注意，这里等于也要取，虽然right会错过了target，但是最后left回到这里来，因为之后，right就不会再移动了"
   ]
  }
 ],
 "metadata": {
  "language_info": {
   "name": "python"
  }
 },
 "nbformat": 4,
 "nbformat_minor": 5
}
