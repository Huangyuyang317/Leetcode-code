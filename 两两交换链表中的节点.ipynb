{
 "cells": [
  {
   "cell_type": "markdown",
   "id": "7332e072",
   "metadata": {},
   "source": [
    "这是hot100的第30题：两两交换链表中的节点 给你一个链表，两两交换其中相邻的节点，并返回交换后链表的头节点。你必须在不修改节点内部的值的情况下完成本题（即，只能进行节点交换）。"
   ]
  },
  {
   "cell_type": "code",
   "execution_count": null,
   "id": "dd0aca73",
   "metadata": {},
   "outputs": [],
   "source": [
    "# Definition for singly-linked list.\n",
    "# class ListNode:\n",
    "#     def __init__(self, val=0, next=None):\n",
    "#         self.val = val\n",
    "#         self.next = next\n",
    "class Solution:\n",
    "    def swapPairs(self, head: Optional[ListNode]) -> Optional[ListNode]:\n",
    "        s = ListNode(next=head)\n",
    "        cur = s\n",
    "        while cur and cur.next and cur.next.next:\n",
    "            l = cur.next\n",
    "            m = cur.next.next\n",
    "            cur.next = m\n",
    "            n = m.next if m.next else None\n",
    "            cur = l\n",
    "            m.next = l\n",
    "            l.next = n\n",
    "        return s.next\n",
    "    \n",
    "    "
   ]
  },
  {
   "cell_type": "markdown",
   "id": "d0d8c326",
   "metadata": {},
   "source": [
    "搞清楚逻辑迭代，很easy啊,用在下面把代码简化一下"
   ]
  },
  {
   "cell_type": "code",
   "execution_count": null,
   "id": "0fd993b0",
   "metadata": {},
   "outputs": [],
   "source": [
    "class Solution:\n",
    "    def swapPairs(self, head: Optional[ListNode]) -> Optional[ListNode]:\n",
    "        s = ListNode(next=head)\n",
    "        cur = s\n",
    "        while cur and cur.next and cur.next.next:\n",
    "            l = cur.next\n",
    "            m = l.next\n",
    "            cur.next,l.next,m.next = m,m.next,l\n",
    "            cur = l\n",
    "        return s.next"
   ]
  },
  {
   "cell_type": "markdown",
   "id": "6421a99b",
   "metadata": {},
   "source": [
    "还有一种递归算法"
   ]
  },
  {
   "cell_type": "code",
   "execution_count": null,
   "id": "eb4a0af5",
   "metadata": {},
   "outputs": [],
   "source": [
    "class Solution:\n",
    "    def swapPairs(self, head: Optional[ListNode]) -> Optional[ListNode]:\n",
    "        def swap(s):\n",
    "            if not s.next or not s.next.next:\n",
    "                return None\n",
    "            l = s.next\n",
    "            m = l.next\n",
    "            s.next,l.next,m.next = m,m.next,l\n",
    "            s = l\n",
    "            swap(s)\n",
    "        s = ListNode(next=head)\n",
    "        swap(s)\n",
    "        return s.next"
   ]
  }
 ],
 "metadata": {
  "language_info": {
   "name": "python"
  }
 },
 "nbformat": 4,
 "nbformat_minor": 5
}
