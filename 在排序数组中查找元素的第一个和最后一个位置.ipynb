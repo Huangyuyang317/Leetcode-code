{
 "cells": [
  {
   "cell_type": "markdown",
   "id": "44cfc4e2",
   "metadata": {},
   "source": [
    "这是hot100的第65题：在排序数组中查找元素的第一个和最后一个位置 给你一个按照非递减顺序排列的整数数组 nums，和一个目标值 target。请你找出给定目标值在数组中的开始位置和结束位置。\n",
    "\n",
    "如果数组中不存在目标值 target，返回 [-1, -1]。\n",
    "\n",
    "你必须设计并实现时间复杂度为 O(log n) 的算法解决此问题。\n"
   ]
  },
  {
   "cell_type": "code",
   "execution_count": null,
   "id": "86d32a59",
   "metadata": {},
   "outputs": [],
   "source": [
    "class Solution:\n",
    "    def searchRange(self, nums: List[int], target: int) -> List[int]:\n",
    "        left,right = 0,len(nums)-1\n",
    "        while left <= right:\n",
    "            mid = (left+right)//2\n",
    "            if nums[mid] < target:\n",
    "                left = mid+1\n",
    "            else:\n",
    "                right = mid-1\n",
    "        if left > len(nums)-1 or nums[left] != target:\n",
    "            return [-1,-1]\n",
    "        right = left\n",
    "        while True:\n",
    "            if right > len(nums)-1 or nums[right] != target:\n",
    "                return [left,right-1]\n",
    "            right += 1"
   ]
  },
  {
   "cell_type": "markdown",
   "id": "e0b7489b",
   "metadata": {},
   "source": [
    "还是一样的，二分查找找到left，如果left不是target的值或者left超出了范围，就说明没找到，否则就从left开始遍历，找到第一个不满足的，为right+1返回就好了"
   ]
  }
 ],
 "metadata": {
  "language_info": {
   "name": "python"
  }
 },
 "nbformat": 4,
 "nbformat_minor": 5
}
