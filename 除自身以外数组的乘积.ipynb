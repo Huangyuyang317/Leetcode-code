{
 "cells": [
  {
   "cell_type": "markdown",
   "id": "30d25cb1",
   "metadata": {},
   "source": [
    "这是hot100第14题：除自身以外数组的乘积给你一个整数数组 nums，返回 数组 answer ，其中 answer[i] 等于 nums 中除 nums[i] 之外其余各元素的乘积 。\n",
    "\n",
    "题目数据 保证 数组 nums之中任意元素的全部前缀元素和后缀的乘积都在  32 位 整数范围内。\n",
    "\n",
    "请 不要使用除法，且在 O(n) 时间复杂度内完成此题。"
   ]
  },
  {
   "cell_type": "code",
   "execution_count": null,
   "id": "dacd4782",
   "metadata": {},
   "outputs": [],
   "source": [
    "class Solution:\n",
    "    def productExceptSelf(self, nums: List[int]) -> List[int]:\n",
    "        ans = [1]\n",
    "        s = 1\n",
    "        for i in range(1,len(nums)):\n",
    "            ans.append(ans[i-1] * nums[i-1])\n",
    "        for i in range(len(nums)-1,-1,-1):\n",
    "            ans[i] = ans[i] * s\n",
    "            s = s * nums[i]\n",
    "        return ans"
   ]
  },
  {
   "cell_type": "markdown",
   "id": "a1110b81",
   "metadata": {},
   "source": [
    "秒了，简单的前缀积\n",
    "学到的地方\n",
    "如果没有提前设置好list长度，添加就不要用s[i]，用append"
   ]
  }
 ],
 "metadata": {
  "language_info": {
   "name": "python"
  }
 },
 "nbformat": 4,
 "nbformat_minor": 5
}
