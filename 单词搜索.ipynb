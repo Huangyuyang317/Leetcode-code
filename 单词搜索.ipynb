{
 "cells": [
  {
   "cell_type": "markdown",
   "id": "6f720b16",
   "metadata": {},
   "source": [
    "这是hot100的第60题：单词搜索 给定一个 m x n 二维字符网格 board 和一个字符串单词 word 。如果 word 存在于网格中，返回 true ；否则，返回 false 。\n",
    "\n",
    "单词必须按照字母顺序，通过相邻的单元格内的字母构成，其中“相邻”单元格是那些水平相邻或垂直相邻的单元格。同一个单元格内的字母不允许被重复使用。\n",
    "\n"
   ]
  },
  {
   "cell_type": "code",
   "execution_count": null,
   "id": "d908975c",
   "metadata": {},
   "outputs": [],
   "source": [
    "class Solution:\n",
    "    def exist(self, board: List[List[str]], word: str) -> bool:\n",
    "        m = len(word)\n",
    "        orient = [(1,0),(0,1),(-1,0),(0,-1)]\n",
    "\n",
    "        def dfs(i,j):\n",
    "            nonlocal l\n",
    "            if l == m:\n",
    "                return True\n",
    "            elif i in (-1,len(board)) or j in (-1,len(board[0])) or (board[i][j] != word[l]):\n",
    "                return False\n",
    "\n",
    "            l += 1\n",
    "            temp = board[i][j]\n",
    "            board[i][j] = '/'\n",
    "            for x,y in orient:\n",
    "                if dfs(i+x,j+y):\n",
    "                    return True\n",
    "            l -= 1\n",
    "            board[i][j] = temp\n",
    "            return False\n",
    "        \n",
    "        for i in range(len(board)):\n",
    "            for j in range(len(board[0])):\n",
    "                dic = dict()\n",
    "                l = 0\n",
    "                if dfs(i,j):\n",
    "                    return True\n",
    "        return False"
   ]
  },
  {
   "cell_type": "markdown",
   "id": "53473b00",
   "metadata": {},
   "source": [
    "回溯的思想，每次判断board[i][j]是不是word[l]，或者ij有没有超越边界，不满足就返回false，如果l已经访问完了word说明是true，返回\n",
    "当两者都不满足时，也就是board[i][j]是word[l]，那么要把board[i][j]变成‘/’说明已经遍历，在内部的后续不再访问，l += 1,然后朝着这个的四个方向探索,有没有word[l]不断迭代，如果有就返回了true，没有就在最后返回false了，当然在这个的四个角都访问完后，就要把board[i][j]恢复原状，这是套路要记住\n",
    "最后，把每个点都要执行一遍这个，找到一个true，就返回了\n",
    "\n",
    "这里学到的是：\n",
    "1.这种判断访问的，不要用字典储存访问过的下标，这样又慢又内存大，特别容易时间超出限制，用这种原地修改的就行了"
   ]
  },
  {
   "cell_type": "markdown",
   "id": "0cda361f",
   "metadata": {},
   "source": [
    "class Solution:\n",
    "    def exist(self, board: List[List[str]], word: str) -> bool:\n",
    "        m = len(word)\n",
    "        orient = [(1,0),(0,1),(-1,0),(0,-1)]\n",
    "        cnt = Counter(c for row in board for c in row)\n",
    "        if not cnt >= Counter(word):\n",
    "            return False\n",
    "        if cnt[word[-1]] < cnt[word[0]]:\n",
    "            word = word[::-1]\n",
    "        def dfs(i,j):\n",
    "            nonlocal l\n",
    "            if l == m:\n",
    "                return True\n",
    "            elif i in (-1,len(board)) or j in (-1,len(board[0])) or (board[i][j] != word[l]):\n",
    "                return False\n",
    "\n",
    "            l += 1\n",
    "            temp = board[i][j]\n",
    "            board[i][j] = '/'\n",
    "            for x,y in orient:\n",
    "                if dfs(i+x,j+y):\n",
    "                    return True\n",
    "            l -= 1\n",
    "            board[i][j] = temp\n",
    "            return False\n",
    "        \n",
    "        for i in range(len(board)):\n",
    "            for j in range(len(board[0])):\n",
    "                dic = dict()\n",
    "                l = 0\n",
    "                if dfs(i,j):\n",
    "                    return True\n",
    "        return False"
   ]
  },
  {
   "cell_type": "markdown",
   "id": "8f643886",
   "metadata": {},
   "source": [
    "这里加了两个优化策略：\n",
    "1.可行性剪枝，也就是board所有字母的counter，必须包括words，不然不可行\n",
    "2.顺序剪枝：如果board中word[-1]很少而word[0]很多，就可以先找word[-1]也就是把word反转过来"
   ]
  }
 ],
 "metadata": {
  "language_info": {
   "name": "python"
  }
 },
 "nbformat": 4,
 "nbformat_minor": 5
}
