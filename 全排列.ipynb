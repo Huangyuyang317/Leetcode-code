{
 "cells": [
  {
   "cell_type": "markdown",
   "id": "fb3a0f8d",
   "metadata": {},
   "source": [
    "这是hot100的第55题：全排列 给定一个不含重复数字的数组 nums ，返回其 所有可能的全排列 。你可以 按任意顺序 返回答案。\n"
   ]
  },
  {
   "cell_type": "code",
   "execution_count": null,
   "id": "c01bf064",
   "metadata": {},
   "outputs": [],
   "source": [
    "from collections import deque\n",
    "class Solution:\n",
    "    def permute(self, nums: List[int]) -> List[List[int]]:\n",
    "        ans = []\n",
    "        s = []\n",
    "        def sort(deque):\n",
    "            if not deque :\n",
    "                ans.append(s.copy())\n",
    "                return \n",
    "            for i in range(len(deque)):\n",
    "                cur = deque.popleft()\n",
    "                s.append(cur)\n",
    "                sort(deque)\n",
    "                s.pop()\n",
    "                deque.append(cur) \n",
    "        sort(deque(nums))\n",
    "        return ans\n"
   ]
  },
  {
   "cell_type": "markdown",
   "id": "13f003aa",
   "metadata": {},
   "source": [
    "回溯算法是一个非常套路化的题目，我不知道为什么会在这里卡住，应该是昨天想到的地方有问题，因为每一次函数执行，都会在sort哪里卡住，执行内部的sort，其空间使用程度，只有最开始的deque长度，后面的都是在deque上删减和增加，所以不会爆炸，而原来想到的方法就会有爆炸\n",
    "这里学到的：\n",
    "1.deque的方法是popleft\n",
    "2.在回溯的时候，先要把它pop出来，之后递归，在最后appen回去\n",
    "3.list变成deque，直接deque(list)"
   ]
  }
 ],
 "metadata": {
  "kernelspec": {
   "display_name": "Python 3",
   "language": "python",
   "name": "python3"
  },
  "language_info": {
   "codemirror_mode": {
    "name": "ipython",
    "version": 3
   },
   "file_extension": ".py",
   "mimetype": "text/x-python",
   "name": "python",
   "nbconvert_exporter": "python",
   "pygments_lexer": "ipython3",
   "version": "3.9.6"
  }
 },
 "nbformat": 4,
 "nbformat_minor": 5
}
