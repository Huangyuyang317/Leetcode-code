{
 "cells": [
  {
   "cell_type": "markdown",
   "id": "39b52c85",
   "metadata": {},
   "source": [
    "这是hot100的第95题：编辑距离 给你两个单词 word1 和 word2， 请返回将 word1 转换成 word2 所使用的最少操作数  。\n",
    "\n",
    "你可以对一个单词进行如下三种操作：\n",
    "\n",
    "插入一个字符\n",
    "删除一个字符\n",
    "替换一个字符"
   ]
  },
  {
   "cell_type": "code",
   "execution_count": null,
   "id": "e461ac71",
   "metadata": {},
   "outputs": [],
   "source": [
    "class Solution:\n",
    "    def minDistance(self, word1: str, word2: str) -> int:\n",
    "        dp = [[0 for i in range(len(word2)+1)]for i in range(len(word1)+1)]\n",
    "        for i in range(len(word1)+1):\n",
    "            dp[i][0] = i\n",
    "        for j in range(len(word2)+1):\n",
    "            dp[0][j] = j\n",
    "        for i in range(len(word1)):\n",
    "            for j in range(len(word2)):\n",
    "                if word1[i] == word2[j]:\n",
    "                    dp[i+1][j+1] = dp[i][j]\n",
    "                else:\n",
    "                    dp[i+1][j+1] = min(dp[i][j]+1,dp[i+1][j]+1,dp[i][j+1]+1)\n",
    "        return dp[-1][-1]"
   ]
  },
  {
   "cell_type": "markdown",
   "id": "ac906e21",
   "metadata": {},
   "source": [
    "这个的思路我从一开始就有了问题，把问题想的太复杂了，想着把两个ij的长度比较，其实只需要考虑text1[i] text2[j]相不相等，相等就把dfs(i-1,j-1)，如果不想等，我们有三种办法让它们相等，替换(把text1[i]换了,然后和text2[j]消去 dfs(i-1,j-1)+1) 添加(在text1后面加text2[j]，相当于把text2[j]删去 dfs(i,j-1)+1) 删除(既然text1[i]和text2[j]不相等，我们把text1[i]删掉就行了 dfs(i-1,j)+1)，三者取最小值最后完成"
   ]
  },
  {
   "cell_type": "code",
   "execution_count": null,
   "id": "5564a36d",
   "metadata": {},
   "outputs": [],
   "source": [
    "class Solution:\n",
    "    def minDistance(self, word1: str, word2: str) -> int:\n",
    "        dp = [0 for i in range(len(word2)+1)]\n",
    "        for j in range(len(word2)+1):\n",
    "            dp[j] = j\n",
    "        for i in range(len(word1)):\n",
    "            l,dp[0] = dp[0],i+1\n",
    "            for j in range(len(word2)):\n",
    "                k = dp[j+1]\n",
    "                if word1[i] == word2[j]:\n",
    "                    dp[j+1] = l\n",
    "                else:\n",
    "                    dp[j+1] = min(l,dp[j],dp[j+1])+1\n",
    "                l = k\n",
    "        return dp[-1]"
   ]
  },
  {
   "cell_type": "markdown",
   "id": "a0ad321f",
   "metadata": {},
   "source": [
    "这个是在空间复杂度上的简化，注意到了dp每次只使用了上次的dp，使用只用一个数组加临时变量储存起来就可以了"
   ]
  }
 ],
 "metadata": {
  "language_info": {
   "name": "python"
  }
 },
 "nbformat": 4,
 "nbformat_minor": 5
}
