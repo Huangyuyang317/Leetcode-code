{
 "cells": [
  {
   "cell_type": "markdown",
   "id": "851cfe5c",
   "metadata": {},
   "source": [
    "这是hot100第25题：环形链表 给你一个链表的头节点 head ，判断链表中是否有环。\n",
    "\n",
    "如果链表中有某个节点，可以通过连续跟踪 next 指针再次到达，则链表中存在环。 为了表示给定链表中的环，评测系统内部使用整数 pos 来表示链表尾连接到链表中的位置（索引从 0 开始）。注意：pos 不作为参数进行传递 。仅仅是为了标识链表的实际情况。\n",
    "\n",
    "如果链表中存在环 ，则返回 true 。 否则，返回 false 。"
   ]
  },
  {
   "cell_type": "code",
   "execution_count": null,
   "id": "b40b0ab2",
   "metadata": {},
   "outputs": [],
   "source": [
    "# Definition for singly-linked list.\n",
    "# class ListNode:\n",
    "#     def __init__(self, x):\n",
    "#         self.val = x\n",
    "#         self.next = None\n",
    "\n",
    "class Solution:\n",
    "    def hasCycle(self, head: Optional[ListNode]) -> bool:\n",
    "        if head == None or head.next == None or head.next.next == None:\n",
    "            return False\n",
    "        m = head.next.next\n",
    "        head = head.next\n",
    "        while head.next and m.next and m.next.next:\n",
    "            if head == m:\n",
    "                return True\n",
    "            m = m.next.next\n",
    "            head = head.next\n",
    "        return False"
   ]
  },
  {
   "cell_type": "markdown",
   "id": "a3462d1c",
   "metadata": {},
   "source": [
    "快慢指针秒了，先判断一下指针能不能移动两次就行了"
   ]
  }
 ],
 "metadata": {
  "language_info": {
   "name": "python"
  }
 },
 "nbformat": 4,
 "nbformat_minor": 5
}
