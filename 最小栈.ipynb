{
 "cells": [
  {
   "cell_type": "markdown",
   "id": "70d1a010",
   "metadata": {},
   "source": [
    "这是hot100的第70题：最小栈 设计一个支持 push ，pop ，top 操作，并能在常数时间内检索到最小元素的栈。\n",
    "\n",
    "实现 MinStack 类:\n",
    "\n",
    "MinStack() 初始化堆栈对象。\n",
    "void push(int val) 将元素val推入堆栈。\n",
    "void pop() 删除堆栈顶部的元素。\n",
    "int top() 获取堆栈顶部的元素。\n",
    "int getMin() 获取堆栈中的最小元素。"
   ]
  },
  {
   "cell_type": "code",
   "execution_count": null,
   "id": "bbefe970",
   "metadata": {},
   "outputs": [],
   "source": [
    "import heapq\n",
    "class MinStack:\n",
    "\n",
    "    def __init__(self):\n",
    "        self.lis = []\n",
    "        self.hp = []\n",
    "\n",
    "    def push(self, val: int) -> None:\n",
    "        self.lis.append(val)\n",
    "        heapq.heappush(self.hp,val)\n",
    "        \n",
    "\n",
    "    def pop(self) -> None:\n",
    "        val = self.lis.pop()\n",
    "        self.hp.remove(val)\n",
    "        heapq.heapify(self.hp)\n",
    "        \n",
    "\n",
    "    def top(self) -> int:\n",
    "        return self.lis[-1]\n",
    "\n",
    "    def getMin(self) -> int:\n",
    "        val = self.hp[0]\n",
    "        return val\n"
   ]
  },
  {
   "cell_type": "markdown",
   "id": "f3ed5934",
   "metadata": {},
   "source": [
    "我用的最小值方法，是再加了辅助的最小堆，题解的方法，是因为栈的LIFO，只是pop之后，前面的值不会改变，所以在这个点之前的最小值也不会改变"
   ]
  },
  {
   "cell_type": "code",
   "execution_count": null,
   "id": "a3b632bb",
   "metadata": {},
   "outputs": [],
   "source": [
    "import heapq\n",
    "class MinStack:\n",
    "\n",
    "    def __init__(self):\n",
    "        self.stack = []\n",
    "\n",
    "    def push(self, val: int) -> None:\n",
    "        if self.stack == []:\n",
    "            self.stack.append((val,val))\n",
    "        else:\n",
    "            self.stack.append((val,min(val,self.stack[-1][1])))\n",
    "        \n",
    "\n",
    "    def pop(self) -> None:\n",
    "        self.stack.pop()\n",
    "        \n",
    "\n",
    "    def top(self) -> int:\n",
    "        return self.stack[-1][0]\n",
    "\n",
    "    def getMin(self) -> int:\n",
    "        return self.stack[-1][1]\n"
   ]
  }
 ],
 "metadata": {
  "kernelspec": {
   "display_name": "Python 3",
   "language": "python",
   "name": "python3"
  },
  "language_info": {
   "codemirror_mode": {
    "name": "ipython",
    "version": 3
   },
   "file_extension": ".py",
   "mimetype": "text/x-python",
   "name": "python",
   "nbconvert_exporter": "python",
   "pygments_lexer": "ipython3",
   "version": "3.9.6"
  }
 },
 "nbformat": 4,
 "nbformat_minor": 5
}
