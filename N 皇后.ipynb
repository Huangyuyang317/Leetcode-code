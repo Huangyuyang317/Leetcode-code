{
 "cells": [
  {
   "cell_type": "markdown",
   "id": "59321128",
   "metadata": {},
   "source": [
    "这是hot100的第62题：N 皇后"
   ]
  },
  {
   "cell_type": "code",
   "execution_count": null,
   "id": "208f4898",
   "metadata": {},
   "outputs": [],
   "source": [
    "class Solution:\n",
    "    def solveNQueens(self, n: int) -> List[List[str]]:\n",
    "        ans = []\n",
    "        temp = [''.join(['.' for i in range(n)]) for j in range(n)]\n",
    "        d1= {k:1 for k in [i for i in range(n)]}\n",
    "        d2 = {k:1 for k in [i for i in range(2*n-1)]}\n",
    "        d3 = {k:1 for k in [i for i in range(-1-n,n)]}\n",
    "        def dfs(i,temp):\n",
    "            if i == n:\n",
    "                ans.append(temp.copy())\n",
    "            m = list(d1.keys()).copy()\n",
    "            for j in m:\n",
    "                if i+j in d2 and i-j in d3:\n",
    "                    temp[i] = temp[i][:j] + 'Q' + temp[i][j+1:]\n",
    "                    del d1[j]\n",
    "                    del d2[i+j]\n",
    "                    del d3[i-j]\n",
    "                    dfs(i+1,temp)\n",
    "                    temp[i] = temp[i][:j]+'.'+temp[i][j+1:]\n",
    "                    d1[j] = 1\n",
    "                    d2[i+j] = 1\n",
    "                    d3[i-j] = 1\n",
    "        dfs(0,temp)\n",
    "        return ans"
   ]
  },
  {
   "cell_type": "markdown",
   "id": "e44f71e8",
   "metadata": {},
   "source": [
    "这个的方法是采用了多个字典记录是否该指标被占用，按照行来遍历，字典记录是同一列，同一主对角线，同一副对角线有没有被占用，否则就跳过这个\n",
    "这里学到的：\n",
    "1.字符串不能改变，使用只改变一个时，就用列表的切片相加的方法 s = s[:j]+……+s[j+1:]"
   ]
  }
 ],
 "metadata": {
  "kernelspec": {
   "display_name": "Python 3",
   "language": "python",
   "name": "python3"
  },
  "language_info": {
   "codemirror_mode": {
    "name": "ipython",
    "version": 3
   },
   "file_extension": ".py",
   "mimetype": "text/x-python",
   "name": "python",
   "nbconvert_exporter": "python",
   "pygments_lexer": "ipython3",
   "version": "3.9.6"
  }
 },
 "nbformat": 4,
 "nbformat_minor": 5
}
