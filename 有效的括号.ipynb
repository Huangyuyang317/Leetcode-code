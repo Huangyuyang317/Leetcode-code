{
 "cells": [
  {
   "cell_type": "markdown",
   "id": "f24dba9c",
   "metadata": {},
   "source": [
    "这是hot100的第69题:有效的括号 给定一个只包括 '('，')'，'{'，'}'，'['，']' 的字符串 s ，判断字符串是否有效。\n",
    "\n",
    "有效字符串需满足：\n",
    "\n",
    "左括号必须用相同类型的右括号闭合。\n",
    "左括号必须以正确的顺序闭合。\n",
    "每个右括号都有一个对应的相同类型的左括号。"
   ]
  },
  {
   "cell_type": "code",
   "execution_count": null,
   "id": "8ed80f55",
   "metadata": {},
   "outputs": [],
   "source": [
    "class Solution:\n",
    "    def isValid(self, s: str) -> bool:\n",
    "        ans = []\n",
    "        dic = {'(':')','{':'}','[':']'}\n",
    "        for i in s:\n",
    "            if ans == [] or i in dic:\n",
    "                ans.append(i)\n",
    "            elif ans[-1] in dic and i == dic[ans[-1]]:\n",
    "                ans.pop()\n",
    "            else:\n",
    "                return False\n",
    "        return not ans"
   ]
  }
 ],
 "metadata": {
  "language_info": {
   "name": "python"
  }
 },
 "nbformat": 4,
 "nbformat_minor": 5
}
