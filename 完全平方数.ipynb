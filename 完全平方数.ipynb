{
 "cells": [
  {
   "cell_type": "markdown",
   "id": "8e0df752",
   "metadata": {},
   "source": [
    "这是hot100的第84题：完全平方数 给你一个整数 n ，返回 和为 n 的完全平方数的最少数量 。\n",
    "\n",
    "完全平方数 是一个整数，其值等于另一个整数的平方；换句话说，其值等于一个整数自乘的积。例如，1、4、9 和 16 都是完全平方数，而 3 和 11 不是。"
   ]
  },
  {
   "cell_type": "code",
   "execution_count": null,
   "id": "ea606194",
   "metadata": {},
   "outputs": [],
   "source": [
    "class Solution:\n",
    "    def numSquares(self, n: int) -> int:\n",
    "        num = []\n",
    "        s = [-1]*(n+1)\n",
    "        i = 1\n",
    "        while i*i <= n:\n",
    "            s[i*i] = 1\n",
    "            num.append(i*i)\n",
    "            i += 1\n",
    "        num.append(i*i)   \n",
    "        def dfs(i):\n",
    "            if s[i] != -1:\n",
    "                return s[i]\n",
    "            temp,j = i,0\n",
    "            while num[j] <= i:\n",
    "                temp = min(temp,dfs(i-num[j]))\n",
    "                j += 1\n",
    "            s[i] = 1+temp\n",
    "            return s[i]\n",
    "        ans = dfs(n)\n",
    "        return ans"
   ]
  },
  {
   "cell_type": "markdown",
   "id": "092339dd",
   "metadata": {},
   "source": [
    "这个的思路也是记忆化搜索，每次减去一个平方数，相当于次数加一，然后把剩下减去的平方数再放入递归，找到最小值，再加1也就是这个数的最小次数，最后返回dfs的n"
   ]
  },
  {
   "cell_type": "code",
   "execution_count": null,
   "id": "db4ed9b6",
   "metadata": {},
   "outputs": [],
   "source": [
    "class Solution:\n",
    "    def numSquares(self, n: int) -> int:\n",
    "        s = []\n",
    "        for i in range(isqrt(n)+1):\n",
    "            s.append(i**2)\n",
    "        ans = [inf for i in range(n+1)]\n",
    "        ans[0] = 0\n",
    "        for i in range(n+1):\n",
    "            for j in s:\n",
    "                if j > i:\n",
    "                    break\n",
    "                ans[i] = min(ans[i],ans[i-j]+1)\n",
    "        return ans[-1]"
   ]
  },
  {
   "cell_type": "markdown",
   "id": "bc9f79ed",
   "metadata": {},
   "source": [
    "这个省去了递归的时间开销，也更容易理解，对每个数进行s中的遍历"
   ]
  },
  {
   "cell_type": "code",
   "execution_count": null,
   "id": "e59f6fad",
   "metadata": {},
   "outputs": [],
   "source": [
    "class Solution:\n",
    "    def numSquares(self, n: int) -> int:\n",
    "        def is_square(n):\n",
    "            return isqrt(n)**2 == n\n",
    "        if is_square(n):\n",
    "            return 1\n",
    "        i = 1\n",
    "        while i * i <= n:\n",
    "            if is_square(n - i * i):\n",
    "                return 2\n",
    "            i += 1\n",
    "        while  n % 4 == 0:\n",
    "            n //= 4\n",
    "        if n %8 == 7:\n",
    "            return 4\n",
    "        else:\n",
    "            return 3"
   ]
  },
  {
   "cell_type": "markdown",
   "id": "d4f20e14",
   "metadata": {},
   "source": [
    "四数平方定理，一个数最多由四个平方数组成，且能由四个组成的数，必须形式为(4^k)*(8m+7)"
   ]
  }
 ],
 "metadata": {
  "language_info": {
   "name": "python"
  }
 },
 "nbformat": 4,
 "nbformat_minor": 5
}
