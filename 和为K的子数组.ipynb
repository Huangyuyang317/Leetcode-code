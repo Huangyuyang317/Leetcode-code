{
 "cells": [
  {
   "cell_type": "markdown",
   "id": "98355108",
   "metadata": {},
   "source": [
    "这是hot100的第10题：和为K的子数组 给你一个整数数组 nums 和一个整数 k ，请你统计并返回 该数组中和为 k 的子数组的个数 。\n",
    "\n",
    "子数组是数组中元素的连续非空序列。"
   ]
  },
  {
   "cell_type": "code",
   "execution_count": null,
   "id": "28cc9c1a",
   "metadata": {},
   "outputs": [],
   "source": [
    "class Solution:\n",
    "    def subarraySum(self, nums: List[int], k: int) -> int:\n",
    "        j = 0\n",
    "        ans = 0\n",
    "        n = k\n",
    "        for i in range(len(nums)):\n",
    "            if n == nums[i]:\n",
    "                ans += 1\n",
    "                j += 1\n",
    "            if n > nums[i]:\n",
    "                n -= nums[i]\n",
    "            if n < nums[i] and k < nums[i]:\n",
    "                j = i + 1\n",
    "                n = k\n",
    "            if n < nums[i] and k > nums[i]:\n",
    "                while n < nums[i]:\n",
    "                    n += nums[j]\n",
    "                    j += 1\n",
    "                n = n - nums[i]\n",
    "            if n < nums[i] and k == nums[i]:\n",
    "                ans += 1\n",
    "                j = i + 1\n",
    "                n = k\n",
    "        return ans"
   ]
  },
  {
   "cell_type": "markdown",
   "id": "7adcf0a3",
   "metadata": {},
   "source": [
    "这个是双指针算法，对子数组之和只能在数组内容非0时才能用，这个没有这个限制，用不了"
   ]
  },
  {
   "cell_type": "code",
   "execution_count": null,
   "id": "3e224412",
   "metadata": {},
   "outputs": [],
   "source": [
    "class Solution:\n",
    "    def subarraySum(self, nums: List[int], k: int) -> int:\n",
    "        s = []\n",
    "        d = dict()\n",
    "        ans = 0\n",
    "        for i in range(len(nums)):\n",
    "            if i == 0:\n",
    "                s.append(nums[i])\n",
    "                d[s[0]] = i\n",
    "            else:\n",
    "                s.append(nums[i]+s[i-1])\n",
    "                if s[i] in d:\n",
    "                    d[s[i]] = max(d[s[i]],i)\n",
    "                else:\n",
    "                    d[s[i]] = i\n",
    "        for i in range(len(nums)):\n",
    "            if k + s[i] in d and d[s[i]+k] > i:\n",
    "                ans += 1\n",
    "        return ans"
   ]
  },
  {
   "cell_type": "markdown",
   "id": "40b9a890",
   "metadata": {},
   "source": [
    "这个按理来说，时间复杂度也是O(N^2)，但是还是在有的情况下会超时，比如说全是0的时候，就运算超时了"
   ]
  },
  {
   "cell_type": "code",
   "execution_count": null,
   "id": "bf231dde",
   "metadata": {},
   "outputs": [],
   "source": [
    "class Solution:\n",
    "    def subarraySum(self, nums: List[int], k: int) -> int:\n",
    "        s = []\n",
    "        d = dict()\n",
    "        d[0] = 1\n",
    "        ans = 0\n",
    "        for i in range(len(nums)):\n",
    "            if i == 0:\n",
    "                s.append(nums[0])\n",
    "            else:\n",
    "                s.append(s[i-1]+nums[i])\n",
    "            if s[i] - k in d:\n",
    "                ans += d[s[i]-k]\n",
    "            if s[i] in d:\n",
    "                d[s[i]] += 1\n",
    "            else:\n",
    "                d[s[i]] = 1\n",
    "        return ans\n"
   ]
  },
  {
   "cell_type": "markdown",
   "id": "435c89c4",
   "metadata": {},
   "source": [
    "这个是我在前缀和的算法中根据运行时间进行优化，前面的算法之所以会有超时，是因为在将前缀和计算完成再遍历相关的字典，此时我们要求满足s[i]-k的j要小于i，所以要对字典中的值做成列表，遍历满足s[i]-k的j与i的判断，那时间复杂度就会高很多，遇到无穷个0的nums时，就运行超时，所以我们一边添加nums[i]的前缀和s[i]，同时判断之前有没有满足的s[i]-k，当然这个就不用判断j小于i了，因为是之前添加的；除此之外比之前的算法改进，还将字典的值由列表变成了值，即在当前值之前的满足s[i]-k的数的数量，不用判断了。"
   ]
  }
 ],
 "metadata": {
  "kernelspec": {
   "display_name": "Python 3",
   "language": "python",
   "name": "python3"
  },
  "language_info": {
   "codemirror_mode": {
    "name": "ipython",
    "version": 3
   },
   "file_extension": ".py",
   "mimetype": "text/x-python",
   "name": "python",
   "nbconvert_exporter": "python",
   "pygments_lexer": "ipython3",
   "version": "3.9.6"
  }
 },
 "nbformat": 4,
 "nbformat_minor": 5
}
