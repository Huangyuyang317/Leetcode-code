{
 "cells": [
  {
   "cell_type": "markdown",
   "id": "e3b890fd",
   "metadata": {},
   "source": [
    "这是hot100的第79题：跳跃游戏 II 给定一个长度为 n 的 0 索引整数数组 nums。初始位置为 nums[0]。\n",
    "\n",
    "每个元素 nums[i] 表示从索引 i 向后跳转的最大长度。换句话说，如果你在索引 i 处，你可以跳转到任意 (i + j) 处：\n",
    "\n",
    "0 <= j <= nums[i] 且\n",
    "i + j < n\n",
    "返回到达 n - 1 的最小跳跃次数。测试用例保证可以到达 n - 1。"
   ]
  },
  {
   "cell_type": "code",
   "execution_count": null,
   "id": "ea4202c6",
   "metadata": {},
   "outputs": [],
   "source": [
    "class Solution:\n",
    "    def jump(self, nums: List[int]) -> int:\n",
    "        step = [inf for i in range(len(nums))]\n",
    "        step[0] = 0\n",
    "        for i in range(len(nums)):\n",
    "            for j in range(nums[i]):\n",
    "                if i+j+1 < len(nums):\n",
    "                    step[i+j+1] = min(step[i]+1,step[i+j+1])\n",
    "        return step[-1]"
   ]
  },
  {
   "cell_type": "markdown",
   "id": "af3d07f8",
   "metadata": {},
   "source": [
    "这个最简单，也就是一步步遍历，得到最后的结果，但是时间复杂度O(N^2)不合适"
   ]
  },
  {
   "cell_type": "code",
   "execution_count": null,
   "id": "e14bc619",
   "metadata": {},
   "outputs": [],
   "source": [
    "class Solution:\n",
    "    def jump(self, nums):\n",
    "        prefar,far = 0,0\n",
    "        cnt = 0\n",
    "        for i in range(len(nums)):\n",
    "            if i > prefar:\n",
    "              prefar = far\n",
    "              cnt += 1\n",
    "            far = max(far,i+nums[i])\n",
    "        return cnt"
   ]
  },
  {
   "cell_type": "markdown",
   "id": "fad6b630",
   "metadata": {},
   "source": [
    "思路也不难，就是看第k步也就是当前跳跃最远（prefa）能到多远，每到k步能到的一个点的时候，更新第k+1步的最远距离（far），超过prefar后，far赋值到prefar，知道遍历结束"
   ]
  }
 ],
 "metadata": {
  "language_info": {
   "name": "python"
  }
 },
 "nbformat": 4,
 "nbformat_minor": 5
}
