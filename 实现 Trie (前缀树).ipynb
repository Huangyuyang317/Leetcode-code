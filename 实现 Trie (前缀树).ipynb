{
 "cells": [
  {
   "cell_type": "markdown",
   "id": "8bd337c9",
   "metadata": {},
   "source": [
    "这是hot100的第54题：实现 Trie (前缀树) Trie（发音类似 \"try\"）或者说 前缀树 是一种树形数据结构，用于高效地存储和检索字符串数据集中的键。这一数据结构有相当多的应用情景，例如自动补全和拼写检查。\n",
    "\n",
    "请你实现 Trie 类：\n",
    "\n",
    "Trie() 初始化前缀树对象。\n",
    "void insert(String word) 向前缀树中插入字符串 word 。\n",
    "boolean search(String word) 如果字符串 word 在前缀树中，返回 true（即，在检索之前已经插入）；否则，返回 false 。\n",
    "boolean startsWith(String prefix) 如果之前已经插入的字符串 word 的前缀之一为 prefix ，返回 true ；否则，返回 false 。"
   ]
  },
  {
   "cell_type": "code",
   "execution_count": null,
   "id": "c5f4c37c",
   "metadata": {},
   "outputs": [],
   "source": [
    "class node:\n",
    "    __slot__ = 'son','end'\n",
    "    def __init__(self):\n",
    "        self.son = dict()\n",
    "        self.end = False\n",
    "\n",
    "class Trie:\n",
    "    def __init__(self):\n",
    "        self.root = node()\n",
    "    def insert(self, word: str) -> None:\n",
    "        cur = self.root\n",
    "        for c in word:\n",
    "            if c not in cur.son:\n",
    "                cur.son[c] = node()\n",
    "            cur = cur.son[c]\n",
    "        cur.end = True\n",
    "\n",
    "    def search(self, word: str) -> bool:\n",
    "        cur = self.root\n",
    "        for c in word:\n",
    "            if c not in cur.son:\n",
    "                return False\n",
    "            cur = cur.son[c]\n",
    "        return  cur.end == True\n",
    "\n",
    "    def startsWith(self, prefix: str) -> bool:\n",
    "        cur = self.root\n",
    "        for c in prefix:\n",
    "            if c not in cur.son:\n",
    "                return False\n",
    "            cur = cur.son[c]\n",
    "        return  True\n",
    "\n",
    "\n",
    "# Your Trie object will be instantiated and called as such:\n",
    "# obj = Trie()\n",
    "# obj.insert(word)\n",
    "# param_2 = obj.search(word)\n",
    "# param_3 = obj.startsWith(prefix)"
   ]
  },
  {
   "cell_type": "markdown",
   "id": "be36693b",
   "metadata": {},
   "source": [
    "这个题目不是我想出来的，因为我确实没想到怎么高效储存相同前缀的方法，这里告诉我的方法是，用node嵌套储存，每个开始的node是一个初始节点，node的son储存每个字符串的第一个字符，如果c在son中，就把cur = cur.son[c]，不在的话，就把cur.son创造一个(c:node)的键值对，这样就可以储存了，startwith和search就靠end是检查完后true还是false了"
   ]
  }
 ],
 "metadata": {
  "language_info": {
   "name": "python"
  }
 },
 "nbformat": 4,
 "nbformat_minor": 5
}
