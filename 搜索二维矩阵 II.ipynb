{
 "cells": [
  {
   "cell_type": "markdown",
   "id": "d4f6d9e3",
   "metadata": {},
   "source": [
    "这是hot100第21题：搜索二维矩阵 II编写一个高效的算法来搜索 m x n 矩阵 matrix 中的一个目标值 target 。该矩阵具有以下特性：\n",
    "\n",
    "每行的元素从左到右升序排列。\n",
    "每列的元素从上到下升序排列。\n"
   ]
  },
  {
   "cell_type": "code",
   "execution_count": null,
   "id": "12a5dce0",
   "metadata": {},
   "outputs": [],
   "source": [
    "class Solution:\n",
    "    def searchMatrix(self, matrix: List[List[int]], target: int) -> bool:\n",
    "        if target < matrix[0][0] or target > matrix[-1][-1]:\n",
    "            return False\n",
    "        i=j=l=m=0\n",
    "        while True:\n",
    "            if matrix[i][j] == target:\n",
    "                return True\n",
    "            elif matrix[i][j] < target:\n",
    "                l = i\n",
    "                m = j\n",
    "                if i == len(matrix)-1 or (j<len(matrix[0])-1 and matrix[i][j+1]<=target and matrix[i][j+1]>matrix[i+1][j]) or (j < len(matrix[0])-1 and matrix[i+1][j]>target and target>=matrix[i][j+1]):\n",
    "                    j += 1\n",
    "                else:\n",
    "                    i += 1\n",
    "            elif matrix[i][j] > target:\n",
    "                if l == i:\n",
    "                    while i > 0:\n",
    "                        print(i,j)\n",
    "                        if matrix[i][j] == target:\n",
    "                            return True\n",
    "                        elif matrix[i][j] < target:\n",
    "                            break\n",
    "                        i -= 1\n",
    "                    return False\n",
    "                elif m == j:\n",
    "                    print(i,j)\n",
    "                    while j > 0:\n",
    "                        if matrix[i][j] == target:\n",
    "                            return True\n",
    "                        elif matrix[i][j] < target:\n",
    "                            break\n",
    "                        j -= 1\n",
    "                    return False\n",
    "            print(i,j)"
   ]
  },
  {
   "cell_type": "markdown",
   "id": "fdfdbe18",
   "metadata": {},
   "source": [
    "以上算法有问题，回退的时候，不是只要一行的回退，这样会有问题，查找会有缺漏\n",
    "\n",
    "下面的思路利用的是递增的结构特点，快速锁定到特定数据所在第，我之前的思路也是找到一个比它大，一个比它小的值，然后在这两个值未排除的地方遍历，但是之前那个每次只移动了一步，排除的地方不够多，还可以继续优化"
   ]
  },
  {
   "cell_type": "code",
   "execution_count": null,
   "id": "e94419c5",
   "metadata": {},
   "outputs": [],
   "source": [
    "class Solution:\n",
    "    def searchMatrix(self, matrix: List[List[int]], target: int) -> bool:\n",
    "        i = 0\n",
    "        j = len(matrix[0]) - 1\n",
    "        if target > matrix[-1][-1] or target < matrix[0][0]:\n",
    "            return False\n",
    "        while i <= len(matrix)-1 and j >= 0:\n",
    "            if matrix[i][j] == target:\n",
    "                return True\n",
    "            elif matrix[i][j] > target:\n",
    "                j -= 1\n",
    "            elif matrix[i][j] < target:\n",
    "                i += 1\n",
    "        return False\n"
   ]
  },
  {
   "cell_type": "markdown",
   "id": "83671bed",
   "metadata": {},
   "source": [
    "这是根据消除的方法，最右上和左下的数最特殊，在列中是最值，在行中是相反的最值，所以右上与target比较后，必定可以删除一行或者一列，将ij移动相当于变相的删除，然后直到碰到边界"
   ]
  },
  {
   "cell_type": "code",
   "execution_count": null,
   "id": "32a73d6d",
   "metadata": {},
   "outputs": [],
   "source": [
    "class Solution:\n",
    "    def searchMatrix(self, matrix: List[List[int]], target: int) -> bool:\n",
    "        i = 0\n",
    "        j = len(matrix[0]) - 1\n",
    "        if target > matrix[-1][-1] or target < matrix[0][0]:\n",
    "            return False\n",
    "        while i != len(matrix)-1 or j != 0:\n",
    "            if matrix[i][j] == target:\n",
    "                return True\n",
    "            elif matrix[i][j] > target and j == 0:\n",
    "                return False\n",
    "            elif matrix[i][j] > target and j != 0:\n",
    "                j -= 1\n",
    "            elif matrix[i][j] < target and i == len(matrix)-1:\n",
    "                return True\n",
    "            elif matrix[i][j] < target and i != len(matrix)-1:\n",
    "                i += 1"
   ]
  },
  {
   "cell_type": "code",
   "execution_count": null,
   "id": "9c852456",
   "metadata": {},
   "outputs": [],
   "source": [
    "class Solution:\n",
    "    def searchMatrix(self, matrix: List[List[int]], target: int) -> bool:\n",
    "        m, n = len(matrix), len(matrix[0])\n",
    "        i, j = 0, n - 1  # 从右上角开始\n",
    "        while i < m and j >= 0:  # 还有剩余元素\n",
    "            if matrix[i][j] == target:\n",
    "                return True  # 找到 target\n",
    "            if matrix[i][j] < target:\n",
    "                i += 1  # 这一行剩余元素全部小于 target，排除\n",
    "            else:\n",
    "                j -= 1  # 这一列剩余元素全部大于 target，排除\n",
    "        return False"
   ]
  },
  {
   "cell_type": "markdown",
   "id": "e3230dc7",
   "metadata": {},
   "source": [
    "还有一个更逆天的方法，就是把它逆时针转45度，就会发现其形似二叉树，左边节点小于根节点小于右节点，这样我们可以使用二分查找搜索，直到查找出边界或者到了底部"
   ]
  },
  {
   "cell_type": "code",
   "execution_count": null,
   "id": "b1fcadae",
   "metadata": {},
   "outputs": [],
   "source": [
    "class Solution:\n",
    "    def searchMatrix(self, matrix: List[List[int]], target: int) -> bool:\n",
    "        i = 0\n",
    "        j = len(matrix[0]) - 1\n",
    "        if target > matrix[-1][-1] or target < matrix[0][0]:\n",
    "            return False\n",
    "        while i <= len(matrix)-1 and j >= 0:\n",
    "            if matrix[i][j] == target:\n",
    "                return True\n",
    "            elif matrix[i][j] > target and j == 0:\n",
    "                return False\n",
    "            elif matrix[i][j] > target and j != 0:\n",
    "                j -= 1\n",
    "            elif matrix[i][j] < target and i == len(matrix)-1:\n",
    "                return False\n",
    "            elif matrix[i][j] < target and i != len(matrix)-1:\n",
    "                i += 1"
   ]
  },
  {
   "cell_type": "code",
   "execution_count": null,
   "id": "203dbcd7",
   "metadata": {},
   "outputs": [],
   "source": [
    "class Solution:\n",
    "    def searchMatrix(self, matrix: List[List[int]], target: int) -> bool:\n",
    "        i, j = len(matrix) - 1, 0\n",
    "        while i >= 0 and j < len(matrix[0]):\n",
    "            if matrix[i][j] > target: \n",
    "                i -= 1\n",
    "            elif matrix[i][j] < target: \n",
    "                j += 1\n",
    "            else: \n",
    "                return True\n",
    "        return False"
   ]
  },
  {
   "cell_type": "markdown",
   "id": "cafe6bb2",
   "metadata": {},
   "source": [
    "上面的我把超出边界放在内部思考了，其实放出来，代码更好，更简洁"
   ]
  }
 ],
 "metadata": {
  "language_info": {
   "name": "python"
  }
 },
 "nbformat": 4,
 "nbformat_minor": 5
}
