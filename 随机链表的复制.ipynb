{
 "cells": [
  {
   "cell_type": "markdown",
   "id": "0d61e30c",
   "metadata": {},
   "source": [
    "这是hot100的第32题：随机链表的复制 给你一个长度为 n 的链表，每个节点包含一个额外增加的随机指针 random ，该指针可以指向链表中的任何节点或空节点。\n",
    "\n",
    "构造这个链表的 深拷贝。 深拷贝应该正好由 n 个 全新 节点组成，其中每个新节点的值都设为其对应的原节点的值。新节点的 next 指针和 random 指针也都应指向复制链表中的新节点，并使原链表和复制链表中的这些指针能够表示相同的链表状态。复制链表中的指针都不应指向原链表中的节点 。\n",
    "\n",
    "例如，如果原链表中有 X 和 Y 两个节点，其中 X.random --> Y 。那么在复制链表中对应的两个节点 x 和 y ，同样有 x.random --> y 。\n",
    "\n",
    "返回复制链表的头节点。\n",
    "\n",
    "用一个由 n 个节点组成的链表来表示输入/输出中的链表。每个节点用一个 [val, random_index] 表示：\n",
    "\n",
    "val：一个表示 Node.val 的整数。\n",
    "random_index：随机指针指向的节点索引（范围从 0 到 n-1）；如果不指向任何节点，则为  null 。\n",
    "你的代码 只 接受原链表的头节点 head 作为传入参数。\n",
    "\n"
   ]
  },
  {
   "cell_type": "code",
   "execution_count": null,
   "id": "2f199c08",
   "metadata": {},
   "outputs": [],
   "source": [
    "\"\"\"\n",
    "# Definition for a Node.\n",
    "class Node:\n",
    "    def __init__(self, x: int, next: 'Node' = None, random: 'Node' = None):\n",
    "        self.val = int(x)\n",
    "        self.next = next\n",
    "        self.random = random\n",
    "\"\"\"\n",
    "\n",
    "class Solution:\n",
    "    def copyRandomList(self, head: 'Optional[Node]') -> 'Optional[Node]':\n",
    "        s = []\n",
    "        dic = dict()\n",
    "        i = 0\n",
    "        l = head\n",
    "        ans = Node(x=0)\n",
    "        m = ans\n",
    "        while l:\n",
    "            s.append(l.val)\n",
    "            l.val = i\n",
    "            l = l.next\n",
    "            n = Node(x = i)\n",
    "            m.next = n\n",
    "            m = m.next\n",
    "            i += 1\n",
    "        ans = ans.next\n",
    "        l = head\n",
    "        n = ans\n",
    "        while l:\n",
    "            v = l.random.val if l.random else -1\n",
    "            if v != -1 and v in dic:\n",
    "                dic[v].append(n)\n",
    "            elif v != -1 and v not in dic:\n",
    "                dic[v] = [n]\n",
    "            l = l.next\n",
    "            n = n.next\n",
    "        n = ans\n",
    "        print(dic)\n",
    "        while n:\n",
    "            if n.val in dic:\n",
    "                for j in range(len(dic[n.val])):\n",
    "                    dic[n.val][j].random = n\n",
    "            else:\n",
    "                pass\n",
    "            n = n.next\n",
    "        n = ans\n",
    "        for j in range(len(s)):\n",
    "            n.val = s[j]\n",
    "            n = n.next\n",
    "        return ans"
   ]
  },
  {
   "cell_type": "markdown",
   "id": "318049c3",
   "metadata": {},
   "source": [
    "这个方法是朴素的存储，把head的val储存起来，然后赋予索引 新建一个ans 建立起来next的关系，val为索引，在遍历一次head，根据random指向的val和random所在的指针建立字典\n",
    "最后遍历ans，当ans的指针的索引在字典中出现过后，把val键所对应的值取出，遍历，每个元素的random就是当前的ans，以此结束\n",
    "思想是列表的思想\n",
    "\n",
    "\n",
    "下面的方法，是哈希表的思想，链表也可以作为哈希表的键值，把原始链表作为键，新建的为值，先赋值val，再遍历一遍时，键的next键的值为值的next，键的random键的值为值的random"
   ]
  },
  {
   "cell_type": "code",
   "execution_count": null,
   "id": "32f9abaf",
   "metadata": {},
   "outputs": [],
   "source": [
    "\"\"\"\n",
    "# Definition for a Node.\n",
    "class Node:\n",
    "    def __init__(self, x: int, next: 'Node' = None, random: 'Node' = None):\n",
    "        self.val = int(x)\n",
    "        self.next = next\n",
    "        self.random = random\n",
    "\"\"\"\n",
    "\n",
    "class Solution:\n",
    "    def copyRandomList(self, head: 'Optional[Node]') -> 'Optional[Node]':\n",
    "        dic = dict()\n",
    "        m = head\n",
    "        while m:\n",
    "            dic[m] = Node(x=m.val)\n",
    "            m = m.next\n",
    "        m = head\n",
    "        while m:\n",
    "            dic[m].next = dic.get(m.next)\n",
    "            dic[m].random = dic.get(m.random)\n",
    "            m = m.next\n",
    "        return dic[head]"
   ]
  },
  {
   "cell_type": "markdown",
   "id": "142a1fd9",
   "metadata": {},
   "source": [
    "这个利用哈希表的方法真的无敌了\n",
    "学到的地方：\n",
    "1.在链表和哈希表共同使用时，要注意得到字典键的值时，不要使用dic[m]而是要使用dic.get(m)，这样万一m是none，可以返回同样的none而不是报错了"
   ]
  }
 ],
 "metadata": {
  "language_info": {
   "name": "python"
  }
 },
 "nbformat": 4,
 "nbformat_minor": 5
}
