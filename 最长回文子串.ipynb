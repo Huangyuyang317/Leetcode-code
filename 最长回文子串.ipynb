{
 "cells": [
  {
   "cell_type": "markdown",
   "id": "80954e86",
   "metadata": {},
   "source": [
    "这是hot100的第93题：最长回文子串"
   ]
  },
  {
   "cell_type": "code",
   "execution_count": null,
   "id": "81c35fb5",
   "metadata": {},
   "outputs": [],
   "source": [
    "class Solution:\n",
    "    def longestPalindrome(self, s: str) -> str:\n",
    "        ans = s[0]\n",
    "        l = 1\n",
    "        dp = [[0 for i in s] for j in s]\n",
    "        for i in range(len(s)):\n",
    "           dp[i][i] = 1\n",
    "        for i in range(len(s)//2,len(s)):\n",
    "            for j in range(i,len(s)-i-2,-1):\n",
    "                if i-j == 1 and s[i] == s[j]:\n",
    "                    dp[i][j] = 2\n",
    "                elif i-j >1 and s[i] == s[j] and dp[i-1][j+1] != 0:\n",
    "                    dp[i][j] = dp[i-1][j+1]+2\n",
    "                if l < dp[i][j]:\n",
    "                    l = dp[i][j]\n",
    "                    ans = s[j:i+1]\n",
    "        return ans"
   ]
  },
  {
   "cell_type": "markdown",
   "id": "8859871f",
   "metadata": {},
   "source": [
    "这个做不了，因为是只从中间开始，没有照顾到各个点位扩散的情况"
   ]
  },
  {
   "cell_type": "code",
   "execution_count": null,
   "id": "03e0717b",
   "metadata": {},
   "outputs": [],
   "source": [
    "class Solution:\n",
    "    def longestPalindrome(self, s: str) -> str:\n",
    "        ans = s[0]\n",
    "        l = 1\n",
    "        dp = [[0 for i in s] for j in s]\n",
    "        for i in range(len(s)):\n",
    "           dp[i][i] = 1\n",
    "        for i in range(1,len(s)-1):\n",
    "            m = min(i,len(s)-1-i)\n",
    "            for j in range(1,m):\n",
    "                if s[i-j] != s[i+j]:\n",
    "                    break\n",
    "                elif s[i-j] == s[i+j]:\n",
    "                    dp[i-j][i+j] = dp[i-j+1][i+j-1]+2\n",
    "                if 2*j+1 > l:\n",
    "                    l = 2*j+1\n",
    "                    ans  = s[i-j:i+j+1]\n",
    "        for i in range(len(s)-1):\n",
    "            if s[i] == s[i+1]:\n",
    "                m = min(i,len(s)-i-2)\n",
    "                for j in range(m):\n",
    "                    if s[i-j] == s[i+1+j]:\n",
    "                        dp[i-j][i+1+j] = dp[i-j+1][i+j] + 2\n",
    "                    else:\n",
    "                        break\n",
    "                    if 2*j+2 > l:\n",
    "                        l = 2*j+1\n",
    "                        ans  = s[i-j:i+j+1]\n",
    "            else:\n",
    "                break\n",
    "        return ans"
   ]
  },
  {
   "cell_type": "code",
   "execution_count": null,
   "id": "eac9d3f4",
   "metadata": {},
   "outputs": [],
   "source": [
    "class Solution:\n",
    "    def longestPalindrome(self, s: str) -> str:\n",
    "        ans = s[0]\n",
    "        l = 1\n",
    "        for i in range(len(s)):\n",
    "            left,right = i,i\n",
    "            while left >= 0 and right <= len(s)-1 and s[left] == s[right]:\n",
    "                left -= 1\n",
    "                right += 1\n",
    "            if right-left+1 > l:\n",
    "                l = right-left+1\n",
    "                ans = s[left+1:right]\n",
    "            \n",
    "            if i < len(s)-1:\n",
    "                left,right = i,i+1\n",
    "                while left >= 0 and right <= len(s)-1 and s[left] == s[right]:\n",
    "                    left -= 1\n",
    "                    right += 1\n",
    "                if right-left+1 > l:\n",
    "                    l = right-left+1\n",
    "                    ans = s[left+1:right]\n",
    "        return ans"
   ]
  },
  {
   "cell_type": "markdown",
   "id": "0f4f3f0b",
   "metadata": {},
   "source": [
    "第一个是我差不多独立想出来的，又像dp，又像从中间扩散，其实用从中间扩散的方法更好\n",
    "第二个思路是将回文串分成了奇数和偶数可能，奇数时从i开始扩散，这里用for循环判断碰到边界不方便，用while循环的更好，判断left right是不是到了边界，终止条件就是当扩散到两边不一样，或者到了临界值，注意用while的话，最后的left和right都超过了一个，所以left+1，而因为切片所以right不变\n",
    "最后判断大小长度更长的就返回ans了 "
   ]
  },
  {
   "cell_type": "code",
   "execution_count": null,
   "id": "6c2e7fc9",
   "metadata": {},
   "outputs": [],
   "source": [
    "class Solution:\n",
    "    def longestPalindrome(self, s: str) -> str:\n",
    "        dp = [[False]*len(s) for _ in s]\n",
    "        start = 0\n",
    "        l = 1\n",
    "        for i in range(len(s)):\n",
    "            dp[i][i] = 1\n",
    "        for i in range(2,len(s)+1):\n",
    "            for j in range(len(s)-i+1):\n",
    "                k = i+j-1\n",
    "                if s[j] == s[k]:\n",
    "                    if j == k:\n",
    "                        dp[i][j] = True\n",
    "                    else:\n",
    "                        dp[i][j] = dp[i+1][j-1]\n",
    "                if dp[i][j] == True and j-i+1 > l:\n",
    "                    start = i\n",
    "                    l = j-i+1\n",
    "        return s[start:start+l]"
   ]
  },
  {
   "cell_type": "markdown",
   "id": "fbff0ed0",
   "metadata": {},
   "source": [
    "这个是dp的方法，dp[i][j]代表ij串是不是回文串，思路是用长度进行外层循环，因为这样才能有dp的过程，能够从外层向内部dp"
   ]
  },
  {
   "cell_type": "code",
   "execution_count": null,
   "id": "4e66182b",
   "metadata": {},
   "outputs": [],
   "source": [
    "class Solution:\n",
    "    def longestPalindrome(self, s: str) -> str:\n",
    "        t = '#' + '#'.join(s) + '#'\n",
    "        p = [0 for i in t]\n",
    "        l = m = r = c = 0\n",
    "        for i in range(len(t)):\n",
    "            if i < r:\n",
    "                mirror = 2*c - i\n",
    "                p[i] = min(r-i,p[mirror])\n",
    "            left,right = i-(p[i]+1),i+(p[i]+1)\n",
    "            while left >= 0 and right <= len(t)-1 and t[left] == t[right]:\n",
    "                left -= 1\n",
    "                right += 1\n",
    "                p[i] += 1\n",
    "            if p[i] + i > c:\n",
    "                r = p[i] + i\n",
    "                c = i\n",
    "            if p[i] > l:\n",
    "                l = p[i]\n",
    "                m = i\n",
    "        i = (m-l)//2\n",
    "        return s[i:i+l]"
   ]
  },
  {
   "cell_type": "markdown",
   "id": "cf7fed8f",
   "metadata": {},
   "source": [
    "这个是叫manacher方法，思路是减少不必要的扩散，只做必要的扩散，也就是因为当i处在已知的边界内时，根据回文串的特点，它在边界所对应的回文串中心有一个对称点，那么我就可以拿到那个点的对称半径，与边界r减去当前点位i的取最小值，也就用着省去不必要的扩散\n",
    "但是这个只是省去了到边界的扩散，还要继续扩散，得到新的边界，与先前的边界对比，如果大了，就可以更新最大边界和中心，\n",
    "p[i]是半径，当最大半径超过l时，说明找到了更大的，就可以更新了\n",
    "最后把中心减去半径，整除二就是原始字符串的最大回文串索引，半径就是长度范围\n",
    "时间复杂度就是o(N)"
   ]
  }
 ],
 "metadata": {
  "language_info": {
   "name": "python"
  }
 },
 "nbformat": 4,
 "nbformat_minor": 5
}
