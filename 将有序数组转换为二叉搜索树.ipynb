{
 "cells": [
  {
   "cell_type": "markdown",
   "id": "8caef24d",
   "metadata": {},
   "source": [
    "这是hot100的第42题：将有序数组转换为二叉搜索树 给你一个整数数组 nums ，其中元素已经按 升序 排列，请你将其转换为一棵 平衡 二叉搜索树。"
   ]
  },
  {
   "cell_type": "code",
   "execution_count": null,
   "id": "14244c5d",
   "metadata": {},
   "outputs": [],
   "source": [
    "# Definition for a binary tree node.\n",
    "# class TreeNode:\n",
    "#     def __init__(self, val=0, left=None, right=None):\n",
    "#         self.val = val\n",
    "#         self.left = left\n",
    "#         self.right = right\n",
    "class Solution:\n",
    "    def sortedArrayToBST(self, nums: List[int]) -> Optional[TreeNode]:\n",
    "        def bst(l,m):\n",
    "            if l == []:\n",
    "                return None\n",
    "            n = m//2\n",
    "            node = TreeNode(val = l[n])\n",
    "            node.left,node.right = bst(l[:n],n),bst(l[n+1:],m-n-1)\n",
    "            return node\n",
    "        ans = bst(nums,len(nums))\n",
    "        return ans"
   ]
  },
  {
   "cell_type": "markdown",
   "id": "4018cb68",
   "metadata": {},
   "source": [
    "这个用了切片作为传导，所以会有额外的使用空间，思想就是，因为是平衡二叉搜索树，使用每次就把中间的作为父节点，左右就是左右子树\n",
    "还有一种不用额外空间的解法，就是把列表的索引作为参数传入,时间也更快"
   ]
  },
  {
   "cell_type": "code",
   "execution_count": null,
   "id": "37d2ded1",
   "metadata": {},
   "outputs": [],
   "source": [
    "# Definition for a binary tree node.\n",
    "# class TreeNode:\n",
    "#     def __init__(self, val=0, left=None, right=None):\n",
    "#         self.val = val\n",
    "#         self.left = left\n",
    "#         self.right = right\n",
    "class Solution:\n",
    "    def sortedArrayToBST(self, nums: List[int]) -> Optional[TreeNode]:\n",
    "        def bst(l,r):\n",
    "            if l == r:\n",
    "                return None\n",
    "            m = (l+r)//2\n",
    "            return TreeNode(nums[m],bst(l,m),bst(m,r))\n",
    "        return bst(0,len(nums))"
   ]
  }
 ],
 "metadata": {
  "kernelspec": {
   "display_name": "Python 3",
   "language": "python",
   "name": "python3"
  },
  "language_info": {
   "codemirror_mode": {
    "name": "ipython",
    "version": 3
   },
   "file_extension": ".py",
   "mimetype": "text/x-python",
   "name": "python",
   "nbconvert_exporter": "python",
   "pygments_lexer": "ipython3",
   "version": "3.9.6"
  }
 },
 "nbformat": 4,
 "nbformat_minor": 5
}
