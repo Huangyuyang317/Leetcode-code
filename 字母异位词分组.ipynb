{
 "cells": [
  {
   "cell_type": "markdown",
   "id": "50932e67",
   "metadata": {},
   "source": [
    "这是hot100的第二题：字母异位词分组 给你一个字符串数组，请你将字母异位词组合在一起。可以按任意顺序返回结果列表。\n",
    "字母异位词是由重新排列源单词的所有字母得到的一个新单词。"
   ]
  },
  {
   "cell_type": "code",
   "execution_count": null,
   "id": "1c4a89f2",
   "metadata": {},
   "outputs": [],
   "source": [
    "class Solution:\n",
    "    def groupAnagrams(self, strs: List[str]) -> List[List[str]]:\n",
    "        def cha(word):\n",
    "            c = [0 for i in range(26)]\n",
    "            for i in word:\n",
    "                c[ord(i)-ord('a')] += 1\n",
    "            print(c)\n",
    "            return tuple(c)\n",
    "        dic = dict()\n",
    "        for i in range(len(strs)):\n",
    "            a = cha(strs[i])\n",
    "            if a in dic:\n",
    "                dic[a].append(strs[i])\n",
    "            else:\n",
    "                dic[a] = [strs[i]]\n",
    "        return list(dic.values())"
   ]
  },
  {
   "cell_type": "markdown",
   "id": "5b2312bb",
   "metadata": {},
   "source": [
    "第一次是我做的方法，也就是利用字典的哈希特性，但是错误地使用了函数的方法，忽略了sorted函数可以直接对字符串使用排序，时间复杂度也只有o(nlogn)，改进方法如下：\n",
    "1.将函数删除，采用‘’.join（sorted(字符串)）把字符串排序后复原\n",
    "\n",
    "学习的地方：\n",
    "1.生成列表的方法，不用乘法，用[0 for i in range()]生成\n",
    "2.字符串和数字的映射，用ord（）函数\n",
    "3.列表的使用不是（）是[]！！！\n",
    "4.列表可以直接用tuple转成元组\n",
    "5.dict.values（）不是返回列表，需要自己改变列表"
   ]
  },
  {
   "cell_type": "code",
   "execution_count": null,
   "id": "c2ecff2b",
   "metadata": {},
   "outputs": [],
   "source": [
    "class Solution:\n",
    "    def groupAnagrams(self, strs: List[str]) -> List[List[str]]:\n",
    "        dic = dict()\n",
    "        for i in range(len(strs)):\n",
    "            a = \"\".join(sorted(strs[i]))\n",
    "            if a in dic:\n",
    "                dic[a].append(strs[i])\n",
    "            else:\n",
    "                dic[a] = [strs[i]]\n",
    "        return list(dic.values())"
   ]
  }
 ],
 "metadata": {
  "kernelspec": {
   "display_name": "Python 3",
   "language": "python",
   "name": "python3"
  },
  "language_info": {
   "codemirror_mode": {
    "name": "ipython",
    "version": 3
   },
   "file_extension": ".py",
   "mimetype": "text/x-python",
   "name": "python",
   "nbconvert_exporter": "python",
   "pygments_lexer": "ipython3",
   "version": "3.9.6"
  }
 },
 "nbformat": 4,
 "nbformat_minor": 5
}
