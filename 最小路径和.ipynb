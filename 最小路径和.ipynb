{
 "cells": [
  {
   "cell_type": "markdown",
   "id": "b5311bac",
   "metadata": {},
   "source": [
    "这是hot100的第92题：最小路径和 给定一个包含非负整数的 m x n 网格 grid ，请找出一条从左上角到右下角的路径，使得路径上的数字总和为最小。\n",
    "\n",
    "说明：每次只能向下或者向右移动一步。"
   ]
  },
  {
   "cell_type": "code",
   "execution_count": null,
   "id": "b82876dd",
   "metadata": {},
   "outputs": [],
   "source": [
    "class Solution:\n",
    "    def minPathSum(self, grid: List[List[int]]) -> int:\n",
    "        dp = [grid[0][0]]\n",
    "        for j in range(1,len(grid[0])):\n",
    "            dp.append(grid[0][j]+dp[-1])\n",
    "        for i in range(1,len(grid)):\n",
    "            dp[0] += grid[i][0]\n",
    "            for j in range(1,len(grid[0])):\n",
    "                dp[j] = min(dp[j],dp[j-1]) + grid[i][j]\n",
    "        return dp[-1]"
   ]
  },
  {
   "cell_type": "markdown",
   "id": "2de1a0dd",
   "metadata": {},
   "source": [
    "和上一题差不多，当前步最小的就是上和左最小的加当前值，当然最开始的一行和最左边一列要单看"
   ]
  }
 ],
 "metadata": {
  "language_info": {
   "name": "python"
  }
 },
 "nbformat": 4,
 "nbformat_minor": 5
}
