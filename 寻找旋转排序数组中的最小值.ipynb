{
 "cells": [
  {
   "cell_type": "markdown",
   "id": "d9c571cf",
   "metadata": {},
   "source": [
    "这是hot100的第67题：寻找旋转排序数组中的最小值 已知一个长度为 n 的数组，预先按照升序排列，经由 1 到 n 次 旋转 后，得到输入数组。例如，原数组 nums = [0,1,2,4,5,6,7] 在变化后可能得到：\n",
    "若旋转 4 次，则可以得到 [4,5,6,7,0,1,2]\n",
    "若旋转 7 次，则可以得到 [0,1,2,4,5,6,7]\n",
    "注意，数组 [a[0], a[1], a[2], ..., a[n-1]] 旋转一次 的结果为数组 [a[n-1], a[0], a[1], a[2], ..., a[n-2]] 。\n",
    "\n",
    "给你一个元素值 互不相同 的数组 nums ，它原来是一个升序排列的数组，并按上述情形进行了多次旋转。请你找出并返回数组中的 最小元素 。\n",
    "\n",
    "你必须设计一个时间复杂度为 O(log n) 的算法解决此问题。"
   ]
  },
  {
   "cell_type": "code",
   "execution_count": null,
   "id": "6aa7f95c",
   "metadata": {},
   "outputs": [],
   "source": [
    "class Solution:\n",
    "    def findMin(self, nums: List[int]) -> int:\n",
    "        left,right = 0,len(nums)-1\n",
    "        while left <= right:\n",
    "            mid = (left+right)//2\n",
    "            if nums[mid] > nums[-1]:\n",
    "                left = mid+1\n",
    "            else:\n",
    "                right = mid-1\n",
    "        return nums[left]"
   ]
  },
  {
   "cell_type": "markdown",
   "id": "a971dbf4",
   "metadata": {},
   "source": [
    "做了上一搜索旋转排序数组，这个直接秒了"
   ]
  }
 ],
 "metadata": {
  "language_info": {
   "name": "python"
  }
 },
 "nbformat": 4,
 "nbformat_minor": 5
}
