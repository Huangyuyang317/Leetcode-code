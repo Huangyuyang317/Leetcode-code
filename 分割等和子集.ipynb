{
 "cells": [
  {
   "cell_type": "markdown",
   "id": "ca78be71",
   "metadata": {},
   "source": [
    "这是hot100的第89题：分割等和子集 给你一个 只包含正整数 的 非空 数组 nums 。请你判断是否可以将这个数组分割成两个子集，使得两个子集的元素和相等。"
   ]
  },
  {
   "cell_type": "code",
   "execution_count": null,
   "id": "ed96e1e6",
   "metadata": {},
   "outputs": [],
   "source": [
    "class Solution:\n",
    "    def canPartition(self, nums: List[int]) -> bool:\n",
    "        m = sum(nums)\n",
    "        if m%2:\n",
    "            return False\n",
    "        dp = [[inf,dict()] for i in range(nums[m])]\n",
    "        dp[0] = [0,counter(nums)]\n",
    "        for i in range(m//2):\n",
    "            for j in range(nums):\n",
    "                if i-j > 0 and dp[i-j][1][j] != 0 and dp[i-j][0]+1 < :\n",
    "                    dp[i][0] = min(dp[i][0],dp[i-j][0]+1)\n",
    "        return dp[m//2-1]"
   ]
  },
  {
   "cell_type": "markdown",
   "id": "0adfc96e",
   "metadata": {},
   "source": []
  },
  {
   "cell_type": "code",
   "execution_count": null,
   "id": "1dfff375",
   "metadata": {},
   "outputs": [],
   "source": [
    "class Solution:\n",
    "    def canPartition(self, nums: List[int]) -> bool:\n",
    "        c = sum(nums)\n",
    "        n = len(nums)-1\n",
    "        if c%2:\n",
    "            return False\n",
    "        @cache\n",
    "        def dfs(i,c):\n",
    "            if i < 0 and c != 0:\n",
    "                return False\n",
    "            if c == 0:\n",
    "                return True\n",
    "            if nums[i] > c:\n",
    "                return dfs(i-1,c)\n",
    "            return dfs(i-1,c) or dfs(i-1,c-nums[i])\n",
    "        return dfs(n,c//2)"
   ]
  },
  {
   "cell_type": "markdown",
   "id": "a8da58b4",
   "metadata": {},
   "source": [
    "这个使用的递归的思路，每一步都进行选或者不选，边界条件为是否c == 0和i < 0时c不为0"
   ]
  },
  {
   "cell_type": "code",
   "execution_count": null,
   "id": "81153244",
   "metadata": {},
   "outputs": [],
   "source": [
    "class Solution:\n",
    "    def canPartition(self, nums: List[int]) -> bool:\n",
    "        m = sum(nums)\n",
    "        if m%2:\n",
    "            return False\n",
    "        dp = [0 for i in range(m+1)]\n",
    "        dp[0] = 1\n",
    "        for i in range(1,len(nums)):\n",
    "            for j in range(m):\n",
    "                if dp[j] == 1:\n",
    "                    dp[j+nums[i-1]] = 1\n",
    "            if dp[m//2] == 1:\n",
    "                return True\n",
    "        return False"
   ]
  },
  {
   "cell_type": "markdown",
   "id": "28a87748",
   "metadata": {},
   "source": [
    "这个的思路是01背包问题的思路，dp[i]代表当前i个数，能组成哪些结果，每次更行就是在保留原有的基础上，+nums[i-1]这样更新数据"
   ]
  },
  {
   "cell_type": "code",
   "execution_count": null,
   "id": "f03c469c",
   "metadata": {},
   "outputs": [],
   "source": [
    "class Solution:\n",
    "    def canPartition(self, nums: List[int]) -> bool:\n",
    "        m = sum(nums)\n",
    "        if m%2:\n",
    "            return False\n",
    "        dp = [0 for i in range(m+1)]\n",
    "        dp[0] = 1\n",
    "        for i in range(1,len(nums)):\n",
    "            temp = [0 for i in range(m+1)]\n",
    "            for j in range(m):\n",
    "                if dp[j] == 1:\n",
    "                    temp[j] = 1\n",
    "                    temp[j+nums[i-1]] = 1\n",
    "            dp = temp\n",
    "            if dp[m//2] == 1:\n",
    "                return True\n",
    "        return False"
   ]
  },
  {
   "cell_type": "markdown",
   "id": "5dd16f1f",
   "metadata": {},
   "source": [
    "这个发现每次只用到了前一个数，使用使用滚动的数据进行储存，每次用临时数组更新"
   ]
  },
  {
   "cell_type": "markdown",
   "id": "3ffc5515",
   "metadata": {},
   "source": [
    "01背包就是在有n个物品可以选择，空间一定，求价值最大\n",
    "完全背包是有n钟物品可以选择，数量无限，空间一定，求价值最大\n",
    "一般dp[i]是代表前i个物品的选择，或者是选择空间为i时的最大收益"
   ]
  }
 ],
 "metadata": {
  "kernelspec": {
   "display_name": "Python 3",
   "language": "python",
   "name": "python3"
  },
  "language_info": {
   "codemirror_mode": {
    "name": "ipython",
    "version": 3
   },
   "file_extension": ".py",
   "mimetype": "text/x-python",
   "name": "python",
   "nbconvert_exporter": "python",
   "pygments_lexer": "ipython3",
   "version": "3.9.6"
  }
 },
 "nbformat": 4,
 "nbformat_minor": 5
}
