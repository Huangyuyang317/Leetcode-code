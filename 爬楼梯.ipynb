{
 "cells": [
  {
   "cell_type": "markdown",
   "id": "cd3c8865",
   "metadata": {},
   "source": [
    "这是hot100的第81题：爬楼梯 假设你正在爬楼梯。需要 n 阶你才能到达楼顶。\n",
    "\n",
    "每次你可以爬 1 或 2 个台阶。你有多少种不同的方法可以爬到楼顶呢？"
   ]
  },
  {
   "cell_type": "code",
   "execution_count": null,
   "id": "2f5e5d82",
   "metadata": {},
   "outputs": [],
   "source": [
    "class Solution:\n",
    "    def climbStairs(self, n: int) -> int:\n",
    "        if n == 1:\n",
    "            return 1\n",
    "        db = [0]*(n+1)\n",
    "        db[1] = 1\n",
    "        db[2] = 2\n",
    "        def dp(i):\n",
    "            if db[i] != 0:\n",
    "                return db[i]\n",
    "            else:\n",
    "                db[i] = dp(i-1)+dp(i-2)\n",
    "                return db[i]\n",
    "        dp(n)\n",
    "        return db[-1]"
   ]
  },
  {
   "cell_type": "markdown",
   "id": "78d82139",
   "metadata": {},
   "source": [
    "这个使用了记忆化搜索的方法，但是从1和2计入还是有点不合适，应该是从0和1开始计入，每做一步就在列表中记录一次，避免以后的重复计算"
   ]
  },
  {
   "cell_type": "code",
   "execution_count": null,
   "id": "bb17d528",
   "metadata": {},
   "outputs": [],
   "source": [
    "class Solution:\n",
    "    def climbStairs(self, n: int) -> int:\n",
    "        if n == 1:\n",
    "            return 1\n",
    "        db = [0]*(n+1)\n",
    "        db[0] = db[1] = 1\n",
    "        def dp(i):\n",
    "            if db[i] != 0:\n",
    "                return db[i]\n",
    "            else:\n",
    "                db[i] = dp(i-1)+dp(i-2)\n",
    "                return db[i]\n",
    "        dp(n)\n",
    "        return db[-1]"
   ]
  },
  {
   "cell_type": "markdown",
   "id": "14f49e2e",
   "metadata": {},
   "source": [
    "这是第一步优化"
   ]
  },
  {
   "cell_type": "code",
   "execution_count": null,
   "id": "1f77c559",
   "metadata": {},
   "outputs": [],
   "source": [
    "class Solution:\n",
    "    def climbStairs(self, n: int) -> int:\n",
    "        a = b = 1\n",
    "        for i in range(2,n+1):\n",
    "            a,b =  a+b,a\n",
    "        return a"
   ]
  },
  {
   "cell_type": "markdown",
   "id": "02c3d13b",
   "metadata": {},
   "source": [
    "这个省去了dp的空间操作，因为我只需要当前点位的前两个，所以只需要记录这个就可以了"
   ]
  }
 ],
 "metadata": {
  "language_info": {
   "name": "python"
  }
 },
 "nbformat": 4,
 "nbformat_minor": 5
}
