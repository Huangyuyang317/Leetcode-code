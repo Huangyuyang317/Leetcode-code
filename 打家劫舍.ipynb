{
 "cells": [
  {
   "cell_type": "markdown",
   "id": "3c718b5b",
   "metadata": {},
   "source": [
    "这是hot100的第83题： 打家劫舍 你是一个专业的小偷，计划偷窃沿街的房屋。每间房内都藏有一定的现金，影响你偷窃的唯一制约因素就是相邻的房屋装有相互连通的防盗系统，如果两间相邻的房屋在同一晚上被小偷闯入，系统会自动报警。\n",
    "\n",
    "给定一个代表每个房屋存放金额的非负整数数组，计算你 不触动警报装置的情况下 ，一夜之内能够偷窃到的最高金额。"
   ]
  },
  {
   "cell_type": "code",
   "execution_count": null,
   "id": "3b46a8dc",
   "metadata": {},
   "outputs": [],
   "source": [
    "class Solution:\n",
    "    def rob(self, nums: List[int]) -> int:\n",
    "        def dfs(i,j):\n",
    "            if i == len(nums)-1:\n",
    "                return nums[-1] if j == 0 else 0\n",
    "            if j == 0:\n",
    "                return max(nums[i]+dfs(i+1,1),dfs(i+1,0))\n",
    "            else:\n",
    "                return dfs(i+1,0)\n",
    "        ans = dfs(0,0)\n",
    "        return ans"
   ]
  },
  {
   "cell_type": "markdown",
   "id": "27290395",
   "metadata": {},
   "source": [
    "这个方法可以，但是一定超时了，因为是完全的递归，时间复杂度是O(2^N)，思想是，根据这次选或者没有选，来计算该处这之后的最大值"
   ]
  },
  {
   "cell_type": "code",
   "execution_count": null,
   "id": "13650bb3",
   "metadata": {},
   "outputs": [],
   "source": [
    "class Solution:\n",
    "    def rob(self, nums: List[int]) -> int:\n",
    "        memo = [[-1 for i in [0,1]] for j in nums]\n",
    "        memo[-1][0],memo[-1][1] = nums[-1],0\n",
    "        def dfs(i,j):\n",
    "            if memo[i][j] != -1:\n",
    "                return memo[i][j]\n",
    "            if j == 0:\n",
    "                memo[i][j] = max(nums[i]+dfs(i+1,1),dfs(i+1,0))\n",
    "            else:\n",
    "                memo[i][j] = dfs(i+1,0)\n",
    "            return memo[i][j]\n",
    "        dfs(0,0)\n",
    "        return memo[0][0]"
   ]
  },
  {
   "cell_type": "markdown",
   "id": "9839fa8d",
   "metadata": {},
   "source": [
    "这个的方法也是记忆化搜索，i代表从i开始到末尾的最后的最大值，j的01代表它的前一个有没有被选中，j=0，就要有max的比较，j=1，就下一个一定不能选，最后选出memp[0][0]"
   ]
  },
  {
   "cell_type": "code",
   "execution_count": null,
   "id": "17e223f5",
   "metadata": {},
   "outputs": [],
   "source": [
    "class Solution:\n",
    "    def rob(self, nums: List[int]) -> int:\n",
    "        dp = [0]*(len(nums)+1)\n",
    "        dp[1] = nums[0]\n",
    "        for i in range(2,len(nums)+1):\n",
    "            dp[i] = max(dp[i-1],nums[i-1]+dp[i-2])\n",
    "        return dp[-1]"
   ]
  },
  {
   "cell_type": "markdown",
   "id": "d1084769",
   "metadata": {},
   "source": [
    "这个使用了一维优化，dp[i]代表的是前i个房子能被偷的最大值，dp长度为len(nums)+1,dp[i]就是nums索引的0到i-1的房子，dp[i] = max(dp[i-1],nums[i-1]+dp[i-2])虽然dp[i-1]也不一定选择了nums[i-2]的房子，但是如果dp[i-1]没有选的话，也就和dp[i-2]的值一样，所以在max的时候也不会有错"
   ]
  },
  {
   "cell_type": "code",
   "execution_count": null,
   "id": "f0bfd9b5",
   "metadata": {},
   "outputs": [],
   "source": [
    "class Solution:\n",
    "    def rob(self, nums: List[int]) -> int:\n",
    "        a,b = 0,nums[0]\n",
    "        for i in range(2,len(nums)+1):\n",
    "            a,b = b,max(b,a+nums[i-1])\n",
    "        return b"
   ]
  },
  {
   "cell_type": "markdown",
   "id": "d6794af0",
   "metadata": {},
   "source": [
    "因为只用前两个，所以空间也可以进一步优化"
   ]
  }
 ],
 "metadata": {
  "language_info": {
   "name": "python"
  }
 },
 "nbformat": 4,
 "nbformat_minor": 5
}
