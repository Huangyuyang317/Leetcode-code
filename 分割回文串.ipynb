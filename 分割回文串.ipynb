{
 "cells": [
  {
   "cell_type": "markdown",
   "id": "850f1351",
   "metadata": {},
   "source": [
    "这是hot100的第61题： 分割回文串 给你一个字符串 s，请你将 s 分割成一些 子串，使每个子串都是 回文串 。返回 s 所有可能的分割方案。"
   ]
  },
  {
   "cell_type": "code",
   "execution_count": null,
   "id": "bf8b0e13",
   "metadata": {},
   "outputs": [],
   "source": [
    "class Solution:\n",
    "    def partition(self, s: str) -> List[List[str]]:\n",
    "        ans = []\n",
    "        temp = []\n",
    "        length = len(s)\n",
    "        def palin(i,j):\n",
    "            k = j\n",
    "            for k in range(j+1,length+1):\n",
    "                if s[i:k] == ''.join(reversed(s[i:k])):\n",
    "                    return k\n",
    "            return -1\n",
    "        def dfs(i):\n",
    "            if i == length:\n",
    "                ans.append(temp.copy())\n",
    "                return\n",
    "            j = i\n",
    "            while j < length and j > -1:\n",
    "                j = palin(i,j)\n",
    "                if j != -1:\n",
    "                    temp.append(s[i:j])\n",
    "                    dfs(j)\n",
    "                    temp.pop(-1)\n",
    "        dfs(0)\n",
    "        return ans"
   ]
  },
  {
   "cell_type": "markdown",
   "id": "c127664f",
   "metadata": {},
   "source": [
    "这个的思路是传统的递归思路，把判断从i开始哪个可以是回文串，把i到j储存起来，dfs（j+1）,如果没找到就pass"
   ]
  },
  {
   "cell_type": "code",
   "execution_count": null,
   "id": "4aa5079c",
   "metadata": {},
   "outputs": [],
   "source": [
    "class Solution:\n",
    "    def partition(self, s: str) -> List[List[str]]:\n",
    "        ans = []\n",
    "        temp = []\n",
    "        length = len(s)\n",
    "        def dfs(i):\n",
    "            if i == length:\n",
    "                ans.append(temp.copy())\n",
    "                return\n",
    "            for j in range(i,length):\n",
    "                t = s[i:j+1]\n",
    "                if t == t[::-1]:\n",
    "                    temp.append(t)\n",
    "                    dfs(j+1)\n",
    "                    temp.pop(-1)\n",
    "        dfs(0)\n",
    "        return ans"
   ]
  },
  {
   "cell_type": "markdown",
   "id": "0c9e05bc",
   "metadata": {},
   "source": [
    "这个优化在了不需要再额外使用函数，就遍历j用reversed就行，满足条件再用dfs递归"
   ]
  },
  {
   "cell_type": "code",
   "execution_count": null,
   "id": "326dd6e0",
   "metadata": {},
   "outputs": [],
   "source": [
    "class Solution:\n",
    "    def partition(self, s: str) -> List[List[str]]:\n",
    "        n = len(s)\n",
    "        dp = [[False] * n for _ in range(n)]\n",
    "        \n",
    "        # Preprocess the palindrome information\n",
    "        for i in range(n):\n",
    "            dp[i][i] = True  # Single character is palindrome\n",
    "        \n",
    "        for length in range(2, n + 1):\n",
    "            for i in range(n - length + 1):\n",
    "                j = i + length - 1\n",
    "                if s[i] == s[j]:\n",
    "                    if length == 2 or dp[i + 1][j - 1]:\n",
    "                        dp[i][j] = True\n",
    "        \n",
    "        ans = []\n",
    "        temp = []\n",
    "        \n",
    "        def dfs(start):\n",
    "            if start == n:\n",
    "                ans.append(temp.copy())\n",
    "                return\n",
    "            for end in range(start, n):\n",
    "                if dp[start][end]:\n",
    "                    temp.append(s[start:end + 1])\n",
    "                    dfs(end + 1)\n",
    "                    temp.pop()\n",
    "        \n",
    "        dfs(0)\n",
    "        return ans"
   ]
  },
  {
   "cell_type": "markdown",
   "id": "b6eec29d",
   "metadata": {},
   "source": [
    "这个学到了：字符串反转不用reverssed，用[：：-1]更好更快"
   ]
  },
  {
   "cell_type": "code",
   "execution_count": null,
   "id": "ec06f593",
   "metadata": {},
   "outputs": [],
   "source": [
    "class Solution:\n",
    "    def partition(self, s: str) -> List[List[str]]:\n",
    "        n = len(s)\n",
    "        ans = []\n",
    "        path = []\n",
    "\n",
    "        # 考虑 i 后面的逗号怎么选\n",
    "        # start 表示当前这段回文子串的开始位置\n",
    "        def dfs(i: int, start: int) -> None:\n",
    "            if i == n:  # s 分割完毕\n",
    "                ans.append(path.copy())  # 复制 path\n",
    "                return\n",
    "\n",
    "            # 不分割，不选 i 和 i+1 之间的逗号\n",
    "            if i < n - 1:  # i=n-1 时只能分割\n",
    "                # 考虑 i+1 后面的逗号怎么选\n",
    "                dfs(i + 1, start)\n",
    "\n",
    "            # 分割，选 i 和 i+1 之间的逗号（把 s[i] 作为子串的最后一个字符）\n",
    "            t = s[start: i + 1]\n",
    "            if t == t[::-1]:  # 判断是否回文\n",
    "                path.append(t)\n",
    "                # 考虑 i+1 后面的逗号怎么选\n",
    "                # start=i+1 表示下一个子串从 i+1 开始\n",
    "                dfs(i + 1, i + 1)\n",
    "                path.pop()  # 恢复现场\n",
    "\n",
    "        dfs(0, 0)\n",
    "        return ans"
   ]
  },
  {
   "cell_type": "markdown",
   "id": "c0c1c50b",
   "metadata": {},
   "source": [
    "这个的思路不是从回文的角度思考，而是在于截断的角度，即在当前截断与否，不截断，j+1，截断，判断到之前的是不是回文数，是的就append，然后i变成j+1,dfs(i),然后pop"
   ]
  }
 ],
 "metadata": {
  "language_info": {
   "name": "python"
  }
 },
 "nbformat": 4,
 "nbformat_minor": 5
}
