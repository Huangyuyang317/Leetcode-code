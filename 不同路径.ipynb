{
 "cells": [
  {
   "cell_type": "markdown",
   "id": "5f00723e",
   "metadata": {},
   "source": [
    "这是hot100的91题：不同路径 一个机器人位于一个 m x n 网格的左上角 （起始点在下图中标记为 “Start” ）。\n",
    "\n",
    "机器人每次只能向下或者向右移动一步。机器人试图达到网格的右下角（在下图中标记为 “Finish” ）。\n",
    "\n",
    "问总共有多少条不同的路径？"
   ]
  },
  {
   "cell_type": "code",
   "execution_count": null,
   "id": "b5a8fdd9",
   "metadata": {},
   "outputs": [],
   "source": [
    "class Solution:\n",
    "    def uniquePaths(self, m: int, n: int) -> int:\n",
    "        dp = [[1 for i in range(n)] for j in range(m)]\n",
    "        for i in range(m):\n",
    "            for j in range(n):\n",
    "                if i == 0 and j == 0:\n",
    "                    dp[i][j] = 1\n",
    "                else:\n",
    "                    left = 0 if j == 0 else dp[i][j-1]\n",
    "                    right = 0 if i == 0 else dp[i-1][j]\n",
    "                    dp[i][j] = left+right\n",
    "        return dp[-1][-1]"
   ]
  },
  {
   "cell_type": "markdown",
   "id": "0b529807",
   "metadata": {},
   "source": [
    "这是最简单的dp方法，从左和上相加得到，在边界时就是0"
   ]
  },
  {
   "cell_type": "code",
   "execution_count": null,
   "id": "f4062667",
   "metadata": {},
   "outputs": [],
   "source": [
    "class Solution:\n",
    "    def uniquePaths(self, m: int, n: int) -> int:\n",
    "        dp = [1 for i in range(n)]\n",
    "        for i in range(1,m):\n",
    "            for j in range(1,n):\n",
    "                dp[j] += dp[j-1]\n",
    "        return dp[-1]"
   ]
  },
  {
   "cell_type": "markdown",
   "id": "eec0f4bd",
   "metadata": {},
   "source": [
    "这个进行了空间优化，注意到第一行和第一列都是1，并且每个数只和左边和上面的数有关，所以用一维数组，每次都是自加左边的那一个，初始化为都1，后面遍历行时，第一个跳过，从索引1开始"
   ]
  },
  {
   "cell_type": "code",
   "execution_count": null,
   "id": "1b78ec76",
   "metadata": {},
   "outputs": [],
   "source": [
    "class Solution:\n",
    "    def uniquePaths(self, m: int, n: int) -> int:\n",
    "        return comb(m+n-2,min(m,n)-1)"
   ]
  },
  {
   "cell_type": "markdown",
   "id": "f21b24ea",
   "metadata": {},
   "source": [
    "这个注意到了，我们是在m+n-2步中选择m-1步，不需要考虑选择的顺序，因为本身自带顺序"
   ]
  }
 ],
 "metadata": {
  "language_info": {
   "name": "python"
  }
 },
 "nbformat": 4,
 "nbformat_minor": 5
}
