{
 "cells": [
  {
   "cell_type": "markdown",
   "id": "bf78ccf5",
   "metadata": {},
   "source": [
    "这是hot100的第13题：最大子数组和 给你一个整数数组 nums ，请你找出一个具有最大和的连续子数组（子数组最少包含一个元素），返回其最大和。\n",
    "\n",
    "子数组是数组中的一个连续部分。"
   ]
  },
  {
   "cell_type": "code",
   "execution_count": null,
   "id": "1ffb68bf",
   "metadata": {},
   "outputs": [],
   "source": [
    "class Solution:\n",
    "    def maxSubArray(self, nums: List[int]) -> int:\n",
    "        s = []\n",
    "        mini = 0\n",
    "        ans = 0\n",
    "        for i in range(len(nums)):\n",
    "            if i == 0:\n",
    "                s.append(nums[i])\n",
    "                ans = s[i]\n",
    "                mini = min(mini,s[i])\n",
    "            else:\n",
    "                s.append(nums[i] + s[i-1])\n",
    "                ans = max(ans,s[i] - mini)\n",
    "                mini = min(mini,s[i])\n",
    "        return ans"
   ]
  },
  {
   "cell_type": "markdown",
   "id": "03d55a9d",
   "metadata": {},
   "source": [
    "注意边界的维护：这里在i等于0的时候，ans要直接取s[i]，而不是要与ans比较取小，因为此时ans还不存在，可能第一步取的s[i]是个负数\n",
    "\n",
    "下面还有一种动态规划的方法\n",
    "\n",
    "状态定义：f[i] 表示以 nums[i] 结尾的最大子数组和。\n",
    "\n",
    "状态转移方程：\n",
    "f[i]={  nums[i], i=0\n",
    "        max(f[i−1],0)+nums[i], i≥1"
   ]
  },
  {
   "cell_type": "code",
   "execution_count": null,
   "id": "d3a9e6d7",
   "metadata": {},
   "outputs": [],
   "source": [
    "class Solution:\n",
    "    def maxSubArray(self, nums: List[int]) -> int:\n",
    "        f = [nums[0]]\n",
    "        ans = nums[0]\n",
    "        for i in range(1,len(nums)):\n",
    "            f.append(max(f[i-1],0)+nums[i])\n",
    "            ans = max(ans,f[i])\n",
    "        return ans"
   ]
  }
 ],
 "metadata": {
  "language_info": {
   "name": "python"
  }
 },
 "nbformat": 4,
 "nbformat_minor": 5
}
