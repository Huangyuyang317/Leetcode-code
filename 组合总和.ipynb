{
 "cells": [
  {
   "cell_type": "markdown",
   "id": "69ff6204",
   "metadata": {},
   "source": [
    "这是hot100的第58题：组合总和 给你一个 无重复元素 的整数数组 candidates 和一个目标整数 target ，找出 candidates 中可以使数字和为目标数 target 的 所有 不同组合 ，并以列表形式返回。你可以按 任意顺序 返回这些组合。\n",
    "\n",
    "candidates 中的 同一个 数字可以 无限制重复被选取 。如果至少一个数字的被选数量不同，则两种组合是不同的。 \n",
    "\n",
    "对于给定的输入，保证和为 target 的不同组合数少于 150 个。"
   ]
  },
  {
   "cell_type": "code",
   "execution_count": null,
   "id": "9379fadb",
   "metadata": {},
   "outputs": [],
   "source": [
    "class Solution:\n",
    "    def combinationSum(self, candidates: List[int], target: int) -> List[List[int]]:\n",
    "        ans = []\n",
    "        s = []\n",
    "        m = min(candidates)\n",
    "        def combination(j):\n",
    "            nonlocal target\n",
    "            if target == 0:\n",
    "                ans.append(s.copy())\n",
    "                return \n",
    "            if target < m:\n",
    "                return\n",
    "            for i in range(j,len(candidates)):\n",
    "                s.append(candidates[i])\n",
    "                target -= candidates[i]\n",
    "                combination(i)\n",
    "                s.pop(-1)\n",
    "                target += candidates[i]\n",
    "        combination(0)\n",
    "        return ans\n",
    "        "
   ]
  },
  {
   "cell_type": "markdown",
   "id": "6e1bde65",
   "metadata": {},
   "source": [
    "还是传统的回溯算法，用j作为传入参数，作为记录当前的节点记录，也就是只使用j以后索引的数，来避免重复的ans，因为数字可以重复使用，所以每一次递归都是从j到末尾\n",
    "\n",
    "下面有一些其他的算法，用的是dp，选或不选"
   ]
  },
  {
   "cell_type": "code",
   "execution_count": null,
   "id": "e31f180f",
   "metadata": {},
   "outputs": [],
   "source": [
    "from collections import defaultdict\n",
    "class Solution:\n",
    "    def combinationSum(self, candidates: List[int], target: int) -> List[List[int]]:\n",
    "        ans = []\n",
    "        path = []\n",
    "        def dfs(i,left):\n",
    "            if left == 0:\n",
    "                ans.append(path.copy())\n",
    "                return\n",
    "            if i == len(candidates) or left < 0:\n",
    "                return\n",
    "            \n",
    "            dfs(i+1,left)\n",
    "            \n",
    "            path.append(candidates[i])\n",
    "            dfs(i,left-candidates[i])\n",
    "            path.pop()\n",
    "        dfs(0,target)\n",
    "        return ans"
   ]
  },
  {
   "cell_type": "markdown",
   "id": "4f42254e",
   "metadata": {},
   "source": [
    "其中dfs(i+1,left)就是不选这个，dfs(i,left-combinations[i])就是选了这个"
   ]
  },
  {
   "cell_type": "code",
   "execution_count": null,
   "id": "c1a36df1",
   "metadata": {},
   "outputs": [],
   "source": [
    "class Solution:\n",
    "    def combinationSum(self, candidates: List[int], target: int) -> List[List[int]]:\n",
    "        n = len(candidates)\n",
    "        # 完全背包\n",
    "        f = [[False] * (target + 1) for _ in range(n + 1)]\n",
    "        f[0][0] = True\n",
    "        for i, x in enumerate(candidates):\n",
    "            for j in range(target + 1):\n",
    "                f[i + 1][j] = f[i][j] or j >= x and f[i + 1][j - x]\n",
    "\n",
    "        ans = []\n",
    "        path = []\n",
    "\n",
    "        def dfs(i: int, left: int) -> None:\n",
    "            if left == 0:\n",
    "                # 找到一个合法组合\n",
    "                ans.append(path.copy())\n",
    "                return\n",
    "\n",
    "            # 无法用下标在 [0, i] 中的数字组合出 left\n",
    "            if left < 0 or not f[i + 1][left]:\n",
    "                return\n",
    "\n",
    "            # 不选\n",
    "            dfs(i - 1, left)\n",
    "\n",
    "            # 选\n",
    "            path.append(candidates[i])\n",
    "            dfs(i, left - candidates[i])\n",
    "            path.pop()\n",
    "\n",
    "        # 倒着递归，这样参数符合 f 数组的定义\n",
    "        dfs(n - 1, target)\n",
    "        return ans"
   ]
  }
 ],
 "metadata": {
  "language_info": {
   "name": "python"
  }
 },
 "nbformat": 4,
 "nbformat_minor": 5
}
