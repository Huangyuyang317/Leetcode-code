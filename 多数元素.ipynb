{
 "cells": [
  {
   "cell_type": "markdown",
   "id": "faad6af2",
   "metadata": {},
   "source": [
    "这是hot100的第97题：多数元素 给定一个大小为 n 的数组 nums ，返回其中的多数元素。多数元素是指在数组中出现次数 大于 ⌊ n/2 ⌋ 的元素。\n",
    "\n",
    "你可以假设数组是非空的，并且给定的数组总是存在多数元素。"
   ]
  },
  {
   "cell_type": "code",
   "execution_count": null,
   "id": "67ad6c6c",
   "metadata": {},
   "outputs": [],
   "source": [
    "class Solution:\n",
    "    def majorityElement(self, nums: List[int]) -> int:\n",
    "        m = None\n",
    "        l = 0\n",
    "        for i in range(len(nums)):\n",
    "            if l == 0:\n",
    "                m = nums[i]\n",
    "                l = 1\n",
    "                continue\n",
    "            if nums[i] == m:\n",
    "                l += 1\n",
    "            else:\n",
    "                l -= 1\n",
    "        return m"
   ]
  },
  {
   "cell_type": "markdown",
   "id": "bc71b2d8",
   "metadata": {},
   "source": [
    "这个的方法是一个经典算法，叫摩尔投票法，也就是把第一个初始的作为候选人,设置票数为1，当遇见了不是的时候，票数减1，是的就票数加1，当票为0时，就把现在的数设置为候选人，票数为1，跳出这次循环\n",
    "这里学到的：摩尔投票法，用来解决出现超过一半次的数，也就是选出一个候选人，遇见+1，不是-1，为0就更换"
   ]
  }
 ],
 "metadata": {
  "language_info": {
   "name": "python"
  }
 },
 "nbformat": 4,
 "nbformat_minor": 5
}
