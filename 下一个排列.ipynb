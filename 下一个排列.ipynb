{
 "cells": [
  {
   "cell_type": "markdown",
   "id": "24db708c",
   "metadata": {},
   "source": [
    "这是hot100的第99题：下一个排列 整数数组的一个 排列  就是将其所有成员以序列或线性顺序排列。\n",
    "\n",
    "例如，arr = [1,2,3] ，以下这些都可以视作 arr 的排列：[1,2,3]、[1,3,2]、[3,1,2]、[2,3,1] 。\n",
    "整数数组的 下一个排列 是指其整数的下一个字典序更大的排列。更正式地，如果数组的所有排列根据其字典顺序从小到大排列在一个容器中，那么数组的 下一个排列 就是在这个有序容器中排在它后面的那个排列。如果不存在下一个更大的排列，那么这个数组必须重排为字典序最小的排列（即，其元素按升序排列）。\n",
    "\n",
    "例如，arr = [1,2,3] 的下一个排列是 [1,3,2] 。\n",
    "类似地，arr = [2,3,1] 的下一个排列是 [3,1,2] 。\n",
    "而 arr = [3,2,1] 的下一个排列是 [1,2,3] ，因为 [3,2,1] 不存在一个字典序更大的排列。\n",
    "给你一个整数数组 nums ，找出 nums 的下一个排列。\n",
    "\n",
    "必须 原地 修改，只允许使用额外常数空间。"
   ]
  },
  {
   "cell_type": "code",
   "execution_count": null,
   "id": "c8cd9c28",
   "metadata": {},
   "outputs": [],
   "source": [
    "class Solution:\n",
    "    def nextPermutation(self, nums: List[int]) -> None:\n",
    "        k = -1\n",
    "        for i in range(len(nums)-2,-1,-1):\n",
    "            if nums[i] < nums[i+1]:\n",
    "                k = i\n",
    "                break\n",
    "        if k != -1:\n",
    "            for i in range(k+1,len(nums)):\n",
    "                if i == len(nums)-1 and nums[i] > nums[k]:\n",
    "                    nums[-1],nums[k] = nums[k],nums[-1]\n",
    "                if nums[i] > nums[k] and nums[i+1] <= nums[k]:\n",
    "                    nums[k],nums[i] = nums[i],nums[k]\n",
    "        i = 0\n",
    "        while len(nums)-1-i >= k+1+i:\n",
    "            nums[k+1+i],nums[len(nums)-1-i] = nums[len(nums)-1-i],nums[k+1+i]\n",
    "            i += 1"
   ]
  },
  {
   "cell_type": "markdown",
   "id": "bf671a0b",
   "metadata": {},
   "source": [
    "这个重点是理解字典序的排序方式，方式是在于，从后往前，判断是否是降序排列，如果找到了一个升序，那么这个地方就是要换到后面去的，那应该换谁呢，应该换后面的降序排序中最小的比它大的，找到这个位置，换完之后，后面仍然是一个降序排列的，我们为找到的是下一个排列，所以必须要改为升序才是最小的，降序改升序，两两交换就行了，时间复杂度O(N)空间复杂度O(1)"
   ]
  }
 ],
 "metadata": {
  "language_info": {
   "name": "python"
  }
 },
 "nbformat": 4,
 "nbformat_minor": 5
}
