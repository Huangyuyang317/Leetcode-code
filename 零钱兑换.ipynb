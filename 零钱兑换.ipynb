{
 "cells": [
  {
   "cell_type": "markdown",
   "id": "ee8f56d0",
   "metadata": {},
   "source": [
    "这是hot100的第85题：零钱兑换 给你一个整数数组 coins ，表示不同面额的硬币；以及一个整数 amount ，表示总金额。\n",
    "\n",
    "计算并返回可以凑成总金额所需的 最少的硬币个数 。如果没有任何一种硬币组合能组成总金额，返回 -1 。\n",
    "\n",
    "你可以认为每种硬币的数量是无限的。"
   ]
  },
  {
   "cell_type": "code",
   "execution_count": null,
   "id": "015cdb1c",
   "metadata": {},
   "outputs": [],
   "source": [
    "class Solution:\n",
    "    def coinChange(self, coins: List[int], amount: int) -> int:\n",
    "        coins.sort()\n",
    "        s = [-1]*(amount+1)\n",
    "        j = 0\n",
    "        for i in coins:\n",
    "            if i <= amount:\n",
    "                j = i\n",
    "                s[i] = 1\n",
    "        s[0] = 0\n",
    "        coins = coins[:j+1]\n",
    "        def dfs(i):\n",
    "            if i < coins[0] and i != 0:\n",
    "                return -1\n",
    "            if s[i] != -1:\n",
    "                return s[i]\n",
    "            temp = inf\n",
    "            for j in coins:\n",
    "                a = dfs(i-j)\n",
    "                if a != -1:\n",
    "                    temp = min(temp,a)\n",
    "            if temp != inf:\n",
    "                s[i] = 1+temp\n",
    "            return s[i]\n",
    "        ans = dfs(amount)\n",
    "        print(s)\n",
    "        return ans"
   ]
  },
  {
   "cell_type": "markdown",
   "id": "7b56531c",
   "metadata": {},
   "source": [
    "思路没有任何问题，和完全平方数一样，使用递归的方法，一步步判断能不能组成当前的amount，把amount减去coins之中的每一个，再去递归，终止条件就是小于0了，就返回-1，如果s[i] = 正数了，就返回这个正数"
   ]
  },
  {
   "cell_type": "code",
   "execution_count": null,
   "id": "a1c29153",
   "metadata": {},
   "outputs": [],
   "source": [
    "class Solution:\n",
    "    def coinChange(self, coins: List[int], amount: int) -> int:\n",
    "        coins.sort()\n",
    "        s = [inf for i in range(amount+1)]\n",
    "        s[0] = 0\n",
    "        for i in range(1,amount+1):\n",
    "            for j in coins:\n",
    "                if j>i:\n",
    "                    break\n",
    "                s[i] = min(s[i],s[i-j]+1)\n",
    "        print(s)\n",
    "        return -1 if s[-1] == inf else s[-1]"
   ]
  },
  {
   "cell_type": "markdown",
   "id": "899171d7",
   "metadata": {},
   "source": [
    "和之前完全平方数一题一样，尽量不要用递归，用一个数组来做就好"
   ]
  }
 ],
 "metadata": {
  "language_info": {
   "name": "python"
  }
 },
 "nbformat": 4,
 "nbformat_minor": 5
}
