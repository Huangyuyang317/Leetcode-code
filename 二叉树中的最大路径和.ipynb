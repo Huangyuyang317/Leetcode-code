{
 "cells": [
  {
   "cell_type": "markdown",
   "id": "c2e89a4b",
   "metadata": {},
   "source": [
    "这是hot100的第50题：二叉树中的最大路径和 叉树中的 路径 被定义为一条节点序列，序列中每对相邻节点之间都存在一条边。同一个节点在一条路径序列中 至多出现一次 。该路径 至少包含一个 节点，且不一定经过根节点。\n",
    "\n",
    "路径和 是路径中各节点值的总和。\n",
    "\n",
    "给你一个二叉树的根节点 root ，返回其 最大路径和 。"
   ]
  },
  {
   "cell_type": "code",
   "execution_count": null,
   "id": "6f2b8f82",
   "metadata": {},
   "outputs": [],
   "source": [
    "# Definition for a binary tree node.\n",
    "# class TreeNode:\n",
    "#     def __init__(self, val=0, left=None, right=None):\n",
    "#         self.val = val\n",
    "#         self.left = left\n",
    "#         self.right = right\n",
    "class Solution:\n",
    "    def maxPathSum(self, root: Optional[TreeNode]) -> int:\n",
    "        ans = root.val\n",
    "        def seek(node):\n",
    "            nonlocal ans\n",
    "            if not node:\n",
    "                return -math.inf,-math.inf\n",
    "            a,b = seek(node.left)\n",
    "            c,d = seek(node.right)\n",
    "            m = max(a,c,node.val,node.val+b,node.val+d,node.val+b+d)\n",
    "            n = max(node.val+b,node.val+d,node.val)\n",
    "            ans=max(ans,m)\n",
    "            return m,n\n",
    "        m,n=seek(root)\n",
    "        return ans"
   ]
  },
  {
   "cell_type": "markdown",
   "id": "6af4b3ca",
   "metadata": {},
   "source": [
    "递归的解法，一步步向上推演，最下none点位的最大路径为-inf，到node的最长长度也是-inf\n",
    "其余点位下的树的最大路径为，左右子树的最大路径，node本身的val，val加左子树到node的最长链，val加右子树到node的最长链，val加左子树和加右子树到node的最长链，与ans比较大小\n",
    "到点位的最长长度为val，val加左子树到node的最长链，val加右子树到node的最长链\n",
    "\n",
    "当然，这里有重复的地方，我们不需要，把左右子树的最大路径和返回，因为ans中已经处理过了，只需要返回以node为端的最大链条，在返回的时候，要和0比较max，因为如果小于0，就没有必要如实返回了"
   ]
  },
  {
   "cell_type": "code",
   "execution_count": null,
   "id": "87e981f9",
   "metadata": {},
   "outputs": [],
   "source": [
    "# Definition for a binary tree node.\n",
    "# class TreeNode:\n",
    "#     def __init__(self, val=0, left=None, right=None):\n",
    "#         self.val = val\n",
    "#         self.left = left\n",
    "#         self.right = right\n",
    "class Solution:\n",
    "    def maxPathSum(self, root: Optional[TreeNode]) -> int:\n",
    "        ans = -math.inf\n",
    "        def seek(node):\n",
    "            nonlocal ans\n",
    "            if not node:\n",
    "                return 0\n",
    "            a = seek(node.left)\n",
    "            b= seek(node.right)\n",
    "            ans=max(ans,node.val+a+b)\n",
    "            return max(max(a,b)+node.val,0)\n",
    "        seek(root)\n",
    "        return ans"
   ]
  }
 ],
 "metadata": {
  "language_info": {
   "name": "python"
  }
 },
 "nbformat": 4,
 "nbformat_minor": 5
}
