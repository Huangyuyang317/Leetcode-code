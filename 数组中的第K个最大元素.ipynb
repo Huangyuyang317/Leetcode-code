{
 "cells": [
  {
   "cell_type": "markdown",
   "id": "293f983e",
   "metadata": {},
   "source": [
    "这是hot100的第74题： 数组中的第K个最大元素 给定整数数组 nums 和整数 k，请返回数组中第 k 个最大的元素。\n",
    "\n",
    "请注意，你需要找的是数组排序后的第 k 个最大的元素，而不是第 k 个不同的元素。\n",
    "\n",
    "你必须设计并实现时间复杂度为 O(n) 的算法解决此问题。\n",
    "\n"
   ]
  },
  {
   "cell_type": "code",
   "execution_count": null,
   "id": "7819aa1e",
   "metadata": {},
   "outputs": [],
   "source": [
    "import heapq\n",
    "class Solution:\n",
    "    def findKthLargest(self, nums: List[int], k: int) -> int:\n",
    "        nums = [-1*i for i in nums]\n",
    "        heapq.heapify(nums)\n",
    "        for i in range(k-1):\n",
    "            heapq.heappop(nums)\n",
    "        return -1 * heapq.heappop(nums)"
   ]
  },
  {
   "cell_type": "markdown",
   "id": "cbc29320",
   "metadata": {},
   "source": [
    "这个的时间复杂度是O(N+klogN)，前面的是nums的处理，后面的logN是pop之后重新排序的时间，k是次数"
   ]
  },
  {
   "cell_type": "code",
   "execution_count": null,
   "id": "b90ee495",
   "metadata": {},
   "outputs": [],
   "source": [
    "import heapq\n",
    "class Solution:\n",
    "    def findKthLargest(self, nums: List[int], k: int) -> int:\n",
    "        heap = []\n",
    "        for i in range(len(nums)):\n",
    "            heapq.heappush(heap,nums[i])\n",
    "            if len(heap) > k:\n",
    "                heapq.heappop(heap)\n",
    "        return heap[0]"
   ]
  },
  {
   "cell_type": "markdown",
   "id": "e34b724a",
   "metadata": {},
   "source": [
    "这个在k特别大的情况下，维护了堆的大小只有k的情况"
   ]
  },
  {
   "cell_type": "code",
   "execution_count": null,
   "id": "c5dbfced",
   "metadata": {},
   "outputs": [],
   "source": [
    "import random\n",
    "class Solution:\n",
    "    def findKthLargest(self, nums: List[int], k: int) -> int:\n",
    "        def seek(nums,k):\n",
    "            seed = random.randint(0,len(nums))\n",
    "            pivot = nums[seed]\n",
    "            # pivot = random.choice(nums)\n",
    "            left,mid,right = [],[],[]\n",
    "            for i in nums:\n",
    "                if i < pivot:\n",
    "                    right.append(i)\n",
    "                elif i > pivot:\n",
    "                    left.append(i)\n",
    "                else:\n",
    "                    mid.append(i)\n",
    "            if len(left) >=k :\n",
    "                return seek(left,k)\n",
    "            elif len(left) + len(mid) < k:\n",
    "                return seek(right,k-len(left)-len(mid))\n",
    "            else:\n",
    "                return pivot\n",
    "        return seek(nums,k)"
   ]
  },
  {
   "cell_type": "markdown",
   "id": "b0314308",
   "metadata": {},
   "source": [
    "这个是对于这类topk问题的经典算法，快速选择算法，其思想和快速排序算法一样，就是在列表中找到一个基准，把比它小的放在后面，比它大的放在前面，因为我们要找到top的k，所以就把前面的长度与k比较，如果k小于的话，说明top的k在前面，我们递归对前面的列表和目标数k，反之，如果k小于，说明在后半段，我们递归后面的列表和目标数k-len(前面列表)\n",
    "\n",
    "这里有个问题，因为我们要找到top的k，当内部有大量重复的数据时，很会不断分解为n-1和1的过程，时间复杂度就会退化，所以我们要把等于pivot的单列一个列表，判断条件也就和把k和大于k小于k的列表长度比较\n",
    "\n",
    "这里使用的二分来得到pivot，用随机的选择pivot，会更好\n",
    "\n",
    "这里学到的：\n",
    "1.random.randint(a,b)从a到b中间选择一个数，random.choice(lis)是从lis中随机选择一个数据"
   ]
  }
 ],
 "metadata": {
  "language_info": {
   "name": "python"
  }
 },
 "nbformat": 4,
 "nbformat_minor": 5
}
