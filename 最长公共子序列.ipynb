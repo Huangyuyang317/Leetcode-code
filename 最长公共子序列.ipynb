{
 "cells": [
  {
   "cell_type": "markdown",
   "id": "39bc2a84",
   "metadata": {},
   "source": [
    "这是hot100的第94题：最长公共子序列 给定两个字符串 text1 和 text2，返回这两个字符串的最长 公共子序列 的长度。如果不存在 公共子序列 ，返回 0 。\n",
    "\n",
    "一个字符串的 子序列 是指这样一个新的字符串：它是由原字符串在不改变字符的相对顺序的情况下删除某些字符（也可以不删除任何字符）后组成的新字符串。\n",
    "\n",
    "例如，\"ace\" 是 \"abcde\" 的子序列，但 \"aec\" 不是 \"abcde\" 的子序列。\n",
    "两个字符串的 公共子序列 是这两个字符串所共同拥有的子序列。"
   ]
  },
  {
   "cell_type": "code",
   "execution_count": null,
   "id": "3bb9683a",
   "metadata": {},
   "outputs": [],
   "source": [
    "class Solution:\n",
    "    def longestCommonSubsequence(self, text1: str, text2: str) -> int:\n",
    "        dp = [[0 for i in range(len(text2)+1)] for j in range(len(text1)+1)]\n",
    "        for i in range(len(text1)):\n",
    "            for j in range(len(text2)):\n",
    "                if text1[i] == text2[j]:\n",
    "                    dp[i+1][j+1] = dp[i][j]+1\n",
    "                else:\n",
    "                    dp[i+1][j+1] = max(dp[i][j+1],dp[i+1][j])\n",
    "        return dp[-1][-1]"
   ]
  },
  {
   "cell_type": "markdown",
   "id": "940a98a1",
   "metadata": {},
   "source": [
    "我操你妈，怎么就是在最后一点地方没想出来，当tex1[i]和text2[j]不相等的时候，dp[i+1][j+1]的大小不由单一i或者j减一的决定，应该是由i+1 j和i j+1共同取最大值决定，就这么一个地方出了问题，这种的dp，转移方程一般不会太复杂，举例子看看就行了"
   ]
  },
  {
   "cell_type": "code",
   "execution_count": null,
   "id": "60ace728",
   "metadata": {},
   "outputs": [],
   "source": [
    "class Solution:\n",
    "    def longestCommonSubsequence(self, text1: str, text2: str) -> int:\n",
    "        dp = [0 for i in range(len(text2)+1)]\n",
    "        for i in range(len(text1)):\n",
    "            temp = [0 for i in range(len(text2)+1)]\n",
    "            for j in range(len(text2)):\n",
    "                if text1[i] == text2[j]:\n",
    "                    temp[j+1] = dp[j]+1\n",
    "                else:\n",
    "                    temp[j+1] = max(dp[j+1],temp[j])\n",
    "            dp = temp\n",
    "        return dp[-1][-1]"
   ]
  },
  {
   "cell_type": "markdown",
   "id": "4dfcff64",
   "metadata": {},
   "source": [
    "这个发现了dp可以有空间优化，优化完成就行了"
   ]
  }
 ],
 "metadata": {
  "language_info": {
   "name": "python"
  }
 },
 "nbformat": 4,
 "nbformat_minor": 5
}
