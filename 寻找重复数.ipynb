{
 "cells": [
  {
   "cell_type": "markdown",
   "id": "1e44aebb",
   "metadata": {},
   "source": [
    "这是hot100的第100题：寻找重复数 给定一个包含 n + 1 个整数的数组 nums ，其数字都在 [1, n] 范围内（包括 1 和 n），可知至少存在一个重复的整数。\n",
    "\n",
    "假设 nums 只有 一个重复的整数 ，返回 这个重复的数 。\n",
    "\n",
    "你设计的解决方案必须 不修改 数组 nums 且只用常量级 O(1) 的额外空间。"
   ]
  },
  {
   "cell_type": "code",
   "execution_count": null,
   "id": "f27818a2",
   "metadata": {},
   "outputs": [],
   "source": [
    "class Solution:\n",
    "    def findDuplicate(self, nums: List[int]) -> int:\n",
    "        slow,fast = nums[0],nums[nums[0]]\n",
    "        while slow != fast:\n",
    "            slow = nums[slow]\n",
    "            fast = nums[nums[fast]]\n",
    "        slow = 0\n",
    "        while slow != fast:\n",
    "            slow = nums[slow]\n",
    "            fast = nums[fast]\n",
    "        return slow"
   ]
  },
  {
   "cell_type": "markdown",
   "id": "c319a62a",
   "metadata": {},
   "source": [
    "这个的限制条件很多，要求限制不修改和常量空间，并且重复数的数量不是唯一，唯一可以用位运算和数学方法，我完全没想出来这个怎么写\n",
    "这个的思路很妙，如果把nums中每个数当作索引，那么重复数的就是会有至少两个下标的数指向同一个数，那么就会有一个类似环的形式，因为有n+1个数，而只有n种数，必然会有环，所以这个题目就类比于找到环的入口索引\n",
    "我们知道找判断是否有环是用快慢指针，使用一次快慢指针后，我们知道 慢指针步数 = 环外长度+环内步行长度k = n倍环长度 所以n倍环长度-环内步行长度k = 环外长度\n",
    "我们把一个指针放回0处，与原指针同时运作，步长一致，当走完环外长度时，也就到达了入口，此时原指针也到了入口，返回这个索引即可"
   ]
  }
 ],
 "metadata": {
  "language_info": {
   "name": "python"
  }
 },
 "nbformat": 4,
 "nbformat_minor": 5
}
