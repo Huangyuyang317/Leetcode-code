{
 "cells": [
  {
   "cell_type": "markdown",
   "id": "68444806",
   "metadata": {},
   "source": [
    "这是hot100的第40题：二叉树的直径 给你一棵二叉树的根节点，返回该树的 直径 。\n",
    "\n",
    "二叉树的 直径 是指树中任意两个节点之间最长路径的 长度 。这条路径可能经过也可能不经过根节点 root 。\n",
    "\n",
    "两节点之间路径的 长度 由它们之间边数表示。"
   ]
  },
  {
   "cell_type": "code",
   "execution_count": null,
   "id": "165667d4",
   "metadata": {},
   "outputs": [],
   "source": [
    "# Definition for a binary tree node.\n",
    "# class TreeNode:\n",
    "#     def __init__(self, val=0, left=None, right=None):\n",
    "#         self.val = val\n",
    "#         self.left = left\n",
    "#         self.right = right\n",
    "class Solution:\n",
    "    def diameterOfBinaryTree(self, root: Optional[TreeNode]) -> int:\n",
    "        def diameter(root):\n",
    "            if not root:\n",
    "                return -1,-1\n",
    "            length_left,diameter_left = diameter(root.left)\n",
    "            length_right,diameter_right = diameter(root.right)\n",
    "            return max(length_left,length_right)+1,max(diameter_left,diameter_right,length_left+length_right+2)\n",
    "        a,b = diameter(root)\n",
    "        return b"
   ]
  },
  {
   "cell_type": "markdown",
   "id": "5796a52c",
   "metadata": {},
   "source": [
    "这种也是递归的方法，或者说是动态规划的方法\n",
    "不断返回子树的最大直径，和左右树的长度，在父节点更新直径，并且把父节点的长度返回\n",
    "要注意的是，遍历到了none，它的长度应该是-1，这样才最后一层节点才能长度为1"
   ]
  }
 ],
 "metadata": {
  "language_info": {
   "name": "python"
  }
 },
 "nbformat": 4,
 "nbformat_minor": 5
}
