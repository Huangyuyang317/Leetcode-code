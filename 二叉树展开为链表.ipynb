{
 "cells": [
  {
   "cell_type": "markdown",
   "id": "869272d5",
   "metadata": {},
   "source": [
    "这是hot100的第46题：二叉树展开为链表 给你二叉树的根结点 root ，请你将它展开为一个单链表：\n",
    "\n",
    "展开后的单链表应该同样使用 TreeNode ，其中 right 子指针指向链表中下一个结点，而左子指针始终为 null 。\n",
    "展开后的单链表应该与二叉树 先序遍历 顺序相同。"
   ]
  },
  {
   "cell_type": "code",
   "execution_count": null,
   "id": "414a545a",
   "metadata": {},
   "outputs": [],
   "source": [
    "# Definition for a binary tree node.\n",
    "# class TreeNode:\n",
    "#     def __init__(self, val=0, left=None, right=None):\n",
    "#         self.val = val\n",
    "#         self.left = left\n",
    "#         self.right = right\n",
    "class Solution:\n",
    "    def flatten(self, root: Optional[TreeNode]) -> None:\n",
    "        def preorder(node):\n",
    "            if not node:\n",
    "                return None,None\n",
    "            a,b = preorder(node.left)\n",
    "            c,d = preorder(node.right)\n",
    "            if a and c:\n",
    "                node.right,b.right = a,c\n",
    "                node.left = None\n",
    "                return node,d\n",
    "            elif a and not c:\n",
    "                node.right = a\n",
    "                node.left = None\n",
    "                return node,b\n",
    "            elif not a and c:\n",
    "                node.right = c\n",
    "                node.left = None\n",
    "                return node,d\n",
    "            else:\n",
    "                node.left = None\n",
    "                return node,node\n",
    "        preorder(root)\n",
    "            "
   ]
  },
  {
   "cell_type": "markdown",
   "id": "f30e19fa",
   "metadata": {},
   "source": [
    "思路就是先序遍历的思路,当遇到空节点时返回none，如何在非空节点，判断左右节点的情况，把左节点生成的链表接在node和右子树之间，当然判断左右节点是不是空来对语句进行修改，拼接完成后，把左节点清除，最后返回node和更新后的最末位节点，有一个优化一点的写法"
   ]
  },
  {
   "cell_type": "code",
   "execution_count": null,
   "id": "e55725a8",
   "metadata": {},
   "outputs": [],
   "source": [
    "# Definition for a binary tree node.\n",
    "# class TreeNode:\n",
    "#     def __init__(self, val=0, left=None, right=None):\n",
    "#         self.val = val\n",
    "#         self.left = left\n",
    "#         self.right = right\n",
    "class Solution:\n",
    "    def flatten(self, root: Optional[TreeNode]) -> None:\n",
    "        def dfs(node):\n",
    "            if not node:\n",
    "                return None\n",
    "            left = dfs(node.left)\n",
    "            right = dfs(node.right)\n",
    "            if left:\n",
    "                node.left,node.right,left.right = None,node.left,node.right\n",
    "            return right or left or node\n",
    "        dfs(root)"
   ]
  },
  {
   "cell_type": "markdown",
   "id": "446a7cc4",
   "metadata": {},
   "source": [
    "这个的优雅多了，少用了if，并且只用返回了尾部节点，能够修改的原因在于，头节点我们都知道了，node right应该变为原来的left，left树生成的尾节点的right 应该是node的right\n",
    "\n",
    "最后的返回，判断right有没有，没有就返回left的尾部，再没有就是孤立节点了，返回node"
   ]
  },
  {
   "cell_type": "code",
   "execution_count": null,
   "id": "8bab90bd",
   "metadata": {},
   "outputs": [],
   "source": [
    "# Definition for a binary tree node.\n",
    "# class TreeNode:\n",
    "#     def __init__(self, val=0, left=None, right=None):\n",
    "#         self.val = val\n",
    "#         self.left = left\n",
    "#         self.right = right\n",
    "class Solution:\n",
    "    head = None\n",
    "    def flatten(self, root: Optional[TreeNode]) -> None:\n",
    "        if not root:\n",
    "            return\n",
    "        self.flatten(root.right)\n",
    "        self.flatten(root.left)\n",
    "        root.left = None\n",
    "        root.right = self.head\n",
    "        self.head = root"
   ]
  },
  {
   "cell_type": "markdown",
   "id": "dff3167a",
   "metadata": {},
   "source": [
    "这个发现了规律，把一个节点插到最右节点前，，直达返回了头节点，那要怎么实现呢，我们发现中序遍历是升序，那我们采用反向的中序遍历，右左中的方式，head为头节点，记录到最后一个节点的时候，返回上一层，head为node right，执行self.flatten(root.left)，head就为root left了，再回到root一步步插入\n",
    "\n",
    "这里学到的：\n",
    "1.在class中赋值的变量在def（self）时候，要用self.变量名才能用，不用nonlocal"
   ]
  }
 ],
 "metadata": {
  "language_info": {
   "name": "python"
  }
 },
 "nbformat": 4,
 "nbformat_minor": 5
}
