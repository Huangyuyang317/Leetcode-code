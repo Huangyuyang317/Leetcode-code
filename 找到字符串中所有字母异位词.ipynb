{
 "cells": [
  {
   "cell_type": "markdown",
   "id": "37ffa5c6",
   "metadata": {},
   "source": [
    "这是hot100的第9题：找到字符串中所有字母异位词 给定两个字符串 s 和 p，找到 s 中所有 p 的 异位词 的子串，返回这些子串的起始索引。不考虑答案输出的顺序。"
   ]
  },
  {
   "cell_type": "code",
   "execution_count": null,
   "id": "76803a83",
   "metadata": {},
   "outputs": [],
   "source": [
    "class Solution:\n",
    "    def findAnagrams(self, s: str, p: str) -> List[int]:\n",
    "        d = dict()\n",
    "        for i in range(len(p)):\n",
    "            if p[i] in d:\n",
    "                d[p[i]] += 1\n",
    "            else:\n",
    "                d[p[i]] = 1\n",
    "        j = 0\n",
    "        ans = []\n",
    "        for i in range(len(s)):\n",
    "            if s[i] in d and d[s[i]] > 0:\n",
    "                d[s[i]] -= 1\n",
    "                if i - j == len(p) - 1:\n",
    "                    ans.append(j)\n",
    "                    d[s[j]] += 1\n",
    "                    j += 1\n",
    "            elif s[i] in d and d[s[i]] == 0:\n",
    "                for k in range(j,i):\n",
    "                    if s[k] == s[i]:\n",
    "                        j = k+1\n",
    "                        break\n",
    "                    else:\n",
    "                        d[s[k]] += 1\n",
    "            elif s[i] not in d:\n",
    "                for k in range(j,i):\n",
    "                    d[s[k]] += 1\n",
    "                j = i+1\n",
    "        return ans"
   ]
  },
  {
   "cell_type": "markdown",
   "id": "bae566fc",
   "metadata": {},
   "source": [
    "不是很难啊，建立一个字典储存需要查找的字符以及数量，i指针用作遍历字符串的后段，j定位字符串的前端，当i遍历到的字符在字典中，并且剩余数量不为0时，就将字典对应数量减1；如果在字符中但是数量为0，就把j移动到第一个该字符出现的后面一个，并且j在移动时，回收字符到字典中，这个可以保证不会遗漏情况；如果都不在字典中，就把j移动到这个字符之后，并且回收中途所有的字符，直至i遍历完成\n",
    "学到的东西：\n",
    "1.字典的赋值是浅拷贝，赋值之后改变了另一个也会改变，不能重复使用"
   ]
  }
 ],
 "metadata": {
  "kernelspec": {
   "display_name": "Python 3",
   "language": "python",
   "name": "python3"
  },
  "language_info": {
   "codemirror_mode": {
    "name": "ipython",
    "version": 3
   },
   "file_extension": ".py",
   "mimetype": "text/x-python",
   "name": "python",
   "nbconvert_exporter": "python",
   "pygments_lexer": "ipython3",
   "version": "3.9.6"
  }
 },
 "nbformat": 4,
 "nbformat_minor": 5
}
