{
 "cells": [
  {
   "cell_type": "markdown",
   "id": "5221829f",
   "metadata": {},
   "source": [
    "这是hot100的第87题：最长递增子序列 给你一个整数数组 nums ，找到其中最长严格递增子序列的长度。\n",
    "\n",
    "子序列 是由数组派生而来的序列，删除（或不删除）数组中的元素而不改变其余元素的顺序。例如，[3,6,2,7] 是数组 [0,3,1,6,2,2,7] 的子序列。"
   ]
  },
  {
   "cell_type": "code",
   "execution_count": null,
   "id": "ee0c90b2",
   "metadata": {},
   "outputs": [],
   "source": [
    "class Solution:\n",
    "    def lengthOfLIS(self, nums: List[int]) -> int:\n",
    "        ans = 1\n",
    "        dp = [1 for i in range(len(nums)+1)]\n",
    "        for i in range(2,len(nums)+1):\n",
    "            temp = 1\n",
    "            for j in range(1,i):\n",
    "                if nums[j-1] < nums[i-1]:\n",
    "                    temp = max(temp,dp[j]+1)\n",
    "            dp[i] = temp\n",
    "            ans = max(ans,dp[i])\n",
    "        return ans"
   ]
  },
  {
   "cell_type": "markdown",
   "id": "722a7cc2",
   "metadata": {},
   "source": [
    "这个是动态规划，找到在当前数字之前比他小且序列长度最长的值，这个在它的基础上+1，时间复杂度O(N^2)"
   ]
  },
  {
   "cell_type": "code",
   "execution_count": null,
   "id": "f49b109d",
   "metadata": {},
   "outputs": [],
   "source": [
    "class Solution:\n",
    "    def lengthOfLIS(self, nums: List[int]) -> int:\n",
    "        dp = [0 for i in range(len(nums))]\n",
    "        res = 0\n",
    "        for k in range(len(nums)):\n",
    "            left,right = 0,res-1\n",
    "            while left<=right:\n",
    "                mid = (left+right)//2\n",
    "                if dp[mid] < nums[k] :\n",
    "                    left = mid+1\n",
    "                else:\n",
    "                    right = mid-1\n",
    "            dp[left] = nums[k]\n",
    "            if left == res:\n",
    "                res += 1\n",
    "        return res"
   ]
  },
  {
   "cell_type": "markdown",
   "id": "fccfac80",
   "metadata": {},
   "source": [
    "这个的动态规划的思想是dp[i]放上能够满足i+1长度的且是最小的末尾值，不用担心会有反向的情况是因为我们通过遍历进行更新的，前面出现过的才会放在dp中，当我们发现当前的num比0到res-1下标中的所有值都大，那么我们拓展了最远的范围，res+=1，如何找到num应该放在哪一个呢，就要用二分查找了，找到刚好比它大的位置，进行替换"
   ]
  }
 ],
 "metadata": {
  "language_info": {
   "name": "python"
  }
 },
 "nbformat": 4,
 "nbformat_minor": 5
}
