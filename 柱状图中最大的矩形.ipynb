{
 "cells": [
  {
   "cell_type": "markdown",
   "id": "e5f413b9",
   "metadata": {},
   "source": [
    "这是hot100的第73题：柱状图中最大的矩形 给定 n 个非负整数，用来表示柱状图中各个柱子的高度。每个柱子彼此相邻，且宽度为 1 。\n",
    "\n",
    "求在该柱状图中，能够勾勒出来的矩形的最大面积。"
   ]
  },
  {
   "cell_type": "code",
   "execution_count": null,
   "id": "fc484a87",
   "metadata": {},
   "outputs": [],
   "source": [
    "class Solution:\n",
    "    def largestRectangleArea(self, heights: List[int]) -> int:\n",
    "        stack = []\n",
    "        ans = 0\n",
    "        left = [-1] * len(heights)\n",
    "        right = [len(heights)] * len(heights)\n",
    "        for i,h in enumerate(heights):\n",
    "            while stack and h <= heights[stack[-1]]:\n",
    "                stack.pop()\n",
    "            if stack:\n",
    "                left[i] = stack[-1]\n",
    "            stack.append(i)\n",
    "        stack = []\n",
    "        for i in range(len(heights)-1,-1,-1):\n",
    "            while stack and heights[i] <= heights[stack[-1]]:\n",
    "                stack.pop()\n",
    "            if stack:\n",
    "                right[i] = stack[-1]\n",
    "            stack.append(i)\n",
    "        for h, l, r in zip(heights, left, right):\n",
    "            ans = max(ans, h * (r - l - 1))\n",
    "            print(h,l,r,ans)\n",
    "        return ans"
   ]
  },
  {
   "cell_type": "markdown",
   "id": "ea34c3db",
   "metadata": {},
   "source": [
    "完全自己写不出来，这个题目的关键破题点在于，想到最大面积的围成，其高度一定是数组中的数，不能大于也不能小于\n",
    "那我们就要知道以每个数为高的最大面积是多少了\n",
    "这里又要想到，在这个数字左边最近一个小于它的数的右边，是左边界，在这个数字右边最近一个小于它的数的左边，是右边界，一旦超过边界，形成的矩形就不会是我们需要的这个高度了\n",
    "上面这个方法，是最朴素的三次遍历，分别是遍历得到左边界，右边界，和计算\n",
    "初始设置为-1和n，是因为如果stack没有了，说明它左边没有比它大的，就是0节点为初始节点，n也是同理"
   ]
  },
  {
   "cell_type": "code",
   "execution_count": null,
   "id": "dc7f75cf",
   "metadata": {},
   "outputs": [],
   "source": [
    "class Solution:\n",
    "    def largestRectangleArea(self, heights: List[int]) -> int:\n",
    "        stack = []\n",
    "        ans = 0\n",
    "        heights = [0] + heights + [0]\n",
    "        for i,h in enumerate(heights):\n",
    "            while stack and h < heights[stack[-1]]:\n",
    "                height = heights[stack.pop()]\n",
    "                width = i - stack[-1] - 1\n",
    "                ans = max(ans,height*width)\n",
    "            stack.append(i)\n",
    "        return ans"
   ]
  },
  {
   "cell_type": "markdown",
   "id": "4341b405",
   "metadata": {},
   "source": [
    "这个的优化点把right的计算同时算在内了，因为在pop的时候，当你需要被pop，也就是说，遇到了比你小的数，那么它就应该是你的right，你的left应该就是你在stack中的左边那一个，这里加了哨兵节点的意义在于，左哨兵节点保证了你不会遇见stack为空的情况，stack[-1]不会有问题，并且为0，是当h一定会比0大，并且在添加了哨兵数后，所有的下标都发生了变化，0的意思就是是原来的0现在的1的左边界，意味着h比原数组中所有数都小的话，那么这个0可以作为它的左边界，右哨兵的0就是保证所有的h都要被计算到，不会有没有到"
   ]
  }
 ],
 "metadata": {
  "language_info": {
   "name": "python"
  }
 },
 "nbformat": 4,
 "nbformat_minor": 5
}
