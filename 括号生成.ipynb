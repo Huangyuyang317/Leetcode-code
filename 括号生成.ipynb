{
 "cells": [
  {
   "cell_type": "markdown",
   "id": "b2b27e59",
   "metadata": {},
   "source": [
    "这是hot100的第59题：括号生成 数字 n 代表生成括号的对数，请你设计一个函数，用于能够生成所有可能的并且 有效的 括号组合。"
   ]
  },
  {
   "cell_type": "code",
   "execution_count": null,
   "id": "f8c9227d",
   "metadata": {},
   "outputs": [],
   "source": [
    "class Solution:\n",
    "    def generateParenthesis(self, n: int) -> List[str]:\n",
    "        ans = []\n",
    "        path = []\n",
    "        def bracket(i,j):\n",
    "            if j == 0:\n",
    "                ans.append(''.join(path.copy()))\n",
    "                return\n",
    "            if i < j and i > 0:\n",
    "                path.append('(')\n",
    "                bracket(i-1,j)\n",
    "                path.pop(-1)\n",
    "                path.append(')')\n",
    "                bracket(i,j-1)\n",
    "                path.pop(-1)\n",
    "            elif i == 0:\n",
    "                path.append(')')\n",
    "                bracket(i,j-1)\n",
    "                path.pop(-1)\n",
    "            elif i == j:\n",
    "                path.append('(')\n",
    "                bracket(i-1,j)\n",
    "                path.pop(-1)\n",
    "        bracket(n,n)\n",
    "        return ans"
   ]
  },
  {
   "cell_type": "markdown",
   "id": "637b3f66",
   "metadata": {},
   "source": [
    "这个要注意的就是在i为0的时候，就不能再append （这个了"
   ]
  }
 ],
 "metadata": {
  "language_info": {
   "name": "python"
  }
 },
 "nbformat": 4,
 "nbformat_minor": 5
}
