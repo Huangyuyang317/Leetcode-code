{
 "cells": [
  {
   "cell_type": "markdown",
   "id": "45392531",
   "metadata": {},
   "source": [
    "这是hot100的第36题：二叉树的中序遍历 给定一个二叉树的根节点 root ，返回 它的 中序 遍历 。"
   ]
  },
  {
   "cell_type": "code",
   "execution_count": null,
   "id": "2e725094",
   "metadata": {},
   "outputs": [],
   "source": [
    "# Definition for a binary tree node.\n",
    "# class TreeNode:\n",
    "#     def __init__(self, val=0, left=None, right=None):\n",
    "#         self.val = val\n",
    "#         self.left = left\n",
    "#         self.right = right\n",
    "class Solution:\n",
    "    def inorderTraversal(self, root: Optional[TreeNode]) -> List[int]:\n",
    "        if not root:\n",
    "            return []\n",
    "        l = self.inorderTraversal(root.left)\n",
    "        r = self.inorderTraversal(root.right)\n",
    "        return l + [root.val] + r"
   ]
  },
  {
   "cell_type": "markdown",
   "id": "8c747472",
   "metadata": {},
   "source": [
    "秒了，递归的思想\n",
    "学到的地方：\n",
    "1.列表可以相加，但是不可以和none相加"
   ]
  }
 ],
 "metadata": {
  "language_info": {
   "name": "python"
  }
 },
 "nbformat": 4,
 "nbformat_minor": 5
}
