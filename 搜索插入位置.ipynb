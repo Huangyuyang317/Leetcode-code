{
 "cells": [
  {
   "cell_type": "markdown",
   "id": "e17b1917",
   "metadata": {},
   "source": [
    "这是hot100的第63题：搜索插入位置 给定一个排序数组和一个目标值，在数组中找到目标值，并返回其索引。如果目标值不存在于数组中，返回它将会被按顺序插入的位置。"
   ]
  },
  {
   "cell_type": "code",
   "execution_count": null,
   "id": "0d32e3c1",
   "metadata": {},
   "outputs": [],
   "source": [
    "class Solution:\n",
    "    def searchInsert(self, nums: List[int], target: int) -> int:\n",
    "        def seek(i,j):\n",
    "            if i==j:\n",
    "                if nums[i] < target:\n",
    "                    return i+1\n",
    "                elif nums[i] >= target:\n",
    "                    return i\n",
    "            elif j-i == 1:\n",
    "                if nums[j] < target:\n",
    "                    return j+1\n",
    "                elif nums[i] >= target:\n",
    "                    return i\n",
    "                else:\n",
    "                    return j\n",
    "            m = (i+j)//2\n",
    "            if nums[m] == target:\n",
    "                return m\n",
    "            elif nums[m] > target:\n",
    "                return seek(i,m)\n",
    "            elif nums[m] < target:\n",
    "                return seek(m,j)\n",
    "        return seek(0,len(nums)-1)"
   ]
  },
  {
   "cell_type": "markdown",
   "id": "98858076",
   "metadata": {},
   "source": [
    "修修补补把这个简单题写了，但是if else条件太多了，边界条件不够清楚，要改一下\n",
    "分别是闭区间写法，边界条件就在左边界大于右边界时，返回左边界"
   ]
  },
  {
   "cell_type": "code",
   "execution_count": null,
   "id": "7c27b846",
   "metadata": {},
   "outputs": [],
   "source": [
    "class Solution:\n",
    "    def searchInsert(self, nums: List[int], target: int) -> int:\n",
    "        left,right = 0,len(nums)-1\n",
    "        while left <= right:\n",
    "            mid = (left+right)//2\n",
    "            if nums[mid] < target:\n",
    "                left = mid+1\n",
    "            else:\n",
    "                right = mid-1\n",
    "        return left\n"
   ]
  },
  {
   "cell_type": "markdown",
   "id": "7d89d183",
   "metadata": {},
   "source": [
    "还有一种库的写法：bisect二分查找库，lis必须是一个有序列表或者元组\n",
    "bisect.bisect_left(lis,target)，插入后在保证有序的情况下，保证插入在最左边的数\n",
    "如果是要保证修改到在最右边的话，代码就用修改了"
   ]
  },
  {
   "cell_type": "code",
   "execution_count": null,
   "id": "ecabd4e9",
   "metadata": {},
   "outputs": [],
   "source": [
    "class Solution:\n",
    "    def searchInsert(self, nums, target):\n",
    "        return bisect.bisect_left(nums,target)"
   ]
  },
  {
   "cell_type": "code",
   "execution_count": null,
   "id": "982b4c42",
   "metadata": {},
   "outputs": [],
   "source": [
    "# 插入最右边的方法如下\n",
    "class Solution:\n",
    "    def searchInsert(self, nums: List[int], target: int) -> int:\n",
    "        left,right = 0,len(nums)-1\n",
    "        while left <= right:\n",
    "            mid = (left+right)//2\n",
    "            if nums[mid] <= target:\n",
    "                left = mid+1\n",
    "            else:\n",
    "                right = mid-1\n",
    "        return left\n"
   ]
  }
 ],
 "metadata": {
  "kernelspec": {
   "display_name": "Python 3",
   "language": "python",
   "name": "python3"
  },
  "language_info": {
   "codemirror_mode": {
    "name": "ipython",
    "version": 3
   },
   "file_extension": ".py",
   "mimetype": "text/x-python",
   "name": "python",
   "nbconvert_exporter": "python",
   "pygments_lexer": "ipython3",
   "version": "3.9.6"
  }
 },
 "nbformat": 4,
 "nbformat_minor": 5
}
