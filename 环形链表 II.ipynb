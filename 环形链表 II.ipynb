{
 "cells": [
  {
   "cell_type": "markdown",
   "id": "44cd4b5d",
   "metadata": {},
   "source": [
    "这是hot100的第26题：环形链表 II 给定一个链表的头节点  head ，返回链表开始入环的第一个节点。 如果链表无环，则返回 null。\n",
    "\n",
    "如果链表中有某个节点，可以通过连续跟踪 next 指针再次到达，则链表中存在环。 为了表示给定链表中的环，评测系统内部使用整数 pos 来表示链表尾连接到链表中的位置（索引从 0 开始）。如果 pos 是 -1，则在该链表中没有环。注意：pos 不作为参数进行传递，仅仅是为了标识链表的实际情况。\n",
    "\n",
    "不允许修改 链表。"
   ]
  },
  {
   "cell_type": "code",
   "execution_count": null,
   "id": "dd2a7742",
   "metadata": {},
   "outputs": [],
   "source": [
    "# Definition for singly-linked list.\n",
    "# class ListNode:\n",
    "#     def __init__(self, x):\n",
    "#         self.val = x\n",
    "#         self.next = None\n",
    "\n",
    "class Solution:\n",
    "    def detectCycle(self, head: Optional[ListNode]) -> Optional[ListNode]:\n",
    "        i = 0\n",
    "        m = n = head\n",
    "        while True:\n",
    "            if m == None or m.next == None or n.next == None or n.next.next == None:\n",
    "                return None\n",
    "            elif m == n and i != 0:\n",
    "                break\n",
    "            else:\n",
    "                i += 1\n",
    "                n = n.next\n",
    "                m = m.next.next\n",
    "        l = head\n",
    "        for j in range(i):\n",
    "            l = l.next\n",
    "        while l != head:\n",
    "            l = l.next\n",
    "            head = head.next\n",
    "        return head"
   ]
  },
  {
   "cell_type": "markdown",
   "id": "13818e6a",
   "metadata": {},
   "source": [
    "也不难，就是判断环中的节点数量k，再重新找两个指针，一个移动k次，一个从头开始，同时移动，直至两者相遇，也就是相交的节点\n",
    "需要注意的是，使用快慢指针时，判断有没有环，只用fast来判断就好，slow不会比fast先遇到none的\n",
    "除此之外，不用再使用l节点了，因为慢节点已经走了在环中l-a步，只需要和头节点一起移动，相遇的点即使我们需要的节点"
   ]
  }
 ],
 "metadata": {
  "language_info": {
   "name": "python"
  }
 },
 "nbformat": 4,
 "nbformat_minor": 5
}
