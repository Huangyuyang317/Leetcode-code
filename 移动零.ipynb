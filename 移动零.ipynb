{
 "cells": [
  {
   "cell_type": "markdown",
   "id": "1a1ef8c6",
   "metadata": {},
   "source": [
    "这是hot100的第四题：移动零 给定一个数组nums，编写一个函数将所有0移动到数组的末尾，同时保持非零元素的相对顺序。\n",
    "请注意 ，必须在不复制数组的情况下原地对数组进行操作。"
   ]
  },
  {
   "cell_type": "code",
   "execution_count": null,
   "id": "816d11eb",
   "metadata": {},
   "outputs": [],
   "source": [
    "class Solution:\n",
    "    def moveZeroes(self, nums: List[int]) -> None:\n",
    "        j = len(nums) - 1\n",
    "        for i in range(len(nums)):\n",
    "            if nums[i] != 0:\n",
    "                continue\n",
    "            else:\n",
    "                while nums[i] == 0 and i < j:\n",
    "                    nums.pop(i)\n",
    "                    nums.append(0)\n",
    "                    j -= 1\n",
    "            if i == j:\n",
    "                break\n",
    "        return nums"
   ]
  },
  {
   "cell_type": "markdown",
   "id": "93d9c0fe",
   "metadata": {},
   "source": [
    "在这里学到了pop方法，如果是对列表中的元素使用的话，是一个时间复杂度为o（n^2）的方法，复杂度太大了\n",
    "\n",
    "还有就是一些没考虑到的地方，比如说在这里的交换，会是的i与j互换错过了，导致程序没有结果，所以边界条件的交换还是有点忽略\n",
    "\n",
    "同时for循环中有两组if条件，哪个先，哪个后要考虑清楚，是先执行还是先判断"
   ]
  },
  {
   "cell_type": "code",
   "execution_count": null,
   "id": "be518abc",
   "metadata": {},
   "outputs": [],
   "source": [
    "class Solution:\n",
    "    def moveZeroes(self, nums: List[int]) -> None:\n",
    "        j = 0\n",
    "        for i in range(len(nums)):\n",
    "            if nums[i] != 0:\n",
    "                nums[i],nums[j] = nums[j],nums[i]\n",
    "        return nums"
   ]
  },
  {
   "cell_type": "markdown",
   "id": "586cfc88",
   "metadata": {},
   "source": [
    "改进算法的思路就是交换，但是如何减少次数的交换，这里双指针的用法，i负责遍历，j负责把遍历到的正数全部放在它的之前，还有一个用栈的方法，遍历的过程中把非零元素在栈顶一步步入栈，栈顶就是根据一个指针进行移动"
   ]
  },
  {
   "cell_type": "code",
   "execution_count": null,
   "id": "811e8139",
   "metadata": {},
   "outputs": [],
   "source": [
    "class Solution:\n",
    "    def moveZeroes(self, nums: List[int]) -> None:\n",
    "        j = 0\n",
    "        for i in range(len(nums)):\n",
    "            if nums[i] != 0:\n",
    "                nums[j] = nums[i]\n",
    "                j += 1\n",
    "        for i in range(j,len(nums)):\n",
    "            nums[i] = 0\n",
    "        return nums"
   ]
  }
 ],
 "metadata": {
  "language_info": {
   "name": "python"
  }
 },
 "nbformat": 4,
 "nbformat_minor": 5
}
