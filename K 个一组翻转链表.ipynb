{
 "cells": [
  {
   "cell_type": "markdown",
   "id": "acb8ca61",
   "metadata": {},
   "source": [
    "这是hot100的第31题：K 个一组翻转链表 给你链表的头节点 head ，每 k 个节点一组进行翻转，请你返回修改后的链表。\n",
    "\n",
    "k 是一个正整数，它的值小于或等于链表的长度。如果节点总数不是 k 的整数倍，那么请将最后剩余的节点保持原有顺序。\n",
    "\n",
    "你不能只是单纯的改变节点内部的值，而是需要实际进行节点交换。"
   ]
  },
  {
   "cell_type": "code",
   "execution_count": null,
   "id": "961bc60d",
   "metadata": {},
   "outputs": [],
   "source": [
    "# Definition for singly-linked list.\n",
    "# class ListNode:\n",
    "#     def __init__(self, val=0, next=None):\n",
    "#         self.val = val\n",
    "#         self.next = next\n",
    "class Solution:\n",
    "    def reverseKGroup(self, head: Optional[ListNode], k: int) -> Optional[ListNode]:\n",
    "        l = s = ListNode(next=head)\n",
    "        def rev(node):\n",
    "            m = node\n",
    "            bf = None\n",
    "            cur = None\n",
    "            while node is not None:\n",
    "                cur = node\n",
    "                node = node.next\n",
    "                cur.next = bf\n",
    "                bf = cur\n",
    "            return cur,m\n",
    "        while l:\n",
    "            a = l\n",
    "            for i in range(k):\n",
    "                l = l.next\n",
    "                if not l:\n",
    "                    return s.next\n",
    "            b = a.next\n",
    "            a.next = None\n",
    "            c = l\n",
    "            d = c.next\n",
    "            c.next = None\n",
    "            b,c = rev(b)\n",
    "            a.next = b\n",
    "            c.next = d\n",
    "            l = c"
   ]
  },
  {
   "cell_type": "markdown",
   "id": "596c7d97",
   "metadata": {},
   "source": [
    "写的你妈吐血，想用迭代没想出来，还是用了反转链表的方法作为函数，每次截出来一部分作为输入，返回反转后的节点头和尾，再拼起来，太复杂了，相当于四个指针，没有这个必要\n",
    "\n",
    "可以使用迭代的方法来写，把思路理清楚一下，写在了下面"
   ]
  },
  {
   "cell_type": "code",
   "execution_count": null,
   "id": "5cf5e90b",
   "metadata": {},
   "outputs": [],
   "source": [
    "# Definition for singly-linked list.\n",
    "# class ListNode:\n",
    "#     def __init__(self, val=0, next=None):\n",
    "#         self.val = val\n",
    "#         self.next = next\n",
    "class Solution:\n",
    "    def reverseKGroup(self, head: Optional[ListNode], k: int) -> Optional[ListNode]:\n",
    "        pre = dummy = ListNode(next=head)\n",
    "        while True:\n",
    "            l = pre.next\n",
    "            for i in range(k):\n",
    "                if not l:\n",
    "                    return dummy.next\n",
    "                l = l.next\n",
    "            m,n = None,pre.next\n",
    "            for i in range(k):\n",
    "                nd = n.next\n",
    "                n.next = m\n",
    "                m = n\n",
    "                n = nd\n",
    "            p = pre.next\n",
    "            pre.next = m\n",
    "            p.next = n\n",
    "            pre = p"
   ]
  },
  {
   "cell_type": "markdown",
   "id": "5f1be0f5",
   "metadata": {},
   "source": [
    "这个想着一步把中间的反转和前后链表链接合在一起做完了，其实可以不用，最后再进行链表的重链接\n",
    "\n",
    "pre.next就是最后的节点尾部，n是最后节点的头部  pre和n相连 pre.next作为旗帜\n",
    "\n",
    "找none作为初始的尾部，进行更新，这个是我没想到的最重要原因！！！把它作为反转链表的最重要思想，找一个none把中途链表反转，再去连接其他的头尾"
   ]
  }
 ],
 "metadata": {
  "kernelspec": {
   "display_name": "Python 3",
   "language": "python",
   "name": "python3"
  },
  "language_info": {
   "name": "python",
   "version": "3.9.6"
  }
 },
 "nbformat": 4,
 "nbformat_minor": 5
}
