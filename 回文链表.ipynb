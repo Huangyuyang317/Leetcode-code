{
 "cells": [
  {
   "cell_type": "markdown",
   "id": "f171916a",
   "metadata": {},
   "source": [
    "这是hot100第24题：回文链表 给你一个单链表的头节点 head ，请你判断该链表是否为回文链表。如果是，返回 true ；否则，返回 false 。"
   ]
  },
  {
   "cell_type": "code",
   "execution_count": null,
   "id": "53959c73",
   "metadata": {},
   "outputs": [],
   "source": [
    "# Definition for singly-linked list.\n",
    "# class ListNode:\n",
    "#     def __init__(self, val=0, next=None):\n",
    "#         self.val = val\n",
    "#         self.next = next\n",
    "class Solution:\n",
    "    def isPalindrome(self, head: Optional[ListNode]) -> bool:\n",
    "        i = 1\n",
    "        n = head\n",
    "        while n.next != None:\n",
    "            i += 1\n",
    "            n = n.next\n",
    "        n = head\n",
    "        for j in range((i-1)//2+1):\n",
    "            n = n.next\n",
    "        cur = af = None\n",
    "        while n != None:\n",
    "            cur = n\n",
    "            n = n.next\n",
    "            cur.next = af\n",
    "            af = cur\n",
    "        while cur != None:\n",
    "            if cur.val == head.val:\n",
    "                cur = cur.next\n",
    "                head = head.next\n",
    "            else:\n",
    "                return False\n",
    "        return True"
   ]
  },
  {
   "cell_type": "markdown",
   "id": "c674486f",
   "metadata": {},
   "source": [
    "不限制空间复杂度的方法，就用栈的思想，不难，这里我就不写了,这里是一个投机取巧的方法，保证时间复杂度和空间复杂度的进阶要求，想到了上一题中的翻转链表，这里把后半截的链表用迭代的方法翻转了，再进行比对，知道比到错误，否则就为真，没想到就是这么做的，舒服了"
   ]
  }
 ],
 "metadata": {
  "language_info": {
   "name": "python"
  }
 },
 "nbformat": 4,
 "nbformat_minor": 5
}
