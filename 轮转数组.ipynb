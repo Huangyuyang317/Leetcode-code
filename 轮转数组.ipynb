{
 "cells": [
  {
   "cell_type": "markdown",
   "id": "6a513b30",
   "metadata": {},
   "source": [
    "这是hot100的第15题：轮转数组：给定一个整数数组 nums，将数组中的元素向右轮转 k 个位置，其中 k 是非负数。"
   ]
  },
  {
   "cell_type": "code",
   "execution_count": null,
   "id": "a44f369b",
   "metadata": {},
   "outputs": [],
   "source": [
    "class Solution:\n",
    "    def rotate(self, nums: List[int], k: int) -> None:\n",
    "        for i in range(k%(len(nums))):\n",
    "            n = nums[-1]\n",
    "            for j in range(len(nums)-1,-1,-1):\n",
    "                if j == 0:\n",
    "                    nums[0] = n\n",
    "                else:\n",
    "                    nums[j] = nums[j-1]"
   ]
  },
  {
   "cell_type": "markdown",
   "id": "27b6f5ad",
   "metadata": {},
   "source": [
    "这个方法100%超时了"
   ]
  },
  {
   "cell_type": "code",
   "execution_count": null,
   "id": "fb6f8d7b",
   "metadata": {},
   "outputs": [],
   "source": [
    "class Solution:\n",
    "    def rotate(self, nums: List[int], k: int) -> None:\n",
    "        n =[nums[i] for i in range(len(nums)-k%(len(nums)),len(nums))]\n",
    "        for i in range(len(nums)-1,-1,-1):\n",
    "            if i < k%len(nums):\n",
    "                nums[i] = n[i]\n",
    "            else:\n",
    "                nums[i] = nums[i-k%len(nums)]"
   ]
  },
  {
   "cell_type": "markdown",
   "id": "03b76eb2",
   "metadata": {},
   "source": [
    "这个时间复杂度和空间复杂度都是o(n)，时间没毛病，就是空间差了一点，看看怎么修改"
   ]
  },
  {
   "cell_type": "code",
   "execution_count": null,
   "id": "30d67652",
   "metadata": {},
   "outputs": [],
   "source": [
    "class Solution:\n",
    "    def rotate(self, nums: List[int], k: int) -> None:\n",
    "        s = k%(len(nums))\n",
    "        for l in range(gcd(s,len(nums))):\n",
    "            n = nums[l]\n",
    "            j = l\n",
    "            for i in range(len(nums)//gcd(s,len(nums))):\n",
    "                if i == len(nums)/gcd(s,len(nums)) - 1:\n",
    "                    nums[j] = n\n",
    "                else:\n",
    "                    nums[j] = nums[(j+len(nums)-s)%len(nums)]\n",
    "                    j = (j+len(nums)-s)%len(nums)"
   ]
  },
  {
   "cell_type": "markdown",
   "id": "ba1b9489",
   "metadata": {},
   "source": [
    "这个是环状替换法，是通过时间复杂度o(n)，空间复杂度o(1)的算法进行计算的，想法来源于观察仅使用一个变量储存的情况下，一个下标在由前面下标的数字进行替换，直到返回这个下标的数字替换其后的数字，这个总共需要多少轮，我们发现轮数与k和len的gcd有关\n",
    "由于最终回到了起点，故该过程恰好走了整数数量的圈，不妨设为 a 圈；再设该过程总共遍历了 b 个元素。因此，我们有 an=bk，即 an 一定为 n,k 的公倍数。又因为我们在第一次回到起点时就结束，因此 a 要尽可能小，故 an 就是 n,k 的最小公倍数 lcm(n,k)，因此 b 就为 lcm(n,k)/k。\n",
    "\n",
    "这说明单次遍历会访问到 lcm(n,k)/k 个元素。为了访问到所有的元素，我们需要进行遍历的次数为\n",
    "n/(lcm(n,k)/k)=(nk)/lcm(n,k)=gcd(n,k)\n",
    "\n",
    "这里学到的：\n",
    "\n",
    "1.range（）中必须是整数，所以有触发必须是//\n",
    "\n",
    "下面还有一种算法，是技巧型的，因为我们要把后k (mod n)个移到前面，所以就要先把他们换到前面，也就是把整个数组reverse，reverse之后，前k (mod n)个的顺序反了，后面的n -k (mod n)个也反了，所以还要把这两个部分分别reverse，结束"
   ]
  },
  {
   "cell_type": "code",
   "execution_count": null,
   "id": "d8ec4602",
   "metadata": {},
   "outputs": [],
   "source": [
    "class Solution:\n",
    "    def rotate(self, nums: List[int], k: int) -> None:\n",
    "        def reverse(i: int, j: int) -> None:\n",
    "            while i < j:\n",
    "                nums[i], nums[j] = nums[j], nums[i]\n",
    "                i += 1\n",
    "                j -= 1\n",
    "\n",
    "        n = len(nums)\n",
    "        k %= n \n",
    "        nums.reverse()\n",
    "        reverse(0, k - 1)\n",
    "        reverse(k, n - 1)"
   ]
  },
  {
   "cell_type": "markdown",
   "id": "2501326e",
   "metadata": {},
   "source": [
    "这里学到的：\n",
    "反转切片用这个方法\n",
    "i = 0 \n",
    "j = len(nums) - 1\n",
    "while i < j:\n",
    "    nums[i], nums[j] = nums[j], nums[i]\n",
    "    i += 1\n",
    "    j -= 1"
   ]
  }
 ],
 "metadata": {
  "language_info": {
   "name": "python"
  }
 },
 "nbformat": 4,
 "nbformat_minor": 5
}
