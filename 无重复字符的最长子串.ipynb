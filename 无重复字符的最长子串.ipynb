{
 "cells": [
  {
   "cell_type": "markdown",
   "id": "09045091",
   "metadata": {},
   "source": [
    "这是我的hot100第8题：无重复字符的最长子串 给定一个字符串 s ，请你找出其中不含有重复字符的 最长 子串 的长度。"
   ]
  },
  {
   "cell_type": "code",
   "execution_count": null,
   "id": "6885ba20",
   "metadata": {},
   "outputs": [],
   "source": [
    "class Solution:\n",
    "    def lengthOfLongestSubstring(self, s: str) -> int:\n",
    "        ans = 0\n",
    "        temp = 0\n",
    "        j = 0\n",
    "        s1 = set()\n",
    "        for i in range(len(s)):\n",
    "            if s[i] in s1:\n",
    "                ans = max(ans,temp)\n",
    "                for k in range(j,i):\n",
    "                    if s[k] == s[i]:\n",
    "                        j = k + 1\n",
    "                        temp = i - k\n",
    "                        break\n",
    "                    else:\n",
    "                        s1.remove(s[k])\n",
    "            else:\n",
    "                s1.update(s[i])\n",
    "                temp += 1\n",
    "        ans = max(ans,temp)\n",
    "        return ans"
   ]
  },
  {
   "cell_type": "markdown",
   "id": "edd9fadf",
   "metadata": {},
   "source": [
    "easy,滑动窗口秒了，写代码的时候注意一点，ij什么的不要写错了，这里就是写错了s[k] == s[i]，写成了s[k] == s[j]，搞得半天没改出来bug\n",
    "学到了集合的相关知识：\n",
    "1.add加单独元素，update（列表）加批量\n",
    "2.remove（元素）就是在集合中删去这个元素"
   ]
  }
 ],
 "metadata": {
  "language_info": {
   "name": "python"
  }
 },
 "nbformat": 4,
 "nbformat_minor": 5
}
