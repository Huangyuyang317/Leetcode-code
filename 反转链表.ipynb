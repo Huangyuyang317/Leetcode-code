{
 "cells": [
  {
   "cell_type": "markdown",
   "id": "48f9a49f",
   "metadata": {},
   "source": [
    "这是hot100的第23题：反转链表 给你单链表的头节点 head ，请你反转链表，并返回反转后的链表。"
   ]
  },
  {
   "cell_type": "code",
   "execution_count": null,
   "id": "f92e2599",
   "metadata": {},
   "outputs": [],
   "source": [
    "# Definition for singly-linked list.\n",
    "# class ListNode:\n",
    "#     def __init__(self, val=0, next=None):\n",
    "#         self.val = val\n",
    "#         self.next = next\n",
    "class Solution:\n",
    "    def reverseList(self, head: Optional[ListNode]) -> Optional[ListNode]:\n",
    "        bf = None\n",
    "        cur = None\n",
    "        while head is not None:\n",
    "            cur = head\n",
    "            head = head.next\n",
    "            cur.next = bf\n",
    "            bf = cur\n",
    "        return cur"
   ]
  },
  {
   "cell_type": "markdown",
   "id": "ae4c4e4e",
   "metadata": {},
   "source": [
    "easy 就一步步翻转就可以了，走到用bf cur af储存，af为cur的next，然后bf接在cur的后面，bf赋值为cur，到最前端，最后把af赋值到cur，代表节点的移动\n",
    "这个是迭代的方法\n",
    "下面的是递归的方法"
   ]
  },
  {
   "cell_type": "code",
   "execution_count": null,
   "id": "d95ea0b7",
   "metadata": {},
   "outputs": [],
   "source": [
    "# Definition for singly-linked list.\n",
    "# class ListNode:\n",
    "#     def __init__(self, val=0, next=None):\n",
    "#         self.val = val\n",
    "#         self.next = next\n",
    "class Solution:\n",
    "    def reverseList(self, head: Optional[ListNode]) -> Optional[ListNode]:\n",
    "        def concat(listnode,node):\n",
    "            if listnode:\n",
    "                a = node\n",
    "                node = listnode\n",
    "                listnode = listnode.next\n",
    "                node.next = a\n",
    "                return concat(listnode,node)\n",
    "            else:\n",
    "                return node\n",
    "        node = None\n",
    "        node = concat(head,node)\n",
    "        return node"
   ]
  },
  {
   "cell_type": "markdown",
   "id": "5a716bfe",
   "metadata": {},
   "source": [
    "这个递归方法还没有意识到递归类的实例方法，而是写了一个函数，这个会稍微复杂一点\n",
    "这里学到的：\n",
    "1.类的实例方法在也可以用递归的思想\n",
    "2.创建空链表节点时，直接用None就可以\n",
    "3.链表的赋值也是浅拷贝，如果对一个节点的next修改了，要在之前就把next的节点先储存起来"
   ]
  },
  {
   "cell_type": "code",
   "execution_count": null,
   "id": "4ea5f229",
   "metadata": {},
   "outputs": [],
   "source": [
    "# Definition for singly-linked list.\n",
    "# class ListNode:\n",
    "#     def __init__(self, val=0, next=None):\n",
    "#         self.val = val\n",
    "#         self.next = next\n",
    "class Solution:\n",
    "    def reverseList(self, head: Optional[ListNode]) -> Optional[ListNode]:\n",
    "        if head == None or head.next == None:\n",
    "            return head\n",
    "        cur = self.reverseList(head.next)\n",
    "        head.next.next = head\n",
    "        head.next = None\n",
    "        return cur"
   ]
  },
  {
   "cell_type": "markdown",
   "id": "4683d709",
   "metadata": {},
   "source": [
    "这个迭代的方法是最厉害的\n",
    "首先说明一下，为什么不会在第一个return的地方就结束了呢？我们要把这段代码放在一个大的代码块中，这个类本身都是被执行的，这个return只return在调用它的函数在的地方，而在head为none时调用的函数，是在这个实例方法中间的，不是在这个代码块外部，所以不会直接返回值\n",
    "第二，为什么要把head.next设置为none，因为如果不这样设置，head.next.next == head head.next == head.next会有一个环，但是链表最不允许环的出现\n",
    "\n",
    "好，现在开始解释这个代码，递归的使用，在于对类实例方法的递归\n",
    "cur的作用是标识到翻转完成后到链表头，真正在翻转起作用的，是head\n",
    "函数在运行过程中，一直卡在了cur = self.reverseList(head.next)，直到我们把cur标记到了最后一个节点，此时这个递归函数中的head在倒数第二个节点了，将倒数第一个节点的next，指向了倒数第二个，倒数第二个的next也就设置为空，此时最后一层的递归函数执行完毕，返回上一层\n",
    "注意在这里，cur没有变化，cur一直指向原始链表的最后一个点位，但是返回上层之后，要执行上一层的后续代码，head变了，变成倒数第三个节点了，它的next还是倒数第二个，但是我们要把倒数第二个的next放在倒数第三个上，并且消除环，也就是使用head.next.next = head head.next = none，依次执行，直至最外一层\n",
    "over"
   ]
  }
 ],
 "metadata": {
  "kernelspec": {
   "display_name": "Python 3",
   "language": "python",
   "name": "python3"
  },
  "language_info": {
   "codemirror_mode": {
    "name": "ipython",
    "version": 3
   },
   "file_extension": ".py",
   "mimetype": "text/x-python",
   "name": "python",
   "nbconvert_exporter": "python",
   "pygments_lexer": "ipython3",
   "version": "3.9.6"
  }
 },
 "nbformat": 4,
 "nbformat_minor": 5
}
