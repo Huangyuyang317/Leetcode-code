{
 "cells": [
  {
   "cell_type": "markdown",
   "id": "4eb85b5a",
   "metadata": {},
   "source": [
    "这是hot100的第44题：二叉搜索树中第 K 小的元素 给定一个二叉搜索树的根节点 root ，和一个整数 k ，请你设计一个算法查找其中第 k 小的元素（从 1 开始计数）。"
   ]
  },
  {
   "cell_type": "code",
   "execution_count": null,
   "id": "d874b038",
   "metadata": {},
   "outputs": [],
   "source": [
    "# Definition for a binary tree node.\n",
    "# class TreeNode:\n",
    "#     def __init__(self, val=0, left=None, right=None):\n",
    "#         self.val = val\n",
    "#         self.left = left\n",
    "#         self.right = right\n",
    "class Solution:\n",
    "    def kthSmallest(self, root: Optional[TreeNode], k: int) -> int:\n",
    "        i,ans = 0,0\n",
    "        def inorder(node):\n",
    "            nonlocal i,ans\n",
    "            if node == None:\n",
    "                return None\n",
    "            inorder(node.left)\n",
    "            i += 1\n",
    "            if i == k:\n",
    "                ans = node.val\n",
    "            inorder(node.right)\n",
    "        inorder(root)\n",
    "        return ans"
   ]
  },
  {
   "cell_type": "markdown",
   "id": "10b95c68",
   "metadata": {},
   "source": [
    "解释一下为什么要在i+=1要在左子树遍历之后得到，因为左遍历会一直遍历，直到遇到最左的叶子节点，如何最左的none返回，计数一次，此时为1，最左的右节点也是none，然后因为是上一层的node.left,所以会回到这一步，然后因为这个是第二小的，在下一步也会执行i+=1，知道然后去右子树，按照这个逻辑，直到找到第k个\n",
    "\n",
    "如果是第k大的话，就把代码顺序改一下，中序遍历不止左中右，还可以走右中左，这样就是第k大大"
   ]
  }
 ],
 "metadata": {
  "language_info": {
   "name": "python"
  }
 },
 "nbformat": 4,
 "nbformat_minor": 5
}
