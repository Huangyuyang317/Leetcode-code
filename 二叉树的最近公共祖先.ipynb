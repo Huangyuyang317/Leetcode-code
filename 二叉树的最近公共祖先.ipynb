{
 "cells": [
  {
   "cell_type": "markdown",
   "id": "4570c65b",
   "metadata": {},
   "source": [
    "这是hot100的第49题：二叉树的最近公共祖先 给定一个二叉树, 找到该树中两个指定节点的最近公共祖先。\n",
    "\n",
    "百度百科中最近公共祖先的定义为：“对于有根树 T 的两个节点 p、q，最近公共祖先表示为一个节点 x，满足 x 是 p、q 的祖先且 x 的深度尽可能大（一个节点也可以是它自己的祖先）。”"
   ]
  },
  {
   "cell_type": "code",
   "execution_count": null,
   "id": "c0b26fa2",
   "metadata": {},
   "outputs": [],
   "source": [
    "# Definition for a binary tree node.\n",
    "# class TreeNode:\n",
    "#     def __init__(self, x):\n",
    "#         self.val = x\n",
    "#         self.left = None\n",
    "#         self.right = None\n",
    "\n",
    "class Solution:\n",
    "    def lowestCommonAncestor(self, root: 'TreeNode', p: 'TreeNode', q: 'TreeNode') -> 'TreeNode':\n",
    "        def route(node,m,lis,ans):\n",
    "            if not node:\n",
    "                return\n",
    "            lis.append(node)\n",
    "            if node == m:\n",
    "                for i in range(len(lis)):\n",
    "                    ans.append(lis[i])\n",
    "            route(node.left,m,lis,ans)\n",
    "            route(node.right,m,lis,ans)\n",
    "            lis.pop()\n",
    "        a,b = [],[]\n",
    "        route(root,p,[],a)\n",
    "        route(root,q,[],b)\n",
    "        res = None\n",
    "        for i in range(min(len(a),len(b))):\n",
    "            if a[i] != b[i]:\n",
    "                break\n",
    "            res = a[i]\n",
    "        return res"
   ]
  },
  {
   "cell_type": "markdown",
   "id": "9a27243a",
   "metadata": {},
   "source": [
    "用之前一样的思路，不断回溯，找到对应的节点后，把路径返回，然后路径从头开始进行对比，直到找到合适的，最朴素的思路\n",
    "这里学到的：\n",
    "1.ans.append(lis) 但是lis改变后，ans是指向地址，所以也会变"
   ]
  },
  {
   "cell_type": "code",
   "execution_count": null,
   "id": "cfac363f",
   "metadata": {},
   "outputs": [],
   "source": [
    "# Definition for a binary tree node.\n",
    "# class TreeNode:\n",
    "#     def __init__(self, x):\n",
    "#         self.val = x\n",
    "#         self.left = None\n",
    "#         self.right = None\n",
    "\n",
    "class Solution:\n",
    "    def lowestCommonAncestor(self, root: 'TreeNode', p: 'TreeNode', q: 'TreeNode') -> 'TreeNode':\n",
    "        if root in (None,p,q):\n",
    "            return root\n",
    "        left = self.lowestCommonAncestor(node.left,p,q)\n",
    "        right = self.lowestCommonAncestor(node.right,p,q)\n",
    "        if left and right:\n",
    "            return root\n",
    "        return left or right"
   ]
  },
  {
   "cell_type": "markdown",
   "id": "f0554682",
   "metadata": {},
   "source": [
    "这个思路非常优雅：\n",
    "判断root本身是不是p或者q或者none，如果是前两者，就返回了，none也代表递归到了边界，返回即可\n",
    "如果不是，则判断p q会不会在左和右子树中，如果是在左有一个，在右有一个，说明现在就是祖宗节点，\n",
    "如果只有左有，那就祖宗节点就在左子树中\n",
    "这个秒的地方在于，如果root下没有的话，返回的就是none，有的话，返回的就是node，如果一个node是另一个的父节点，left or right就可以满足了，其余的就在left and right就可以了"
   ]
  }
 ],
 "metadata": {
  "kernelspec": {
   "display_name": "Python 3",
   "language": "python",
   "name": "python3"
  },
  "language_info": {
   "codemirror_mode": {
    "name": "ipython",
    "version": 3
   },
   "file_extension": ".py",
   "mimetype": "text/x-python",
   "name": "python",
   "nbconvert_exporter": "python",
   "pygments_lexer": "ipython3",
   "version": "3.9.6"
  }
 },
 "nbformat": 4,
 "nbformat_minor": 5
}
