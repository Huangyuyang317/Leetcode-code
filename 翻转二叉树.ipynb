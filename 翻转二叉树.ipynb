{
 "cells": [
  {
   "cell_type": "markdown",
   "id": "4ec07d17",
   "metadata": {},
   "source": [
    "这是hot100的第38题：翻转二叉树 给你一棵二叉树的根节点 root ，翻转这棵二叉树，并返回其根节点。"
   ]
  },
  {
   "cell_type": "code",
   "execution_count": null,
   "id": "eba8af9d",
   "metadata": {},
   "outputs": [],
   "source": [
    "# Definition for a binary tree node.\n",
    "# class TreeNode:\n",
    "#     def __init__(self, val=0, left=None, right=None):\n",
    "#         self.val = val\n",
    "#         self.left = left\n",
    "#         self.right = right\n",
    "class Solution:\n",
    "    def invertTree(self, root: Optional[TreeNode]) -> Optional[TreeNode]:\n",
    "        if not root:\n",
    "            return None\n",
    "        left = self.invertTree(root.left)\n",
    "        right = self.invertTree(root.right)\n",
    "        root.left,root.right = right,left\n",
    "        return root"
   ]
  },
  {
   "cell_type": "markdown",
   "id": "2ecd98c7",
   "metadata": {},
   "source": [
    "还是递归，把左右子树互换就行了，一步步回溯,是dfs"
   ]
  },
  {
   "cell_type": "code",
   "execution_count": null,
   "id": "33a29dc4",
   "metadata": {},
   "outputs": [],
   "source": [
    "# Definition for a binary tree node.\n",
    "# class TreeNode:\n",
    "#     def __init__(self, val=0, left=None, right=None):\n",
    "#         self.val = val\n",
    "#         self.left = left\n",
    "#         self.right = right\n",
    "class Solution:\n",
    "    def invertTree(self, root: Optional[TreeNode]) -> Optional[TreeNode]:\n",
    "        if not root:\n",
    "            return None\n",
    "        s = [root]\n",
    "        while s:\n",
    "            temp = []\n",
    "            for node in s:\n",
    "                node.left,node.right = node.right,node.left\n",
    "                if node.right:\n",
    "                    temp.append(node.right)\n",
    "                if node.left:\n",
    "                    temp.append(node.left)\n",
    "            s = temp\n",
    "        return root"
   ]
  },
  {
   "cell_type": "markdown",
   "id": "072ea8c3",
   "metadata": {},
   "source": [
    "这个就是广度搜索算法，把每个节点都交换左右节点了"
   ]
  }
 ],
 "metadata": {
  "language_info": {
   "name": "python"
  }
 },
 "nbformat": 4,
 "nbformat_minor": 5
}
