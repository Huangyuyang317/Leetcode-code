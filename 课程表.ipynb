{
 "cells": [
  {
   "cell_type": "markdown",
   "id": "799ed1d6",
   "metadata": {},
   "source": [
    "这是hot100的第53题：课程表 你这个学期必须选修 numCourses 门课程，记为 0 到 numCourses - 1 。\n",
    "\n",
    "在选修某些课程之前需要一些先修课程。 先修课程按数组 prerequisites 给出，其中 prerequisites[i] = [ai, bi] ，表示如果要学习课程 ai 则 必须 先学习课程  bi 。\n",
    "\n",
    "例如，先修课程对 [0, 1] 表示：想要学习课程 0 ，你需要先完成课程 1 。\n",
    "请你判断是否可能完成所有课程的学习？如果可以，返回 true ；否则，返回 false 。"
   ]
  },
  {
   "cell_type": "code",
   "execution_count": null,
   "id": "ef82e731",
   "metadata": {},
   "outputs": [],
   "source": [
    "class Solution:\n",
    "    def canFinish(self, numCourses: int, prerequisites: List[List[int]]) -> bool:\n",
    "        def dfs(i):\n",
    "            if i in d:\n",
    "                return False\n",
    "            if i in dic:\n",
    "                return True\n",
    "            d[i] = 1\n",
    "            d2[i] = 1\n",
    "            for j in s[i]:\n",
    "                if not dfs(j):\n",
    "                    return False\n",
    "            d.pop(i)\n",
    "            return True\n",
    "        s = [[]for i in range(numCourses)]\n",
    "        for i in range(len(prerequisites)):\n",
    "            s[prerequisites[i][0]].append(prerequisites[i][1])\n",
    "        dic = {}\n",
    "        for i in range(numCourses):\n",
    "            d2 = {}\n",
    "            d = {}\n",
    "            m = dfs(i)\n",
    "            if not m:\n",
    "                return False\n",
    "            dic.update(d2)\n",
    "        return True"
   ]
  },
  {
   "cell_type": "markdown",
   "id": "30407e66",
   "metadata": {},
   "source": [
    "这个方法利用了回溯的思想，数据结构为图论中的邻接表，空间复杂度为o(v+e)：v为点数，e为边数\n",
    "思路如下，把每一个节点i的先修课程放在s[i]的lis\n",
    "空字典dic，表示已经直接遍历过或者间接遍历过的节点\n",
    "遍历s，每个节点i进行dfs，创立回溯字典d，全部遍历字典d2\n",
    "如果i在d中，说明其先修课程中出现，为环，返回false\n",
    "没在的话，把i放在d和d2中\n",
    "遍历节点i的先修列表s[i]，对s[i]中每一个j进行dfs，但凡有一个dfs为false就该函数返回false\n",
    "遍历完成后，该节点完成遍历，pop(i)\n",
    "直至节点i的所有先修课程遍历，如果返回了false，则说明这个课程安排有冲突，整体返回false\n",
    "如果没有问题，就把d2，也就是记录所有在这里遍历过的节点，和dic合并，后序dic在其中的话，就直接判断true了\n",
    "所有节点判断完毕，没问题就返回true"
   ]
  },
  {
   "cell_type": "code",
   "execution_count": null,
   "id": "df8b5057",
   "metadata": {},
   "outputs": [],
   "source": [
    "class Solution:\n",
    "    def canFinish(self, numCourses: int, prerequisites: List[List[int]]) -> bool:\n",
    "        def dfs(i):\n",
    "            if flag[i] == -1:\n",
    "                return True\n",
    "            elif flag[i] == 1:\n",
    "                return False\n",
    "            flag[i] = 1\n",
    "            for j in s[i]:\n",
    "                if not dfs(j):\n",
    "                    return False\n",
    "            flag[i] = -1\n",
    "            return True\n",
    "\n",
    "        s = [[]for _ in range(numCourses)]\n",
    "        for l in prerequisites:\n",
    "            s[l[0]].append(l[1])\n",
    "        flag = [0 for _ in range(numCourses)]\n",
    "        for i in range(numCourses):\n",
    "            if not dfs(i):\n",
    "                return False\n",
    "        return True"
   ]
  },
  {
   "cell_type": "markdown",
   "id": "118bd449",
   "metadata": {},
   "source": [
    "这个的回溯更加简洁优雅，用flag代表这个节点是否曾被遍历，是否正在遍历，是否未遍历，-1，1，0\n",
    "如果是1，则是环，则是flase，-1则是true\n",
    "记住在dfs中的最后一步，都会有return false和true的，这个不可能没有"
   ]
  },
  {
   "cell_type": "code",
   "execution_count": null,
   "id": "f99065c8",
   "metadata": {},
   "outputs": [],
   "source": [
    "from collections import deque\n",
    "class Solution:\n",
    "    def canFinish(self, numCourses: int, prerequisites: List[List[int]]) -> bool:\n",
    "        indegrees = [0 for _ in range(numCourses)]\n",
    "        adjacency = [[] for _ in range(numCourses)]\n",
    "        queue = deque()\n",
    "        for cur,pre in prerequisites:\n",
    "            indegrees[cur] += 1\n",
    "            adjacency[pre].append(cur)\n",
    "        for i in range(numCourses):\n",
    "            if indegrees[i] == 0:\n",
    "                queue.append(i)\n",
    "        while queue:\n",
    "            cur = queue.popleft()\n",
    "            numCourses -= 1\n",
    "            for i in adjacency[cur]:\n",
    "                indegrees[i] -= 1\n",
    "                if indegrees[i] == 0:\n",
    "                    queue.append(i)\n",
    "        return not numCourses"
   ]
  },
  {
   "cell_type": "markdown",
   "id": "09aa6fe4",
   "metadata": {},
   "source": [
    "利用拓扑排序，判断该课程表构成的图是不是有向无边图（dag），方法是：先把图中所有点的入度储存在indegrees表中，把点与边的关系储存在adjacency中，注意，这里存的不是它的前驱，而是它的后继节点\n",
    "开始使用deque，把每个入度为0的放入，开始迭代，deque的leftpop，把这个节点的所有后继节点的入度减1，说明把这个点删去，当后继节点有入度为0的，则再加入deque中，直至deque中为0，也就是没有剩余入度为0的了，只有环"
   ]
  },
  {
   "cell_type": "markdown",
   "id": "0df8a01b",
   "metadata": {},
   "source": [
    "邻接表：\n",
    "​​适用场景​​\n",
    "✅ ​​稀疏图（Sparse Graph）​​（边数远小于 V²，如社交网络、网页链接）\n",
    "✅ ​​需要频繁遍历邻居​​（如 DFS/BFS）\n",
    "✅ ​​内存有限​​（存储空间 O(V + E)，比邻接矩阵更省内存）\n",
    "✅ ​​动态图（频繁增删边）​​（修改邻居列表的时间是 O(1)）\n",
    "不适用场景​​\n",
    "❌ ​​需要快速判断 (u, v) 是否有边​​（需要遍历 u 的邻居列表，最坏 O(V)）\n",
    "❌ ​​稠密图（Dense Graph）​​（边数接近 V²，邻接矩阵更高效）\n",
    "\n",
    "邻接矩阵：\n",
    "适用场景​​\n",
    "✅ ​​稠密图（Dense Graph）​​（边数接近 V²，如地图导航）\n",
    "✅ ​​需要快速判断 (u, v) 是否有边​​（O(1) 时间）\n",
    "✅ ​​需要频繁查询边的权重​​（如最短路径算法）\n",
    "✅ ​​图的规模较小（V ≤ 1000）​​（内存 O(V²)，大图会爆内存）\n",
    "​​不适用场景​​\n",
    "❌ ​​稀疏图（内存浪费严重）​​\n",
    "❌ ​​需要频繁遍历邻居​​（必须扫描整行，O(V)）\n",
    "❌ ​​动态图（频繁增删边）​​（修改矩阵较慢）"
   ]
  }
 ],
 "metadata": {
  "language_info": {
   "name": "python"
  }
 },
 "nbformat": 4,
 "nbformat_minor": 5
}
