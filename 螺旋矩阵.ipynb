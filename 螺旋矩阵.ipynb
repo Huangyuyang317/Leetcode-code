{
 "cells": [
  {
   "cell_type": "markdown",
   "id": "f9bdb297",
   "metadata": {},
   "source": [
    "这是hot100第19题：螺旋矩阵 给你一个 m 行 n 列的矩阵 matrix ，请按照 顺时针螺旋顺序 ，返回矩阵中的所有元素。"
   ]
  },
  {
   "cell_type": "code",
   "execution_count": null,
   "id": "f84962b0",
   "metadata": {},
   "outputs": [],
   "source": [
    "class Solution:\n",
    "    def spiralOrder(self, matrix: List[List[int]]) -> List[int]:\n",
    "        def peel(mat,a):\n",
    "            if not matrix:\n",
    "                pass\n",
    "            elif len(mat) == 1:\n",
    "                for i in range(len(mat[0])):\n",
    "                    a.append(mat[0][i])\n",
    "            elif len(mat[0]) == 1:\n",
    "                for i in range(len(mat)):\n",
    "                    a.append(mat[i][0])\n",
    "            else:\n",
    "                for j in range(len(mat[0])):\n",
    "                    a.append(mat[0][j])\n",
    "                mat.pop(0)\n",
    "                for i in range(len(mat)):\n",
    "                    a.append(mat[i][-1])\n",
    "                    mat[i].pop()\n",
    "                for j in range(len(mat[-1])-1,-1,-1):\n",
    "                    a.append(mat[-1][j])\n",
    "                mat.pop()\n",
    "                for i in range(len(mat)-1,-1,-1):\n",
    "                    a.append(mat[i][0])\n",
    "                    mat[i].pop(0)\n",
    "                if len(mat) > 0 and len(mat[0]) > 0:\n",
    "                    peel(mat,a)\n",
    "        ans = []\n",
    "        peel(matrix,ans)\n",
    "        return ans"
   ]
  },
  {
   "cell_type": "markdown",
   "id": "f0f6a224",
   "metadata": {},
   "source": [
    "递归的思路，写着很难，思路不难，注意的地方在于，如果matrix列比行多，最后会是空矩阵，要维护边界，如果matrix行比列多，那么最后会剩下空列表，但是matrix不是空，所以要判断其元素的长度\n",
    "新的思路是给了一个数组储存下一次遇到边界应该如何转弯，也就是超出了矩阵范围或者是遇到了被遍历的数组，遇到了之后，每次就把转弯的标识前进一步再取模，以后就往这个方向走"
   ]
  },
  {
   "cell_type": "code",
   "execution_count": null,
   "id": "29cdf6bd",
   "metadata": {},
   "outputs": [],
   "source": [
    "class Solution:\n",
    "    def spiralOrder(self, matrix: List[List[int]]) -> List[int]:\n",
    "        d = [(0,1),(1,0),(0,-1),(-1,0)]\n",
    "        m = len(matrix)\n",
    "        n = len(matrix[0])\n",
    "        ans = []\n",
    "        i = j = di = 0\n",
    "        for _ in range(m*n):\n",
    "            ans.append(matrix[i][j])\n",
    "            matrix[i][j] = None\n",
    "            x = i + d[di][0]\n",
    "            y = j + d[di][1]\n",
    "            if x > m-1 or x < 0 or y > n-1 or y < 0 or matrix[x][y] == None:\n",
    "                di = (di+1)%4\n",
    "            i = i + d[di][0]\n",
    "            j = j + d[di][1]\n",
    "        return ans"
   ]
  }
 ],
 "metadata": {
  "language_info": {
   "name": "python"
  }
 },
 "nbformat": 4,
 "nbformat_minor": 5
}
