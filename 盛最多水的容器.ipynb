{
 "cells": [
  {
   "cell_type": "markdown",
   "id": "31f57df1",
   "metadata": {},
   "source": [
    "这是hot100第五题：盛最多水的容器 给定一个长度为 n 的整数数组 height 。有 n 条垂线，第 i 条线的两个端点是 (i, 0) 和 (i, height[i]) 。\n",
    "\n",
    "找出其中的两条线，使得它们与 x 轴共同构成的容器可以容纳最多的水。\n",
    "\n",
    "返回容器可以储存的最大水量。\n",
    "\n",
    "说明：你不能倾斜容器。"
   ]
  },
  {
   "cell_type": "code",
   "execution_count": null,
   "id": "854d05e0",
   "metadata": {},
   "outputs": [],
   "source": [
    "class Solution:\n",
    "    def maxArea(self, height: List[int]) -> int:\n",
    "        if len(height) == 2:\n",
    "            return max(height[0],height[1])\n",
    "        m1 = 0\n",
    "        m2 = 0\n",
    "        l = [0 for i in range(len(height))]\n",
    "        for i in range(len(height)):\n",
    "            if m1 >= height[i]:\n",
    "                l[i]= 1\n",
    "            else:\n",
    "                m1 = height[i]\n",
    "        for i in range(len(height)-1,-1,-1):\n",
    "            if m2 >= height[i] and l[i] == 1:\n",
    "                height[i] = 0\n",
    "            else:\n",
    "                m2 = height[i]\n",
    "        i,j = 0,len(height) - 1\n",
    "        ans = 0\n",
    "        while j-i > 1:\n",
    "            ans = max(ans,(j-i)*min(height[j],height[i]))\n",
    "            if height[i] >= height[i]:\n",
    "                j += 1\n",
    "            else:\n",
    "                i += 1\n",
    "        return ans"
   ]
  },
  {
   "cell_type": "markdown",
   "id": "4457a83a",
   "metadata": {},
   "source": [
    "这个傻逼题目困了好几天，因为根本不懂双指针怎么使用，根本想不到这个题目指针的移动方法，我真他妈是个傻逼，这个题目以后不许忘记了，太他妈畜生了，这都想不出来\n",
    "这个题目我刚开始判断的地方，是筛选不可以的位置，当左右均存在比它高的时，这个棒不可以作为左或者右节点，这个易得，然后后面就想不出来了\n",
    "\n",
    "这里的正确做法，是用左右两边的双指针，计算围成的面积后，向中间逼近，把两边中最小的那个向中间移动，再比较面积大小，直至两个指针临近\n",
    "这里学到的东西：\n",
    "1.指针的是要重叠判断还是挨在一起的判断"
   ]
  },
  {
   "cell_type": "code",
   "execution_count": null,
   "id": "6f74b8bf",
   "metadata": {},
   "outputs": [],
   "source": [
    "class Solution:\n",
    "    def maxArea(self, height: List[int]) -> int:\n",
    "        # if len(height) == 2:\n",
    "        #     return min(height[0],height[1])\n",
    "        i,j = 0,len(height) - 1\n",
    "        ans = 0\n",
    "        while i<j:\n",
    "            h = min(height[j],height[i])\n",
    "            ans = max(ans,(j-i)*h)\n",
    "            if height[i] >= height[j]:\n",
    "                while h >= height[j] and i<j:\n",
    "                    j -= 1\n",
    "            else:\n",
    "                while height[i] <= h and i<j:\n",
    "                    i += 1\n",
    "        return ans"
   ]
  },
  {
   "cell_type": "markdown",
   "id": "2d8360ee",
   "metadata": {},
   "source": [
    "下面这个代码的优化在于，前进时，不止前进一次，而是把比两者小的都跳过了"
   ]
  }
 ],
 "metadata": {
  "language_info": {
   "name": "python"
  }
 },
 "nbformat": 4,
 "nbformat_minor": 5
}
