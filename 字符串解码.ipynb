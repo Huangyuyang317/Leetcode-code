{
 "cells": [
  {
   "cell_type": "markdown",
   "id": "2d419609",
   "metadata": {},
   "source": [
    "这是hot100的第71题：字符串解码 给定一个经过编码的字符串，返回它解码后的字符串。\n",
    "\n",
    "编码规则为: k[encoded_string]，表示其中方括号内部的 encoded_string 正好重复 k 次。注意 k 保证为正整数。\n",
    "\n",
    "你可以认为输入字符串总是有效的；输入字符串中没有额外的空格，且输入的方括号总是符合格式要求的。\n",
    "\n",
    "此外，你可以认为原始数据不包含数字，所有的数字只表示重复的次数 k ，例如不会出现像 3a 或 2[4] 的输入。"
   ]
  },
  {
   "cell_type": "code",
   "execution_count": null,
   "id": "77004469",
   "metadata": {},
   "outputs": [],
   "source": [
    "class Solution:\n",
    "    def decodeString(self, s: str) -> str:\n",
    "        ans = []\n",
    "        st = []\n",
    "        num = []\n",
    "        for i in s:\n",
    "            if i == ']':\n",
    "                while ans[-1] != '[':\n",
    "                    st.append(ans[-1])\n",
    "                    ans.pop()\n",
    "                ans.pop()\n",
    "                while ans and len(ans[-1]) == 1 and 57 >= ord(ans[-1]) >= 48:\n",
    "                    num.append(ans[-1])\n",
    "                    ans.pop()\n",
    "                st.reverse()\n",
    "                num.reverse()\n",
    "                ans.append(int(''.join(num))*''.join(st))\n",
    "                st = []\n",
    "                num = []\n",
    "            else:\n",
    "                ans.append(i)\n",
    "        return ''.join(ans)"
   ]
  },
  {
   "cell_type": "markdown",
   "id": "ac13f287",
   "metadata": {},
   "source": [
    "我的方法有一点笨重，是用栈储存字符，加以辅助栈num和st储存数字和字符，遇到]后把之前的字符和数字分别输入到num和st，然后reverse，在放了进去"
   ]
  },
  {
   "cell_type": "code",
   "execution_count": null,
   "id": "e4b11d85",
   "metadata": {},
   "outputs": [],
   "source": [
    "class Solution:\n",
    "    def decodeString(self, s: str) -> str:\n",
    "        num,res,stack = 0,\"\",[]\n",
    "        for i in s:\n",
    "            if i =='[':\n",
    "                stack.append((num,res))\n",
    "                num,res = 0,\"\"\n",
    "            elif i == ']':\n",
    "                cur_num,cur_res = stack.pop()\n",
    "                res = cur_res+ cur_num * res\n",
    "            elif '0' <= i <= '9':\n",
    "                num = num*10 + int(i)\n",
    "            else:\n",
    "                res += i\n",
    "        return res"
   ]
  },
  {
   "cell_type": "markdown",
   "id": "685a3902",
   "metadata": {},
   "source": [
    "这个使用的方法是用’【‘判断开始，把前文的num和在这个数字之前到上一个数字之后的res储存起来，然后把res和num重置，遇到了'】'就把stack的末尾pop出来，把res与num相乘后与取出来的cur_res相加，作为新的res，遇到数字，就把原来的num*10再加int，如果碰见的是字符，就把它加在res后面"
   ]
  }
 ],
 "metadata": {
  "language_info": {
   "name": "python"
  }
 },
 "nbformat": 4,
 "nbformat_minor": 5
}
