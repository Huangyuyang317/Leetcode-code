{
 "cells": [
  {
   "cell_type": "markdown",
   "id": "d33bc0d3",
   "metadata": {},
   "source": [
    "这是hot100的第64题：搜索二维矩阵 给你一个满足下述两条属性的 m x n 整数矩阵：\n",
    "\n",
    "每行中的整数从左到右按非严格递增顺序排列。\n",
    "每行的第一个整数大于前一行的最后一个整数。\n",
    "给你一个整数 target ，如果 target 在矩阵中，返回 true ；否则，返回 false 。\n",
    "\n"
   ]
  },
  {
   "cell_type": "code",
   "execution_count": null,
   "id": "45bd589f",
   "metadata": {},
   "outputs": [],
   "source": [
    "class Solution:\n",
    "    def searchMatrix(self, matrix: List[List[int]], target: int) -> bool:\n",
    "        left,right = 0,len(matrix)*len(matrix[0])-1\n",
    "        while left <= right:\n",
    "            mid = (left+right)//2\n",
    "            if matrix[mid//len(matrix[0])][mid%len(matrix[0])] < target:\n",
    "                left = mid+1\n",
    "            else:\n",
    "                right = mid-1\n",
    "        print(left)\n",
    "        return left < len(matrix)*len(matrix[0]) and matrix[left//len(matrix[0])][left%len(matrix[0])] == target"
   ]
  },
  {
   "cell_type": "markdown",
   "id": "bebdc6d3",
   "metadata": {},
   "source": [
    "沿用了上一题的方法，先把二维降为一位，二分查找的方式，找到应该插入的地方，也就是如果原matrix中存在，这个下标应该就是target，如果不是或者超出界限，就代表不存在"
   ]
  }
 ],
 "metadata": {
  "language_info": {
   "name": "python"
  }
 },
 "nbformat": 4,
 "nbformat_minor": 5
}
