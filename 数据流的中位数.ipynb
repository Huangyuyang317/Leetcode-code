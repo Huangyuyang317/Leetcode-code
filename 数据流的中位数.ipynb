{
 "cells": [
  {
   "cell_type": "markdown",
   "id": "eacbada2",
   "metadata": {},
   "source": [
    "这是hot100的第76题：数据流的中位数 中位数是有序整数列表中的中间值。如果列表的大小是偶数，则没有中间值，中位数是两个中间值的平均值。\n",
    "\n",
    "例如 arr = [2,3,4] 的中位数是 3 。\n",
    "例如 arr = [2,3] 的中位数是 (2 + 3) / 2 = 2.5 。\n",
    "实现 MedianFinder 类:\n",
    "\n",
    "MedianFinder() 初始化 MedianFinder 对象。\n",
    "\n",
    "void addNum(int num) 将数据流中的整数 num 添加到数据结构中。\n",
    "\n",
    "double findMedian() 返回到目前为止所有元素的中位数。与实际答案相差 10-5 以内的答案将被接受。\n",
    "\n"
   ]
  },
  {
   "cell_type": "code",
   "execution_count": null,
   "id": "7c607a3a",
   "metadata": {},
   "outputs": [],
   "source": [
    "class MedianFinder:\n",
    "\n",
    "    def __init__(self):\n",
    "        self.length = 0\n",
    "        self.lis = []\n",
    "\n",
    "    def addNum(self, num: int) -> None:\n",
    "        self.lis.append(num)\n",
    "        self.length += 1\n",
    "\n",
    "    def findKthLargest(self,lis,k):\n",
    "        pivot = random.choice(lis)\n",
    "        left,mid,right = [],[],[]\n",
    "        for i in lis:\n",
    "            if i > pivot:\n",
    "                left.append(i)\n",
    "            elif i < pivot:\n",
    "                right.append(i)\n",
    "            else:\n",
    "                mid.append(i)\n",
    "        if k <= len(left):\n",
    "            return self.findKthLargest(left,k)\n",
    "        elif k > len(mid) + len(left):\n",
    "            return self.findKthLargest(right,k-len(mid)-len(left))\n",
    "        else:\n",
    "            return pivot\n",
    "\n",
    "    def findMedian(self) -> float:\n",
    "        if not self.length%2:\n",
    "            return (self.findKthLargest(self.lis,self.length//2) + self.findKthLargest(self.lis,self.length//2+1))/2\n",
    "        else:\n",
    "            return self.findKthLargest(self.lis,self.length//2+1)\n",
    "\n",
    "\n",
    "# Your MedianFinder object will be instantiated and called as such:\n",
    "# obj = MedianFinder()\n",
    "# obj.addNum(num)\n",
    "# param_2 = obj.findMedian()"
   ]
  },
  {
   "cell_type": "markdown",
   "id": "d0e8d2e2",
   "metadata": {},
   "source": [
    "这个是用的之前的算法，快速选择算法，但是在这个情况下就会超时，因为没有用到之前的结果，所以会有超时的情况"
   ]
  },
  {
   "cell_type": "code",
   "execution_count": null,
   "id": "22633cdb",
   "metadata": {},
   "outputs": [],
   "source": [
    "import heapq\n",
    "class MedianFinder:\n",
    "\n",
    "    def __init__(self):\n",
    "        self.length = 0\n",
    "        self.heap = []\n",
    "\n",
    "    def addNum(self, num: int) -> None:\n",
    "        heapq.heappush(self.heap,num)\n",
    "        self.length += 1\n",
    "\n",
    "    def findMedian(self) -> float:\n",
    "        if self.length%2:\n",
    "            return heapq.nlargest(self.length//2+1,self.heap)[-1]\n",
    "        else:\n",
    "            return (heapq.nlargest(self.length//2,self.heap)[-1]+heapq.nlargest(self.length//2+1,self.heap)[-1])/2\n",
    "        \n",
    "\n",
    "\n",
    "# Your MedianFinder object will be instantiated and called as such:\n",
    "# obj = MedianFinder()\n",
    "# obj.addNum(num)\n",
    "# param_2 = obj.findMedian()"
   ]
  },
  {
   "cell_type": "markdown",
   "id": "87659fd3",
   "metadata": {},
   "source": [
    "这个在查找的时间复杂度上也失败了，是O(Nlogk),也是不行的"
   ]
  },
  {
   "cell_type": "code",
   "execution_count": null,
   "id": "46058c70",
   "metadata": {},
   "outputs": [],
   "source": [
    "class MedianFinder:\n",
    "\n",
    "    def __init__(self):\n",
    "        self.minheap = []\n",
    "        self.maxheap = []\n",
    "        self.minlength = 0\n",
    "        self.maxlength = 0\n",
    "\n",
    "    def addNum(self, num: int) -> None:\n",
    "        if self.minlength == self.maxlength:\n",
    "            if self.minheap == [] or num >= -self.maxheap[0]:\n",
    "                heapq.heappush(self.minheap,num)\n",
    "            elif num < -self.maxheap[0]:\n",
    "                v = heapq.heappop(self.maxheap)\n",
    "                heapq.heappush(self.minheap,-v)\n",
    "                heapq.heappush(self.maxheap,-num)\n",
    "            self.minlength += 1\n",
    "        else:\n",
    "            if num <= self.minheap[0]:\n",
    "                heapq.heappush(self.maxheap,-num)\n",
    "            elif num > self.minheap[0]:\n",
    "                v = heapq.heappop(self.minheap)\n",
    "                heapq.heappush(self.maxheap,-v)\n",
    "                heapq.heappush(self.minheap,num)\n",
    "            self.maxlength += 1\n",
    "\n",
    "\n",
    "    def findMedian(self) -> float:\n",
    "        if self.maxlength == self.minlength:\n",
    "            return (self.minheap[0]-self.maxheap[0])/2\n",
    "        else:\n",
    "            return self.minheap[0]\n",
    "        \n",
    "\n",
    "\n",
    "# Your MedianFinder object will be instantiated and called as such:\n",
    "# obj = MedianFinder()\n",
    "# obj.addNum(num)\n",
    "# param_2 = obj.findMedian()"
   ]
  },
  {
   "cell_type": "markdown",
   "id": "4276b226",
   "metadata": {},
   "source": [
    "这里又要回顾到了中位数的定义，是把数组分成两个大小相等或者相差1的集合后，两个最大最小的平均值，或者是大集合的最小值，所以我们为了能够快速寻找到中位数，要维护两个堆，堆的大小来说，小的堆不能大于大的堆，大的堆不能大于小的超过1，当两者有差时，就取大堆的最小值，无差时，取大堆的最小值和小堆的最大值的平均值\n",
    "\n",
    "大堆因为要取最小值，所以要最小堆，值不用变化，小堆因为要去最大值，所以要最大堆，值要取负，因为默认的是最小堆\n",
    "新来的数，如果此时两个堆长度相同，就先取负放到小堆中，取堆顶出来，放到大堆；如果小堆短一些，就先放到大堆，把堆顶取出来，放到小堆"
   ]
  },
  {
   "cell_type": "code",
   "execution_count": null,
   "id": "320e040a",
   "metadata": {},
   "outputs": [],
   "source": [
    "class MedianFinder:\n",
    "\n",
    "    def __init__(self):\n",
    "        self.minheap = []\n",
    "        self.maxheap = []\n",
    "        self.minlength = 0\n",
    "        self.maxlength = 0\n",
    "\n",
    "    def addNum(self, num: int) -> None:\n",
    "        if self.minlength == self.maxlength:\n",
    "            heapq.heappush(self.minheap,-heapq.heappushpop(self.maxheap,-num))\n",
    "            self.minlength += 1\n",
    "        else:\n",
    "            heapq.heappush(self.maxheap,-heapq.heappushpop(self.minheap,num))\n",
    "            self.maxlength += 1\n",
    "\n",
    "    def findMedian(self) -> float:\n",
    "        if self.maxlength == self.minlength:\n",
    "            return (self.minheap[0]-self.maxheap[0])/2\n",
    "        else:\n",
    "            return self.minheap[0]\n",
    "\n",
    "# Your MedianFinder object will be instantiated and called as such:\n",
    "# obj = MedianFinder()\n",
    "# obj.addNum(num)\n",
    "# param_2 = obj.findMedian()"
   ]
  },
  {
   "cell_type": "markdown",
   "id": "09f8ca8c",
   "metadata": {},
   "source": [
    "这个比上面优化了，简化了代码\n",
    "这里学到的：\n",
    "1.heapq有heappushpop方法：意思是先把一个元素放入堆中，堆化后取出堆顶"
   ]
  }
 ],
 "metadata": {
  "kernelspec": {
   "display_name": "Python 3",
   "language": "python",
   "name": "python3"
  },
  "language_info": {
   "codemirror_mode": {
    "name": "ipython",
    "version": 3
   },
   "file_extension": ".py",
   "mimetype": "text/x-python",
   "name": "python",
   "nbconvert_exporter": "python",
   "pygments_lexer": "ipython3",
   "version": "3.9.6"
  }
 },
 "nbformat": 4,
 "nbformat_minor": 5
}
