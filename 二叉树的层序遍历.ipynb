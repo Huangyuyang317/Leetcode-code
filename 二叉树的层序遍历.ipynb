{
 "cells": [
  {
   "cell_type": "markdown",
   "id": "76d14a38",
   "metadata": {},
   "source": [
    "这是hot100的第41题：二叉树的层序遍历 给你二叉树的根节点 root ，返回其节点值的 层序遍历 。 （即逐层地，从左到右访问所有节点）。"
   ]
  },
  {
   "cell_type": "code",
   "execution_count": null,
   "id": "65a014ab",
   "metadata": {},
   "outputs": [],
   "source": [
    "# Definition for a binary tree node.\n",
    "# class TreeNode:\n",
    "#     def __init__(self, val=0, left=None, right=None):\n",
    "#         self.val = val\n",
    "#         self.left = left\n",
    "#         self.right = right\n",
    "class Solution:\n",
    "    def levelOrder(self, root: Optional[TreeNode]) -> List[List[int]]:\n",
    "        if not root:\n",
    "            return []\n",
    "        ans = []\n",
    "        s = [root]\n",
    "        while s:\n",
    "            temp = []\n",
    "            v = []\n",
    "            for node in s:\n",
    "                if node:\n",
    "                    v.append(node.val)\n",
    "                    if node.left:\n",
    "                        temp.append(node.left)\n",
    "                    if node.right:\n",
    "                        temp.append(node.right)\n",
    "            s = temp\n",
    "            ans.append(v)\n",
    "        return ans"
   ]
  },
  {
   "cell_type": "markdown",
   "id": "fa14ba00",
   "metadata": {},
   "source": [
    "层序遍历最好是把当前层的值存进去，然后遍历的时候存下一层的node，不会出错"
   ]
  }
 ],
 "metadata": {
  "language_info": {
   "name": "python"
  }
 },
 "nbformat": 4,
 "nbformat_minor": 5
}
