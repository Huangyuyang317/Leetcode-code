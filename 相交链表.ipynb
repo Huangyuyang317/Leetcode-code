{
 "cells": [
  {
   "cell_type": "markdown",
   "id": "35e3ebc1",
   "metadata": {},
   "source": [
    "这是hot100的第22题：相交链表\n",
    "给你两个单链表的头节点 headA 和 headB ，请你找出并返回两个单链表相交的起始节点。如果两个链表不存在相交节点，返回 null 。\n",
    "\n",
    "图示两个链表在节点 c1 开始相交：\n",
    "\n",
    "\n",
    "题目数据 保证 整个链式结构中不存在环。\n",
    "\n",
    "注意，函数返回结果后，链表必须 保持其原始结构 。"
   ]
  },
  {
   "cell_type": "code",
   "execution_count": null,
   "id": "9dfb962b",
   "metadata": {},
   "outputs": [],
   "source": [
    "class Solution:\n",
    "    def getIntersectionNode(self, headA: ListNode, headB: ListNode) -> Optional[ListNode]:\n",
    "        l = None\n",
    "        m=n=k=1\n",
    "        a = headA\n",
    "        b = headB\n",
    "        while a.next != None:\n",
    "            m += 1\n",
    "            a = a.next\n",
    "        while b.next != None:\n",
    "            n += 1\n",
    "            b = b.next\n",
    "        if m > n:\n",
    "            for i in range(m-n):\n",
    "                headA = headA.next\n",
    "        elif m < n:\n",
    "            for i in range(n-m):\n",
    "                headB = headB.next\n",
    "        for i in range(min(m,n)):\n",
    "            if headA == headB and k == 1:\n",
    "                l = headA\n",
    "                k = 0\n",
    "            elif headA == headB and k == 0:\n",
    "                pass\n",
    "            else:\n",
    "                l = None\n",
    "                k = 1\n",
    "            headA = headA.next\n",
    "            headB = headB.next\n",
    "        return l\n"
   ]
  },
  {
   "cell_type": "markdown",
   "id": "b76b643f",
   "metadata": {},
   "source": [
    "我草泥马力扣，不说明白是值还是地址相同，值的话就用val比较，地址就节点直接比较，这个的方法是相同的节点后面都会完全相同，所以先拖到尾部对齐，再从对其的地方遍历，需要注意的地方是，在赋值新的链表后，注意变量不要用错了\n",
    "\n",
    "还有一种神仙方法，用两个指针同时遍历，当遇见了none之后就返回另一个指针的起点，直至相遇，相遇的节点为相交点"
   ]
  },
  {
   "cell_type": "code",
   "execution_count": null,
   "id": "909a9526",
   "metadata": {},
   "outputs": [],
   "source": [
    "class Solution:\n",
    "    def getIntersectionNode(self, headA: ListNode, headB: ListNode) -> Optional[ListNode]:\n",
    "        a,b= headA,headB\n",
    "        while a != b:\n",
    "            a = a.next if a else headB\n",
    "            b = b.next if b else headA\n",
    "        return a"
   ]
  }
 ],
 "metadata": {
  "language_info": {
   "name": "python"
  }
 },
 "nbformat": 4,
 "nbformat_minor": 5
}
