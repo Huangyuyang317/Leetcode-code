{
 "cells": [
  {
   "cell_type": "markdown",
   "id": "1d003993",
   "metadata": {},
   "source": [
    "这是hot100的第72题：每日温度 给定一个整数数组 temperatures ，表示每天的温度，返回一个数组 answer ，其中 answer[i] 是指对于第 i 天，下一个更高温度出现在几天后。如果气温在这之后都不会升高，请在该位置用 0 来代替。"
   ]
  },
  {
   "cell_type": "code",
   "execution_count": null,
   "id": "ff37474d",
   "metadata": {},
   "outputs": [],
   "source": [
    "class Solution:\n",
    "    def dailyTemperatures(self, temperatures: List[int]) -> List[int]:\n",
    "        stack = []\n",
    "        ans = []\n",
    "        for i in range(len(temperatures)-1,-1,-1):\n",
    "            if not stack:\n",
    "                ans.append(0)\n",
    "                stack.append((temperatures[i],i))\n",
    "            else:\n",
    "                while stack and stack[-1][0] <= temperatures[i]:\n",
    "                    stack.pop()\n",
    "                if not stack:\n",
    "                    ans.append(0)\n",
    "                    stack.append((temperatures[i],i))\n",
    "                else:\n",
    "                    ans.append(stack[-1][1]-i)\n",
    "                    stack.append((temperatures[i],i))\n",
    "        return(ans[::-1])"
   ]
  },
  {
   "cell_type": "markdown",
   "id": "e2126167",
   "metadata": {},
   "source": [
    "使用的是单调栈，用单调栈反向遍历列表，当前一个比当前i的小，就要pop掉，因为它不可能是之前所有的数的下一个更高温度，找到比它大的之后，就把stack最后一个的索引放到ans的第i的地方,如果没有了stack，说明没有，放0"
   ]
  },
  {
   "cell_type": "code",
   "execution_count": null,
   "id": "a3737677",
   "metadata": {},
   "outputs": [],
   "source": [
    "class Solution:\n",
    "    def dailyTemperatures(self, temperatures: List[int]) -> List[int]:\n",
    "        stack = []\n",
    "        ans = [0] * len(temperatures)\n",
    "        for i in range(len(temperatures)-1,-1,-1):\n",
    "            while stack and temperatures[stack[-1]] <= temperatures[i]:\n",
    "                stack.pop()\n",
    "            if stack:\n",
    "                ans[i] = stack[-1]-i\n",
    "            stack.append(i)\n",
    "        return ans"
   ]
  },
  {
   "cell_type": "markdown",
   "id": "b773923f",
   "metadata": {},
   "source": [
    "这个简化了代码，初始化了ans，初始为0，在反向遍历的过程中，首先对stack进行单调栈的处理，处理完之后，如果stack还有，就把ans[i]设置为stack最后一个的，如果没有就不用管，因为本来就是0，最后把当前的i append到了stack中"
   ]
  }
 ],
 "metadata": {
  "language_info": {
   "name": "python"
  }
 },
 "nbformat": 4,
 "nbformat_minor": 5
}
