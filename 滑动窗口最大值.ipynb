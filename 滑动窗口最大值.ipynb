{
 "cells": [
  {
   "cell_type": "markdown",
   "id": "a1a0b059",
   "metadata": {},
   "source": [
    "这是hot100的第11题：滑动窗口最大值 给你一个整数数组 nums，有一个大小为 k 的滑动窗口从数组的最左侧移动到数组的最右侧。你只可以看到在滑动窗口内的 k 个数字。滑动窗口每次只向右移动一位。\n",
    "\n",
    "返回 滑动窗口中的最大值 。"
   ]
  },
  {
   "cell_type": "code",
   "execution_count": null,
   "id": "35f0386c",
   "metadata": {},
   "outputs": [],
   "source": [
    "class Solution:\n",
    "    def maxSlidingWindow(self, nums: List[int], k: int) -> List[int]:\n",
    "        ans = []\n",
    "        s = []\n",
    "        for i in range(len(nums)):\n",
    "            if (i == 0 and nums[i] >= nums[i+1])or(i == len(nums)-1 and nums[i] >= nums[i-1]) or (i > 0 and i < len(nums-1) and nums[i] >= nums[i-1] and nums[i] >= nums[i+1]):\n",
    "                s.append(nums[i])\n",
    "        j = 0\n",
    "        l = 0\n",
    "        for i in range(k):\n",
    "            if i == s[j]:\n",
    "                l = max(l,s[j])\n",
    "                j += 1\n",
    "        l = max(l,nums[k-1])\n",
    "        ans.append(l)\n",
    "        for i in range(k,len(nums)):\n",
    "            if i > s[j] and :\n",
    "        "
   ]
  },
  {
   "cell_type": "markdown",
   "id": "19dbbb1e",
   "metadata": {},
   "source": [
    "上面是我的失败代码，果然是困难题目，我不太会"
   ]
  },
  {
   "cell_type": "code",
   "execution_count": null,
   "id": "04e06046",
   "metadata": {},
   "outputs": [],
   "source": [
    "class Solution:\n",
    "    def maxSlidingWindow(self, nums: List[int], k: int) -> List[int]:\n",
    "        ans =[]\n",
    "        q = deque()\n",
    "        for i,x in enumerate(nums):\n",
    "            while q and nums[q[-1]] < x:\n",
    "                q.pop()\n",
    "            q.append(i)\n",
    "            if i-q[0]+1 > k:\n",
    "                q.popleft()\n",
    "            if i >= k-1:\n",
    "                ans.append(nums[q[0]])\n",
    "        return ans"
   ]
  },
  {
   "cell_type": "markdown",
   "id": "92b6f1fe",
   "metadata": {},
   "source": [
    "这个给了队列（先进先出）和双向队列的提示，但是我还是没想出来，原因在于我知道弹出左边的那个，但是不知道怎么保存最大值，而这个代码给的思路，是把不可能为最大值的数的下标给删除，什么是不可能的数呢，一个数如果在一个长度为k的子列中，它的左和右都有比它大的数，那么它就不可能是我们要的数，这个代码给的方法，也就是给了一个限定第一个和最后一个数的下标差不能超过k的双向单调队列，当超过k了，就把第一个数排出，当没有超过k，就把从尾部开始的数，一个个与新加入的数比大小，如果笑脸，也就是不可能满足的数字，就删除\n",
    "这里学到的东西：\n",
    "deque队列的左右插入和左右删除都是o(1)时间复杂度\n",
    "双向队列\n",
    "维护了单调队列 维护的意思是：在不破坏其基础数据结构的情况下，向其中添加/删除/修改/查询不同的数据\n",
    "单调队列的排出和单调栈一样，之所以使用队列，是因为要求k个数的条件"
   ]
  },
  {
   "cell_type": "code",
   "execution_count": null,
   "id": "1e1ca0a1",
   "metadata": {},
   "outputs": [],
   "source": [
    "class Solution:\n",
    "    def maxSlidingWindow(self, nums: List[int], k: int) -> List[int]:\n",
    "        n = len(nums)\n",
    "        # 注意 Python 默认的优先队列是小根堆\n",
    "        q = [(-nums[i], i) for i in range(k)]\n",
    "        heapq.heapify(q)\n",
    "\n",
    "        ans = [-q[0][0]]\n",
    "        for i in range(k, n):\n",
    "            heapq.heappush(q, (-nums[i], i))\n",
    "            while q[0][1] <= i - k:\n",
    "                heapq.heappop(q)\n",
    "            ans.append(-q[0][0])\n",
    "        \n",
    "        return ans"
   ]
  },
  {
   "cell_type": "markdown",
   "id": "9b9eb5cd",
   "metadata": {},
   "source": [
    "题解中给出了一个新的方法：用数据结构———堆进行实现，堆是一种二叉树，在python的heapq模块实现\n",
    "\n",
    "堆的特性：\n",
    "\n",
    "是一个完全二叉树，也就是除了第h层外，所有层都是上一层节点数的两倍\n",
    "\n",
    "树的性质：用列表实现，父节点的索引为子节点整除2，左右节点均是\n",
    "\n",
    "堆的分类：\n",
    "\n",
    "大根堆：父节点大于两个子节点\n",
    "\n",
    "小根堆：父节点小于两个子节点（为heaqp默认要求）\n",
    "\n",
    "其基础的方法有：\n",
    "\n",
    "heapify：将一个list转为最小堆，线性时间复杂度，O(n).\n",
    "\n",
    "heappush：往堆中插入一个值，同时要保持为最小堆。\n",
    "\n",
    "heappop：返回堆中的最小值，并把它从堆中删除，同时保持为最小堆；如果堆为空，发生 IndexError。直接通过heap[0]可以获取最小值并不从堆中把它删除。这个维持最小堆的方法是，把堆这个队列最末尾的元素放在堆顶，然后heapify。"
   ]
  },
  {
   "cell_type": "markdown",
   "id": "d9238a80",
   "metadata": {},
   "source": [
    "优先队列可以用上文的堆来实现：\n",
    "\n",
    "其中堆的排序根据值排序，我们输入的是元组，会根据元素的序列，从0向后依次比较，所以主要比较的是值，而不是索引，因为是选出最大值，所以要取负值，并且在每次加入之后维护一下堆的边界，堆顶（最小值）一定要满足在i-k大，否则会被pop"
   ]
  }
 ],
 "metadata": {
  "kernelspec": {
   "display_name": "Python 3",
   "language": "python",
   "name": "python3"
  },
  "language_info": {
   "codemirror_mode": {
    "name": "ipython",
    "version": 3
   },
   "file_extension": ".py",
   "mimetype": "text/x-python",
   "name": "python",
   "nbconvert_exporter": "python",
   "pygments_lexer": "ipython3",
   "version": "3.9.6"
  }
 },
 "nbformat": 4,
 "nbformat_minor": 5
}
