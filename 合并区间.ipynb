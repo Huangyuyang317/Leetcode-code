{
 "cells": [
  {
   "cell_type": "markdown",
   "id": "7220ca4c",
   "metadata": {},
   "source": [
    "这是hot100的第14题：合并区间 以数组 intervals 表示若干个区间的集合，其中单个区间为 intervals[i] = [starti, endi] 。请你合并所有重叠的区间，并返回 一个不重叠的区间数组，该数组需恰好覆盖输入中的所有区间 。"
   ]
  },
  {
   "cell_type": "code",
   "execution_count": null,
   "id": "3fd3716a",
   "metadata": {},
   "outputs": [],
   "source": [
    "class Solution:\n",
    "    def merge(self, intervals: List[List[int]]) -> List[List[int]]:\n",
    "        heapq.heapify(intervals)\n",
    "        intervals = list(intervals)\n",
    "        ans = [intervals[0]]\n",
    "        heapq.heappop(intervals)\n",
    "        for i in range(1,len(intervals)):\n",
    "            s = heapq.heappop(intervals)\n",
    "            if ans[-1][1] >= s[0]:\n",
    "                ans[-1][1] = max(ans[-1][1],s[1])\n",
    "            else:\n",
    "                ans.append(s)\n",
    "        return ans\n",
    "            "
   ]
  },
  {
   "cell_type": "markdown",
   "id": "7e908b15",
   "metadata": {},
   "source": [
    "这个题目的核心思想就是用根据左点位排序后的列表，从左往右扫描，当右端小于下一个左端时，断开，，不然就连上，取两个右端最大值\n",
    "为什么运行速度慢了呢，因为内置的sort一定比其他排序要快\n",
    "这里学到了li.sort(cmp=(排序方法选择)，key=（排列比较的元素，如果不是单个数字而是列表之类的话，一般形式为key=lambda x:x[i]），reverse=（排序方式，默认为false升序，为true时则是降序)\n"
   ]
  },
  {
   "cell_type": "code",
   "execution_count": null,
   "id": "fd3ad909",
   "metadata": {},
   "outputs": [],
   "source": [
    "class Solution:\n",
    "    def merge(self, intervals: List[List[int]]) -> List[List[int]]:\n",
    "        intervals.sort(key = lambda x:x[0])\n",
    "        ans = [intervals[0]]\n",
    "        for i in range(1,len(intervals)):\n",
    "            if ans[-1][1] >= intervals[i][0]:\n",
    "                ans[-1][1] = max(ans[-1][1],intervals[i][1])\n",
    "            else:\n",
    "                ans.append(intervals[i])\n",
    "        return ans\n",
    "            "
   ]
  }
 ],
 "metadata": {
  "language_info": {
   "name": "python"
  }
 },
 "nbformat": 4,
 "nbformat_minor": 5
}
