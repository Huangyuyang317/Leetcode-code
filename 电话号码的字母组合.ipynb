{
 "cells": [
  {
   "cell_type": "markdown",
   "id": "938ec177",
   "metadata": {},
   "source": [
    "这是hot100的第57题：电话号码的字母组合 给定一个仅包含数字 2-9 的字符串，返回所有它能表示的字母组合。答案可以按 任意顺序 返回。\n",
    "\n",
    "给出数字到字母的映射如下（与电话按键相同）。注意 1 不对应任何字母。"
   ]
  },
  {
   "cell_type": "code",
   "execution_count": null,
   "id": "dcbd1232",
   "metadata": {},
   "outputs": [],
   "source": [
    "class Solution:\n",
    "    def letterCombinations(self, digits: str) -> List[str]:\n",
    "        dic = {}\n",
    "        l = 97\n",
    "        for i in range(8):\n",
    "            if i+2 in (7,9):\n",
    "                dic[i+2] = [chr(l),chr(l+1),chr(l+2),chr(l+3)]\n",
    "                l += 4\n",
    "            else:\n",
    "                dic[i+2] = [chr(l),chr(l+1),chr(l+2)]\n",
    "                l += 3\n",
    "        ans = []\n",
    "        s = ''\n",
    "        def dial(i):\n",
    "            nonlocal s\n",
    "            if i == len(digits):\n",
    "                n = s\n",
    "                ans.append(n)\n",
    "                return\n",
    "            for j in dic[int(digits[i])]:\n",
    "                s += j\n",
    "                dial(i+1)\n",
    "                s = s[:-1]\n",
    "        if digits == '':\n",
    "            return ans\n",
    "        dial(0)\n",
    "        return ans"
   ]
  },
  {
   "cell_type": "markdown",
   "id": "818375c7",
   "metadata": {},
   "source": [
    "这个的思想也很简单，就是回溯的常规思想，把digit第一个取出来，对应dic中的list，进行辩论，把s+这个字符，然后，dial(i+1)就可以了，这里不用维护i，只需要维护s就可以\n",
    "这里学到的：\n",
    "1.字符串和数字的赋值，不需要像list.copy()，只需要先把str赋值给一个新的变量，存起来新的变量就可以了"
   ]
  }
 ],
 "metadata": {
  "kernelspec": {
   "display_name": "Python 3",
   "language": "python",
   "name": "python3"
  },
  "language_info": {
   "codemirror_mode": {
    "name": "ipython",
    "version": 3
   },
   "file_extension": ".py",
   "mimetype": "text/x-python",
   "name": "python",
   "nbconvert_exporter": "python",
   "pygments_lexer": "ipython3",
   "version": "3.9.6"
  }
 },
 "nbformat": 4,
 "nbformat_minor": 5
}
