{
 "cells": [
  {
   "cell_type": "markdown",
   "id": "bf6622d4",
   "metadata": {},
   "source": [
    "这是hot100的第39题：对称二叉树 给你一个二叉树的根节点 root ， 检查它是否轴对称。"
   ]
  },
  {
   "cell_type": "code",
   "execution_count": null,
   "id": "5fdfc922",
   "metadata": {},
   "outputs": [],
   "source": [
    "# Definition for a binary tree node.\n",
    "# class TreeNode:\n",
    "#     def __init__(self, val=0, left=None, right=None):\n",
    "#         self.val = val\n",
    "#         self.left = left\n",
    "#         self.right = right\n",
    "class Solution:\n",
    "    def isSymmetric(self, root: Optional[TreeNode]) -> bool:\n",
    "        s = [root]\n",
    "        while s:\n",
    "            temp = []\n",
    "            v = []\n",
    "            for node in s:\n",
    "                if node:\n",
    "                    temp.append(node.left)\n",
    "                    temp.append(node.right)\n",
    "                    m = node.left.val if node.left else None\n",
    "                    n = node.right.val if node.right else None\n",
    "                    v.append(m)\n",
    "                    v.append(n)\n",
    "            s = temp\n",
    "            if v != list(reversed(v)):\n",
    "                return False\n",
    "        return True"
   ]
  },
  {
   "cell_type": "markdown",
   "id": "2c4e648e",
   "metadata": {},
   "source": [
    "不要再瞎用栈来看轴对称了，用列表的反转就行了\n",
    "这个是树的广度优先遍历，把每一层的都储存在s中，每次更新就把s每个节点都左右节点输出在临时列表，同时用一个列表储存左右节点的val，没有左右节点就为none，，最后比较一下val是不轴对称的，不是的直接返回false，是的话就继续，把临时储存赋值到s，直到s为空\n",
    "学到的东西：\n",
    "1.list.reverse()是在list原地修改，要判断轴对称的话不可以，用list(reversed(lis))才对，这会返回一个新的列表"
   ]
  },
  {
   "cell_type": "code",
   "execution_count": null,
   "id": "3a7226a0",
   "metadata": {},
   "outputs": [],
   "source": [
    "class Solution:\n",
    "    def isSymmetric(self, root: Optional[TreeNode]) -> bool:\n",
    "        def rever(node):\n",
    "            if not node:\n",
    "                return None\n",
    "            node.left,node.right = rever(node.right),rever(node.left)\n",
    "            return node\n",
    "        def same(m,n):\n",
    "            if m == None and n == None:\n",
    "                return True\n",
    "            elif (m == None and n != None) or (m != None and n == None):\n",
    "                return False\n",
    "            return m.val == n.val and same(m.left,n.left) and same(m.right,n.right)\n",
    "        left,right = rever(root.left),root.right\n",
    "        return same(left,right)"
   ]
  },
  {
   "cell_type": "markdown",
   "id": "49058ac2",
   "metadata": {},
   "source": [
    "这个是用的深度优先搜索算法，也就是判断左右子树是不是反转后相同的，相同的这里用了思路是判断根的val，然后把左右节点分别判断是不是，直到有一个是none，如果都是，则true，否则，为false\n",
    "\n",
    "有一种简化的写法，也可以在这不用if和elif,而且可以不用反转，只要在下一个节点的比较时，用右节点和左节点比较就可以了"
   ]
  },
  {
   "cell_type": "code",
   "execution_count": null,
   "id": "d12cd2a6",
   "metadata": {},
   "outputs": [],
   "source": [
    "class Solution:\n",
    "    def isSymmetric(self, root: Optional[TreeNode]) -> bool:\n",
    "        def same(m,n):\n",
    "            if m == None or n == None:\n",
    "                return m is n\n",
    "            return m.val == n.val and same(m.left,n.right) and same(m.right,n.left)\n",
    "        return same(root.left,root.right)"
   ]
  }
 ],
 "metadata": {
  "language_info": {
   "name": "python"
  }
 },
 "nbformat": 4,
 "nbformat_minor": 5
}
