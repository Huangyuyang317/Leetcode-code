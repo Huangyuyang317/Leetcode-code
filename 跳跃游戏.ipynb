{
 "cells": [
  {
   "cell_type": "markdown",
   "id": "5e56ed8d",
   "metadata": {},
   "source": [
    "这是hot100的第78题：跳跃游戏 给你一个非负整数数组 nums ，你最初位于数组的 第一个下标 。数组中的每个元素代表你在该位置可以跳跃的最大长度。\n",
    "\n",
    "判断你是否能够到达最后一个下标，如果可以，返回 true ；否则，返回 false 。\n",
    "\n"
   ]
  },
  {
   "cell_type": "code",
   "execution_count": null,
   "id": "174b1d37",
   "metadata": {},
   "outputs": [],
   "source": [
    "class Solution:\n",
    "    def canJump(self, nums: List[int]) -> bool:\n",
    "        far = 0\n",
    "        for i in range(len(nums)):\n",
    "            if i <= far:\n",
    "                far = max(far,i+nums[i])\n",
    "        return far >= len(nums)-1\n"
   ]
  },
  {
   "cell_type": "markdown",
   "id": "c60d2fc4",
   "metadata": {},
   "source": [
    "解法就是贪心算法，最远达到的初始化为0，每走一步如果能够达到就更新一次最远距离"
   ]
  }
 ],
 "metadata": {
  "language_info": {
   "name": "python"
  }
 },
 "nbformat": 4,
 "nbformat_minor": 5
}
