{
 "cells": [
  {
   "cell_type": "markdown",
   "id": "b6ee583f",
   "metadata": {},
   "source": [
    "这是hot100的第一题：两数之和\n",
    "给定一个整数数组 nums 和一个整数目标值 target，请你在该数组中找出 和为目标值 target 的那两个整数，并返回它们的数组下标。\n",
    "你可以假设每种输入只会对应一个答案，并且你不能使用两次相同的元素。\n",
    "你可以按任意顺序返回答案。"
   ]
  },
  {
   "cell_type": "code",
   "execution_count": null,
   "id": "36687a8e",
   "metadata": {},
   "outputs": [],
   "source": [
    "class Solution:\n",
    "    def twoSum(self, nums: List[int], target: int) -> List[int]:\n",
    "        dic = dict()\n",
    "        for i in range(len(nums)):\n",
    "            if target-nums[i] in dic:\n",
    "                dic[target - nums[i]].append(i)\n",
    "            else:\n",
    "                dic[target - nums[i]] = [i]\n",
    "        for i in range(len(nums)):\n",
    "            if nums[i] in dic and i != dic[nums[i]][0]: \n",
    "                return [i,dic[nums[i]][0]]\n",
    "            if nums[i]*2 == target and  len(dic[nums[i]]) > 1: \n",
    "                return [i,dic[nums[i]][1]]\n",
    "            "
   ]
  },
  {
   "cell_type": "markdown",
   "id": "9d32db83",
   "metadata": {},
   "source": [
    "我的解法基础思想就是利用python字典的哈希查找，降低时间复杂度，第一次遍历把数据储存起来，第二次遍历再查找数据，注意点地方就是当是一个偶数target并且它的一半存在在nums中时，就要加入一个判断，是否这个偶数出现了两次"
   ]
  },
  {
   "cell_type": "code",
   "execution_count": null,
   "id": "b8eca08e",
   "metadata": {},
   "outputs": [],
   "source": [
    "class Solution:\n",
    "    def twoSum(self, nums: List[int], target: int) -> List[int]:\n",
    "        dic = dict()\n",
    "        for i in range(len(nums)):\n",
    "            if target - nums[i] in dic:\n",
    "                return [i,dic[target - nums[i]]]\n",
    "            else:\n",
    "                dic[nums[i]] = i"
   ]
  },
  {
   "cell_type": "markdown",
   "id": "7700da59",
   "metadata": {},
   "source": [
    "这个是根据ai修改与建议后的改进算法，修改的地方如下：\n",
    "1.只用了一次循环，在遍历一个值后，迅速判断其对称值在不在，在的话就返回结果\n",
    "\n",
    "学习的地方：\n",
    "python的字典 键 in dict 可以在时间复杂度为o(1)的情况下进行查找"
   ]
  }
 ],
 "metadata": {
  "kernelspec": {
   "display_name": "Python 3",
   "language": "python",
   "name": "python3"
  },
  "language_info": {
   "name": "python",
   "version": "3.9.6"
  }
 },
 "nbformat": 4,
 "nbformat_minor": 5
}
