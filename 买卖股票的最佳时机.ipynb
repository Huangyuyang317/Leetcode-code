{
 "cells": [
  {
   "cell_type": "markdown",
   "id": "ced2115a",
   "metadata": {},
   "source": [
    "这是hot100的第77题：买卖股票的最佳时机 给定一个数组 prices ，它的第 i 个元素 prices[i] 表示一支给定股票第 i 天的价格。\n",
    "\n",
    "你只能选择 某一天 买入这只股票，并选择在 未来的某一个不同的日子 卖出该股票。设计一个算法来计算你所能获取的最大利润。\n",
    "\n",
    "返回你可以从这笔交易中获取的最大利润。如果你不能获取任何利润，返回 0 。"
   ]
  },
  {
   "cell_type": "code",
   "execution_count": null,
   "id": "19a58a49",
   "metadata": {},
   "outputs": [],
   "source": [
    "class Solution:\n",
    "    def maxProfit(self, prices: List[int]) -> int:\n",
    "        maxi = 0\n",
    "        ans = 0\n",
    "        for i in range(len(prices)-2,-1,-1):\n",
    "            maxi = max(maxi,prices[i+1])\n",
    "            ans = max(ans,maxi-prices[i])\n",
    "        return ans"
   ]
  },
  {
   "cell_type": "markdown",
   "id": "9bbd8ab5",
   "metadata": {},
   "source": [
    "很简单，就是根据后面的最大值，卖出价值是这个，和当前价格，也就是买入价格相减，和ans比大小，把最大的存进去"
   ]
  },
  {
   "cell_type": "code",
   "execution_count": null,
   "id": "427e49ff",
   "metadata": {},
   "outputs": [],
   "source": [
    "class Solution:\n",
    "    def maxProfit(self, prices: List[int]) -> int:\n",
    "        ans = 0\n",
    "        mini,maxi = -1,-1\n",
    "        for i in range(len(prices)):\n",
    "            min_pre = prices[i-1] if i-1 >= 0 else inf\n",
    "            min_next = prices[i+1] if i+1 < len(prices) else inf\n",
    "            max_pre = prices[i-1] if i-1 >= 0 else -inf\n",
    "            max_next = prices[i+1] if i+1 < len(prices) else -inf\n",
    "            if mini == -1 and  prices[i] <= min_pre and prices[i] < min_next:\n",
    "                mini = prices[i]\n",
    "            elif mini != -1 and maxi == -1 and prices[i] >= max_pre and prices[i] > max_next:\n",
    "                maxi = prices[i]\n",
    "            if mini != -1 and maxi != -1:\n",
    "                print(maxi,mini)\n",
    "                ans += maxi-mini\n",
    "                mini = maxi = -1\n",
    "        return ans\n"
   ]
  },
  {
   "cell_type": "markdown",
   "id": "6fe6504e",
   "metadata": {},
   "source": [
    "这个是多次购买的情况，观察找到最高点和最低点，相减把ans加进去"
   ]
  }
 ],
 "metadata": {
  "language_info": {
   "name": "python"
  }
 },
 "nbformat": 4,
 "nbformat_minor": 5
}
