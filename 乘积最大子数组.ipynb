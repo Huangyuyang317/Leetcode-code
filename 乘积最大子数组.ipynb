{
 "cells": [
  {
   "cell_type": "markdown",
   "id": "8bf41ae5",
   "metadata": {},
   "source": [
    "这是hot100的第88题：乘积最大子数组 给你一个整数数组 nums ，请你找出数组中乘积最大的非空连续 子数组（该子数组中至少包含一个数字），并返回该子数组所对应的乘积。\n",
    "\n",
    "测试用例的答案是一个 32-位 整数。"
   ]
  },
  {
   "cell_type": "code",
   "execution_count": null,
   "id": "93cf9c3c",
   "metadata": {},
   "outputs": [],
   "source": [
    "class Solution:\n",
    "    def maxProduct(self, nums: List[int]) -> int:\n",
    "        ans = -inf\n",
    "        dp = [[None,None,None,None] for i in range(len(nums)+1)]\n",
    "        for i in range(1,len(dp)):\n",
    "            if nums[i-1] > 0:\n",
    "                dp[i][0] = nums[i-1] if dp[i-1][0] == None else max(nums[i-1],dp[i-1][0]*nums[i-1])\n",
    "                dp[i][1] = nums[i-1] if dp[i-1][1] == None else min(nums[i-1],dp[i-1][1]*nums[i-1])\n",
    "                dp[i][2] = None if dp[i-1][2] == None else dp[i-1][2]*nums[i-1]\n",
    "                dp[i][3] = None if dp[i-1][3] == None else dp[i-1][3]*nums[i-1]\n",
    "            elif nums[i-1] == 0:\n",
    "                ans = max(ans,0)\n",
    "            elif nums[i-1] < 0:\n",
    "                dp[i][0] = None if dp[i-1][3] == None else nums[i-1]*dp[i-1][3]\n",
    "                dp[i][1] = None if dp[i-1][2] == None else nums[i-1]*dp[i-1][2]\n",
    "                dp[i][2] = nums[i-1] if dp[i-1][1] == None else max(nums[i-1],dp[i-1][1]*nums[i-1])\n",
    "                dp[i][3] = nums[i-1] if dp[i-1][0] == None else min(nums[i-1],dp[i-1][0]*nums[i-1])\n",
    "            for i in dp[i]:\n",
    "                if i:\n",
    "                    ans = max(i,ans)\n",
    "        return ans"
   ]
  },
  {
   "cell_type": "markdown",
   "id": "966ee883",
   "metadata": {},
   "source": [
    "这个是我实在没办法的才用了四个表示当前节点的最大最小正数最大最小负数，其实只要当前节点的最大最小值就行了"
   ]
  },
  {
   "cell_type": "code",
   "execution_count": null,
   "id": "326621ca",
   "metadata": {},
   "outputs": [],
   "source": [
    "class Solution:\n",
    "    def maxProduct(self, nums: List[int]) -> int:\n",
    "        dp = [[0,0] for i in range(len(nums)+1)]\n",
    "        ans = dp[1][0] = dp[1][1] = nums[0]\n",
    "        for i in range(2,len(nums)+1):\n",
    "            dp[i][0] = max(nums[i-1],dp[i-1][0]*nums[i-1],dp[i-1][1]*nums[i-1])\n",
    "            dp[i][1] = min(nums[i-1],dp[i-1][0]*nums[i-1],dp[i-1][1]*nums[i-1])\n",
    "            ans = max(ans,dp[i][0])\n",
    "        return ans"
   ]
  },
  {
   "cell_type": "markdown",
   "id": "d4ef6735",
   "metadata": {},
   "source": [
    "这个就只用了最大最小值，因为最大最小负数正数都是不需要的，因为一个为底的最大值只有可能是当前值（当前值和前一个最大值有一个为负数），当前值乘以前一个的最大值（当前值为正，且前一个最大值为正），当前值乘以前一个的最小值（当前值为负，且前一个最小值为负）三者中的最大值\n",
    "一个为底的最小值也就是上述三者中的最小值"
   ]
  },
  {
   "cell_type": "code",
   "execution_count": null,
   "id": "cdb9cca1",
   "metadata": {},
   "outputs": [],
   "source": [
    "class Solution:\n",
    "    def maxProduct(self, nums: List[int]) -> int:\n",
    "        ans = maxi = mini = nums[0]\n",
    "        for i in range(2,len(nums)+1):\n",
    "            a,b = maxi,mini\n",
    "            maxi = max(nums[i-1],a*nums[i-1],b*nums[i-1])\n",
    "            mini = min(nums[i-1],a*nums[i-1],b*nums[i-1])\n",
    "            ans = max(ans,maxi)\n",
    "        return ans"
   ]
  },
  {
   "cell_type": "markdown",
   "id": "40f3ebd4",
   "metadata": {},
   "source": [
    "这个对空间进行了优化，观察到使用的数只有前一个节点的最大最小值"
   ]
  }
 ],
 "metadata": {
  "language_info": {
   "name": "python"
  }
 },
 "nbformat": 4,
 "nbformat_minor": 5
}
