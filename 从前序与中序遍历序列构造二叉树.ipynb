{
 "cells": [
  {
   "cell_type": "markdown",
   "id": "0456bbcb",
   "metadata": {},
   "source": [
    "这是hot100的第47题：从前序与中序遍历序列构造二叉树 给定两个整数数组 preorder 和 inorder ，其中 preorder 是二叉树的先序遍历， inorder 是同一棵树的中序遍历，请构造二叉树并返回其根节点。"
   ]
  },
  {
   "cell_type": "code",
   "execution_count": null,
   "id": "a96d6c47",
   "metadata": {},
   "outputs": [],
   "source": [
    "# Definition for a binary tree node.\n",
    "# class TreeNode:\n",
    "#     def __init__(self, val=0, left=None, right=None):\n",
    "#         self.val = val\n",
    "#         self.left = left\n",
    "#         self.right = right\n",
    "class Solution:\n",
    "    def buildTree(self, preorder: List[int], inorder: List[int]) -> Optional[TreeNode]:\n",
    "        def construct(a,b,c,d):\n",
    "            if a > b:\n",
    "                return None\n",
    "            node = TreeNode(val=preorder[a])\n",
    "            l = inorder.index(preorder[a])\n",
    "            m,n = l-c,d-l\n",
    "            node.left = construct(a+1,a+m,c,c-1+m)\n",
    "            node.right = construct(a+m+1,a+m+n,c+m+1,d)\n",
    "            return node\n",
    "        ans = construct(0,len(preorder)-1,0,len(inorder)-1)\n",
    "        return ans"
   ]
  },
  {
   "cell_type": "markdown",
   "id": "1e96d42d",
   "metadata": {},
   "source": [
    "这个的思路，传递当前树所在的前后索引a，b，preorder在这个索引中的第一个是node是当前节点，根据这个在inorder索引到node的m，其左边为左子树，右边为右子树，计算两边子树的长度，node的左右子树，分别为把inorder和preorder排除node后左子树和右子树的前后索引传递函数后返回的结果，最后返回node"
   ]
  },
  {
   "cell_type": "code",
   "execution_count": null,
   "id": "ef1e9d92",
   "metadata": {},
   "outputs": [],
   "source": [
    "# Definition for a binary tree node.\n",
    "# class TreeNode:\n",
    "#     def __init__(self, val=0, left=None, right=None):\n",
    "#         self.val = val\n",
    "#         self.left = left\n",
    "#         self.right = right\n",
    "class Solution:\n",
    "    def buildTree(self, preorder: List[int], inorder: List[int]) -> Optional[TreeNode]:\n",
    "        def construct(a,b,c,d):\n",
    "            if a > b:\n",
    "                return None\n",
    "            node = TreeNode(val=preorder[a])\n",
    "            l = dic[preorder[a]]\n",
    "            m,n = l-c,d-l\n",
    "            node.left = construct(a+1,a+m,c,c-1+m)\n",
    "            node.right = construct(a+m+1,a+m+n,c+m+1,d)\n",
    "            return node\n",
    "        dic = {}\n",
    "        for i in range(len(preorder)):\n",
    "            dic[inorder[i]] = i\n",
    "        ans = construct(0,len(preorder)-1,0,len(inorder)-1)\n",
    "        return ans"
   ]
  },
  {
   "cell_type": "markdown",
   "id": "35075756",
   "metadata": {},
   "source": [
    "这个把时间优化了，不用index，而是用了一个字典储存起来，减少了执行时间"
   ]
  }
 ],
 "metadata": {
  "language_info": {
   "name": "python"
  }
 },
 "nbformat": 4,
 "nbformat_minor": 5
}
