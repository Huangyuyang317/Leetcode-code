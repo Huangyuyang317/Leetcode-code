{
 "cells": [
  {
   "cell_type": "markdown",
   "id": "0c5a8c8a",
   "metadata": {},
   "source": [
    "这是hot100的第56题：子集 给你一个整数数组 nums ，数组中的元素 互不相同 。返回该数组所有可能的子集（幂集）。\n",
    "\n",
    "解集 不能 包含重复的子集。你可以按 任意顺序 返回解集。"
   ]
  },
  {
   "cell_type": "code",
   "execution_count": null,
   "id": "6539d4f4",
   "metadata": {},
   "outputs": [],
   "source": [
    "from collections import deque\n",
    "class Solution:\n",
    "    def subsets(self, nums: List[int]) -> List[List[int]]:\n",
    "        ans = []\n",
    "        s = []\n",
    "        def subset(dq):\n",
    "            if not dq:\n",
    "                ans.append(s.copy())\n",
    "                return \n",
    "            cur = dq.popleft()\n",
    "            subset(dq)\n",
    "            s.append(cur)\n",
    "            subset(dq)\n",
    "            s.pop()\n",
    "            print(s)\n",
    "            dq.append(cur)\n",
    "        subset(deque(nums))\n",
    "        return ans"
   ]
  },
  {
   "cell_type": "markdown",
   "id": "e007cd47",
   "metadata": {},
   "source": [
    "这个的思路是这样的：\n",
    "一步向下向左，到最左边，s为空，dq也是空了，ans加入[]\n",
    "返回上一层，因为之前是没有选1的，这一层的cur是1，所以在这一层的右子树是s都是要选1的，dq也是空的，ans加入[1]\n",
    "再返回上一层之前，此时s为[1]，当这一层为上一层的右节点时，说明s选择了这一层的数，所以要pop掉，因为之后的s不是一定要这个的，同时dq因为之前popleft了，返回上一层后，要把pop掉的接回去，而且要接在后面，，左节点就不需要改变"
   ]
  },
  {
   "cell_type": "code",
   "execution_count": null,
   "id": "8456c71f",
   "metadata": {},
   "outputs": [],
   "source": [
    "class Solution:\n",
    "    def subsets(self, nums: List[int]) -> List[List[int]]:\n",
    "        n = len(nums)\n",
    "        ans = []\n",
    "        path = []\n",
    "\n",
    "        def dfs(i: int) -> None:\n",
    "            if i == n:  # 子集构造完毕\n",
    "                ans.append(path.copy())  # 复制 path，也可以写 path[:]\n",
    "                return\n",
    "                \n",
    "            # 不选 nums[i]\n",
    "            dfs(i + 1)\n",
    "            \n",
    "            # 选 nums[i]\n",
    "            path.append(nums[i])\n",
    "            dfs(i + 1)\n",
    "            path.pop()  # 恢复现场\n",
    "\n",
    "        dfs(0)\n",
    "        return ans"
   ]
  },
  {
   "cell_type": "markdown",
   "id": "8450e02a",
   "metadata": {},
   "source": [
    "这个思路比较合适，也是每一层选或者不选，不选就dfs(i+1)，选的话就path append(nums[i]),执行dfs(i+1)，再把path最后一个pop掉，维持path只含这一层以上决定的数"
   ]
  },
  {
   "cell_type": "code",
   "execution_count": null,
   "id": "238f39ae",
   "metadata": {},
   "outputs": [],
   "source": [
    "class Solution:\n",
    "    def subsets(self, nums: List[int]) -> List[List[int]]:\n",
    "        ans = []\n",
    "        for i in range(1 << len(nums)):  # 枚举全集 U 的所有子集 i\n",
    "            subset = [x for j, x in enumerate(nums) if i >> j & 1]\n",
    "            ans.append(subset)\n",
    "        return ans"
   ]
  },
  {
   "cell_type": "markdown",
   "id": "9f248b45",
   "metadata": {},
   "source": [
    "还有一种新奇的方法，利用位运算，<<的意思是二进制向左补位，1<<1的意思是从0b01变成0b10索引，也就是2，所以1 << len(nums)意思是从1变成2^len(nums),因为最后总共有2^len(nums)次>>就是反过来的\n",
    "为什么能用2^n次方表示呢，因为子集的所有都包含在1到2^n的二进制形式中，i >> j & 1是把i向后补位j位，然后&1把补位后的最后一位取出来进行比较，决定数组中这一位要不要在其中"
   ]
  }
 ],
 "metadata": {
  "language_info": {
   "name": "python"
  }
 },
 "nbformat": 4,
 "nbformat_minor": 5
}
