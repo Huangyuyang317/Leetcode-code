{
 "cells": [
  {
   "cell_type": "markdown",
   "id": "fdfb808a",
   "metadata": {},
   "source": [
    "这是hot100的第52题：腐烂的橘子 在给定的 m x n 网格 grid 中，每个单元格可以有以下三个值之一：\n",
    "\n",
    "值 0 代表空单元格；\n",
    "值 1 代表新鲜橘子；\n",
    "值 2 代表腐烂的橘子。\n",
    "每分钟，腐烂的橘子 周围 4 个方向上相邻 的新鲜橘子都会腐烂。\n",
    "\n",
    "返回 直到单元格中没有新鲜橘子为止所必须经过的最小分钟数。如果不可能，返回 -1 。"
   ]
  },
  {
   "cell_type": "code",
   "execution_count": null,
   "id": "17ccd06b",
   "metadata": {},
   "outputs": [],
   "source": [
    "class Solution:\n",
    "    def orangesRotting(self, grid: List[List[int]]) -> int:\n",
    "        ans = 0\n",
    "        num = 0\n",
    "        lis = []\n",
    "        for i in range(len(grid)):\n",
    "            for j in range(len(grid[0])):\n",
    "                if grid[i][j] == 1:\n",
    "                    num += 1\n",
    "                elif grid[i][j] == 2:\n",
    "                    lis.append(i*len(grid[0])+j)\n",
    "        print(ans,num,lis)\n",
    "        def infect(lis):\n",
    "            nonlocal num\n",
    "            temp = []\n",
    "            for l in lis:\n",
    "                m,n = l//len(grid[0]),l%len(grid[0])\n",
    "                if m > 0 and grid[m-1][n] == 1:\n",
    "                    temp.append((m-1)*len(grid[0])+n)\n",
    "                    grid[m-1][n] = 2\n",
    "                    num -= 1\n",
    "                if m < len(grid)-1 and grid[m+1][n] == 1:\n",
    "                    temp.append((m+1)*len(grid[0])+n)\n",
    "                    grid[m+1][n] = 2\n",
    "                    num -= 1\n",
    "                if n > 0 and grid[m][n-1] == 1:\n",
    "                    temp.append((m)*len(grid[0])+n-1)\n",
    "                    grid[m][n-1] = 2\n",
    "                    num -= 1\n",
    "                if n < len(grid[0])-1 and grid[m][n+1] == 1:\n",
    "                    temp.append((m)*len(grid[0])+n+1)\n",
    "                    grid[m][n+1] = 2\n",
    "                    num -= 1\n",
    "            return temp\n",
    "        while lis:\n",
    "            lis = infect(lis)\n",
    "            if lis:\n",
    "                ans += 1\n",
    "        return ans if not num else -1"
   ]
  },
  {
   "cell_type": "markdown",
   "id": "26803a87",
   "metadata": {},
   "source": [
    "使用的是广度优先搜索，首先统计初始的未感染数量，把初始感染橘子放入lis，迭代过程中，把每次新感染的橘子放入lis，每次遍历lis中的节点,把上下左右还未感染的橘子感染，切换tag，num-1，并且放入temp，每次执行函数，返回temp为lis，如果返回后lis不为空，也就是感染到了橘子，ans+1，直到lis为空，如果num为0了，就返回ans，否则返回-1\n",
    "\n",
    "下面写一点短一些的方法\n",
    "\n",
    "这里学到的东西：\n",
    "1.lis的赋值赋值的是地址，在这里每次temp赋值给了lis后，temp=[]相当于新的一个列表，所以lis不会被覆盖，尽量不要在列表内部复赋值lis，尽量是返回temp，在外部赋值\n",
    "2.大小判断可以不用分开写，可以同时大于小于 <= i <="
   ]
  },
  {
   "cell_type": "code",
   "execution_count": null,
   "id": "dc7e80fc",
   "metadata": {},
   "outputs": [],
   "source": [
    "class Solution:\n",
    "    def orangesRotting(self, grid: List[List[int]]) -> int:\n",
    "        ans = 0\n",
    "        num = 0\n",
    "        lis = []\n",
    "        for i in range(len(grid)):\n",
    "            for j in range(len(grid[0])):\n",
    "                if grid[i][j] == 1:\n",
    "                    num += 1\n",
    "                elif grid[i][j] == 2:\n",
    "                    lis.append(i*len(grid[0])+j)\n",
    "        print(ans,num,lis)\n",
    "        def infect(lis):\n",
    "            nonlocal num\n",
    "            temp = []\n",
    "            for l in lis:\n",
    "                m,n = l//len(grid[0]),l%len(grid[0])\n",
    "                for i,j in [(m-1,n),(m+1,n),(m,n-1),(m,n+1)]:\n",
    "                    if 0 <= i <= len(grid)-1 and 0 <= j <= len(grid[0])-1 and grid[i][j] == 1:\n",
    "                        temp.append(i*len(grid[0])+j)\n",
    "                        grid[i][j] = 2\n",
    "                        num -= 1\n",
    "            return temp\n",
    "        while lis:\n",
    "            lis = infect(lis)\n",
    "            if lis:\n",
    "                ans += 1\n",
    "        return ans if not num else -1"
   ]
  }
 ],
 "metadata": {
  "kernelspec": {
   "display_name": "Python 3",
   "language": "python",
   "name": "python3"
  },
  "language_info": {
   "codemirror_mode": {
    "name": "ipython",
    "version": 3
   },
   "file_extension": ".py",
   "mimetype": "text/x-python",
   "name": "python",
   "nbconvert_exporter": "python",
   "pygments_lexer": "ipython3",
   "version": "3.9.6"
  }
 },
 "nbformat": 4,
 "nbformat_minor": 5
}
