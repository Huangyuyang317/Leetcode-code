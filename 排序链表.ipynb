{
 "cells": [
  {
   "cell_type": "markdown",
   "id": "081f832c",
   "metadata": {},
   "source": [
    "这是hot100的第33题：排序链表 给你链表的头结点 head ，请将其按 升序 排列并返回 排序后的链表 。"
   ]
  },
  {
   "cell_type": "code",
   "execution_count": null,
   "id": "57296d07",
   "metadata": {},
   "outputs": [],
   "source": [
    "# Definition for singly-linked list.\n",
    "# class ListNode:\n",
    "#     def __init__(self, val=0, next=None):\n",
    "#         self.val = val\n",
    "#         self.next = next\n",
    "class Solution:\n",
    "    def sortList(self, head: Optional[ListNode]) -> Optional[ListNode]:\n",
    "        def merge_sort(head):\n",
    "            if not head or not head.next:\n",
    "                return head\n",
    "            mid = get_mid(head)\n",
    "            right = mid.next\n",
    "            mid.next = None\n",
    "            left_sort = merge_sort(head)\n",
    "            right_sort = merge_sort(right)\n",
    "\n",
    "            return merge(left_sort,right_sort)\n",
    "        def get_mid(head):\n",
    "            slow = fast = head\n",
    "            while fast.next and fast.next.next:\n",
    "                slow = slow.next\n",
    "                fast = fast.next\n",
    "                fast = fast.next\n",
    "            return slow\n",
    "        \n",
    "        def merge(m,n):\n",
    "            s = l = ListNode()\n",
    "            while m and n:\n",
    "                if m.val < n.val:\n",
    "                    l.next = m\n",
    "                    m = m.next\n",
    "                else:\n",
    "                    l.next = n\n",
    "                    n = n.next\n",
    "                l = l.next\n",
    "            l.next = m if m else n\n",
    "            return s.next\n",
    "        \n",
    "        return merge_sort(head)\n"
   ]
  },
  {
   "cell_type": "markdown",
   "id": "c244fbbd",
   "metadata": {},
   "source": [
    "这个排序，使用的思想是归并排序，先链表拆分到最小的单位，选择两个相邻单位排序后连在一起，作为新的单位，直至链表末尾，至此，单位长度*2，再重复以上相连排序步骤，直至单位长度大于链表整体长度，合并完成"
   ]
  },
  {
   "cell_type": "code",
   "execution_count": null,
   "id": "6f974906",
   "metadata": {},
   "outputs": [],
   "source": [
    "# Definition for singly-linked list.\n",
    "# class ListNode:\n",
    "#     def __init__(self, val=0, next=None):\n",
    "#         self.val = val\n",
    "#         self.next = next\n",
    "class Solution:\n",
    "    def sortList(self, head: Optional[ListNode]) -> Optional[ListNode]:\n",
    "        length,n,intv = 0,head,1\n",
    "        res = ListNode(next=head)\n",
    "        while n:\n",
    "            length += 1\n",
    "            n = n.next\n",
    "        while intv < length:\n",
    "            pre,h = res,res.next\n",
    "            while h:\n",
    "                h1,i= h,intv\n",
    "                while i and h:\n",
    "                    h = h.next\n",
    "                    i -= 1\n",
    "                c1 = intv-i\n",
    "                h2,i = h,intv\n",
    "                while i and h:\n",
    "                    h = h.next\n",
    "                    i -= 1\n",
    "                c1= intv - i\n",
    "                while c1 and c2:\n",
    "                    if h1.val < h2.val: pre.next,h1,c1= h1,h1.next,c1-1\n",
    "                    else: pre.next,h2,c2= h2,h2.next,c2-1\n",
    "                    pre = pre.next\n",
    "                pre.next = h1 if c1 else h2\n",
    "                while c1>0 or c2>0:\n",
    "                    pre,c1,c2 = pre.next,c1-1,c2-1\n",
    "                pre.next = h\n",
    "            intv *= 2\n",
    "        return res.next"
   ]
  },
  {
   "cell_type": "markdown",
   "id": "4ee9956a",
   "metadata": {},
   "source": [
    "这个的比上面的地方，少了拆分的步骤，直接从原始的链表进行处理，不断进行两个有序链表的合并\n",
    "while h代表的是一轮合并 h代表的是下一轮合并的开头第一个节点，刚开始是res.next h1是第一个的开头，h2是第二个的开头,h此时到了下一次的开头节点，h1，h2的合并，用之前的合并有序链表的方法，pre为上一个合并结束的点位，从pre开始把h1和h2的合并完成，pre到了合并完成的节点最后一个，然后把pre的next和h连起来，进行下一步"
   ]
  }
 ],
 "metadata": {
  "language_info": {
   "name": "python"
  }
 },
 "nbformat": 4,
 "nbformat_minor": 5
}
