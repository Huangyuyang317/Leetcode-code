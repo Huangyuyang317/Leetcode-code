{
 "cells": [
  {
   "cell_type": "markdown",
   "id": "f38b7fda",
   "metadata": {},
   "source": [
    "这是hot100的第68题：寻找两个正序数组的中位数 给定两个大小分别为 m 和 n 的正序（从小到大）数组 nums1 和 nums2。请你找出并返回这两个正序数组的 中位数 。\n",
    "\n",
    "算法的时间复杂度应该为 O(log (m+n)) 。"
   ]
  },
  {
   "cell_type": "code",
   "execution_count": null,
   "id": "0b330ef8",
   "metadata": {},
   "outputs": [],
   "source": [
    "class Solution:\n",
    "    def findMedianSortedArrays(self, nums1, nums2):\n",
    "        a,b = nums1,nums2\n",
    "        if len(a) > len(b):\n",
    "            a,b = b,a\n",
    "        m,n = len(a),len(b)\n",
    "        a = [-inf] + a + [inf]\n",
    "        b = [-inf] + b + [inf]\n",
    "        i,j = 0,(m+n+1)//2\n",
    "        while True:\n",
    "            if a[i] <= b[j+1] and a[i+1] >= b[j]:\n",
    "                maxi,mini = max(a[i],b[j]),min(a[i+1],b[j+1])\n",
    "                return maxi if (m+n)%2 else (maxi+mini)/2\n",
    "            i += 1\n",
    "            j -= 1"
   ]
  },
  {
   "cell_type": "markdown",
   "id": "844c6f9d",
   "metadata": {},
   "source": [
    "这个最简单的方法我都没想到，首先我们要想到什么是中位数，中位数是在m个数中，有m//2个数比这个数小的数据，所以我们现在的目的，就是找出数的分组，把小的m//2个数找出来，剩下最靠近的数就是中位数\n",
    "\n",
    "数组是有序的，索引我们先在较长的列表中取出j个数作为第一组，j = (m+n)//2，刚好是小于中位数的数据量，i=0，是短列表中在组中的数，当这个组中的最大值，小于剩下数据的最小值时，说明已经找到了，证明一下可行性，因为是包括的两个列表较小一段的，所以一定会存在一个状态，包括了整个列表的最小的数，所以一定会成立，如果总数是偶数，我们就让第一组比第二组多一个，如果是奇数，就两个组相等\n",
    "\n",
    "之所以要-inf和inf，是为了两个组数据没有重叠或者有为空的情况下的特例而做的哨兵节点，i= 0 是-inf j=（m+n）//2是有（m+n）//2+1个数，最后是奇数，则返回第一组的最大值，否则返回第一组最大和第二组最小的平均值"
   ]
  },
  {
   "cell_type": "code",
   "execution_count": null,
   "id": "01f44764",
   "metadata": {},
   "outputs": [],
   "source": [
    "class Solution:\n",
    "    def findMedianSortedArrays(self, nums1, nums2):\n",
    "        a,b = nums1,nums2\n",
    "        if len(a) > len(b):\n",
    "            a,b = b,a\n",
    "        m,n = len(a),len(b)\n",
    "        left,right = 0,m-1\n",
    "        while left <= right:\n",
    "            mid = (left+right)//2\n",
    "            i = mid\n",
    "            j = (m+n-3)//2-i\n",
    "            if a[i] <= b[j+1]:\n",
    "                left = i+1\n",
    "            else:\n",
    "                right = i-1\n",
    "        i = right\n",
    "        j = (m+n-3)//2-i\n",
    "        ai = a[i] if i >= 0 else -inf\n",
    "        bj = b[j] if j >= 0 else -inf\n",
    "        ai1 = a[i+1] if i < m-1 else inf\n",
    "        bj1 = b[j+1] if j < n-1 else inf\n",
    "        maxi = max(ai,bj)\n",
    "        mini = min(ai1,bj1)\n",
    "        return maxi if (m+n)%2 else (maxi+mini)/2"
   ]
  },
  {
   "cell_type": "markdown",
   "id": "4e1c602a",
   "metadata": {},
   "source": [
    "这个为了降低时间复杂度而做，首先a[i]和b[j+1]比较就直接可以了，j = (m+n-3)//2-i 二分法在这里就可以找到i,然后找到判断ij有没有超限制，然后赋值再判断"
   ]
  }
 ],
 "metadata": {
  "kernelspec": {
   "display_name": "Python 3",
   "language": "python",
   "name": "python3"
  },
  "language_info": {
   "codemirror_mode": {
    "name": "ipython",
    "version": 3
   },
   "file_extension": ".py",
   "mimetype": "text/x-python",
   "name": "python",
   "nbconvert_exporter": "python",
   "pygments_lexer": "ipython3",
   "version": "3.9.6"
  }
 },
 "nbformat": 4,
 "nbformat_minor": 5
}
