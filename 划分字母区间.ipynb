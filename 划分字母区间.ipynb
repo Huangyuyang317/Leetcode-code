{
 "cells": [
  {
   "cell_type": "markdown",
   "id": "0ba29cdb",
   "metadata": {},
   "source": [
    "这是hot100的第80题：划分字母区间 给你一个字符串 s 。我们要把这个字符串划分为尽可能多的片段，同一字母最多出现在一个片段中。例如，字符串 \"ababcc\" 能够被分为 [\"abab\", \"cc\"]，但类似 [\"aba\", \"bcc\"] 或 [\"ab\", \"ab\", \"cc\"] 的划分是非法的。\n",
    "\n",
    "注意，划分结果需要满足：将所有划分结果按顺序连接，得到的字符串仍然是 s 。\n",
    "\n",
    "返回一个表示每个字符串片段的长度的列表。\n",
    "\n"
   ]
  },
  {
   "cell_type": "code",
   "execution_count": null,
   "id": "924cafc3",
   "metadata": {},
   "outputs": [],
   "source": [
    "class Solution:\n",
    "    def partitionLabels(self, s: str) -> List[int]:\n",
    "        d = {}\n",
    "        for i in range(len(s)-1,-1,-1):\n",
    "            if s[i] not in d:\n",
    "                d[s[i]] = i\n",
    "        far = 0\n",
    "        j = 0\n",
    "        ans = []\n",
    "        for i in range(len(s)):\n",
    "            if i > far:\n",
    "                ans.append(j)\n",
    "                j = 0\n",
    "            far = max(far,d[s[i]])\n",
    "            j += 1\n",
    "        ans.append(j)\n",
    "        return ans"
   ]
  },
  {
   "cell_type": "markdown",
   "id": "e162aa42",
   "metadata": {},
   "source": [
    "也就是每一步都要更新最远要到达的地方，也就是当前字符的最后一个字符出现处"
   ]
  }
 ],
 "metadata": {
  "language_info": {
   "name": "python"
  }
 },
 "nbformat": 4,
 "nbformat_minor": 5
}
