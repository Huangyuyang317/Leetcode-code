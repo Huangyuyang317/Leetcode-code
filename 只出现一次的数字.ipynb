{
 "cells": [
  {
   "cell_type": "markdown",
   "id": "b10dfcaa",
   "metadata": {},
   "source": [
    "这是hot100的第96题：只出现一次的数字 给你一个 非空 整数数组 nums ，除了某个元素只出现一次以外，其余每个元素均出现两次。找出那个只出现了一次的元素。\n",
    "\n",
    "你必须设计并实现线性时间复杂度的算法来解决此问题，且该算法只使用常量额外空间。"
   ]
  },
  {
   "cell_type": "code",
   "execution_count": null,
   "id": "684ff259",
   "metadata": {},
   "outputs": [],
   "source": [
    "class Solution:\n",
    "    def singleNumber(self, nums: List[int]) -> int:\n",
    "        x = 0\n",
    "        for i in nums:\n",
    "            x = x^i\n",
    "        return x"
   ]
  },
  {
   "cell_type": "markdown",
   "id": "c99c4e68",
   "metadata": {},
   "source": [
    "这个是采用的位运算，我是一点没想到，因为确实没学过位运算，位运算就是把十进制的数转换为二进制的数进行运算，这里为什么会想到位运算，就是因为有空间复杂度1的要求，而且是要两个相同的可以抵消掉，异或运算也就是这个1^0=0^1=1 0^0=1^1=0，那么设置初始值为0，和第一个异或运算后，得到第一个，当得到两个相同的自动归化为0，最后只有落单的没有，得到结果\n",
    "这里学到的：1.位运算可以在空间复杂度为1 偶数次奇数次出现 乘二(<<1)除二（>>1）奇偶数（&1） 的题设时使用"
   ]
  }
 ],
 "metadata": {
  "language_info": {
   "name": "python"
  }
 },
 "nbformat": 4,
 "nbformat_minor": 5
}
