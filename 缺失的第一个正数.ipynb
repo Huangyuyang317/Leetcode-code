{
 "cells": [
  {
   "cell_type": "markdown",
   "id": "f5c8a342",
   "metadata": {},
   "source": [
    "这是hot100的第17题：缺失的第一个正数 给你一个未排序的整数数组 nums ，请你找出其中没有出现的最小的正整数。\n",
    "\n",
    "请你实现时间复杂度为 O(n) 并且只使用常数级别额外空间的解决方案。"
   ]
  },
  {
   "cell_type": "code",
   "execution_count": null,
   "id": "e1a43b29",
   "metadata": {},
   "outputs": [],
   "source": [
    "class Solution:\n",
    "    def firstMissingPositive(self, nums: List[int]) -> int:\n",
    "        s = [0]*len(nums)\n",
    "        for i in range(len(nums)):\n",
    "            if nums[i] >= 1 and nums[i] <= len(nums):\n",
    "                s[nums[i]-1] = 1\n",
    "        for i in range(len(s)):\n",
    "            if s[i] == 0:\n",
    "                return i+1\n",
    "        return (len(nums)+1)"
   ]
  },
  {
   "cell_type": "markdown",
   "id": "63904a05",
   "metadata": {},
   "source": [
    "上面这个时间复杂度很ok，就是空间复杂度不满足要求，想法基于：如果是最小的正整数，则之前的数一定要保持连续，那么这个值一定不会大于len(nums)+1，所以建立了一个列表记录从1到len(nums)是否出现，然后从头开始再次遍历，如果有了缺口，那就意味着这个缺口就是最小正整数，如果没有缺口，则是从1到len(nums)都有数，所以是len(nums)+1"
   ]
  },
  {
   "cell_type": "code",
   "execution_count": null,
   "id": "d896f23e",
   "metadata": {},
   "outputs": [],
   "source": [
    "class Solution:\n",
    "    def firstMissingPositive(self, nums: List[int]) -> int:\n",
    "        for i in range(len(nums)):\n",
    "            while nums[i] >= 1 and nums[i] <= len(nums) and nums[i] != nums[nums[i]-1]:\n",
    "                j = nums[i] - 1\n",
    "                nums[i],nums[j] = nums[j],nums[i]\n",
    "        for i in range(len(nums)):\n",
    "            if i != nums[i] - 1:\n",
    "                return i+1\n",
    "            return (len(nums)+1)"
   ]
  },
  {
   "cell_type": "markdown",
   "id": "5081629a",
   "metadata": {},
   "source": [
    "他妈的，想了半天没想到，其实和上面的做法差不多，省去的空间复杂度就在交换上！！！列表操作常用的省去空间复杂度的方法就是交换，交换对于局部排序非常有用上面要把数值为i点元素放在第i个位置，那为什么要傻傻的新建立一个呢，用交换的方式放上去就行，只是交换之后，放到前面的就会有问题，需要把它修正"
   ]
  }
 ],
 "metadata": {
  "language_info": {
   "name": "python"
  }
 },
 "nbformat": 4,
 "nbformat_minor": 5
}
