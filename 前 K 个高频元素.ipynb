{
 "cells": [
  {
   "cell_type": "markdown",
   "id": "5d133746",
   "metadata": {},
   "source": [
    "这是hot100的第75题：前 K 个高频元素 给你一个整数数组 nums 和一个整数 k ，请你返回其中出现频率前 k 高的元素。你可以按 任意顺序 返回答案。"
   ]
  },
  {
   "cell_type": "code",
   "execution_count": null,
   "id": "afa907cb",
   "metadata": {},
   "outputs": [],
   "source": [
    "class Solution:\n",
    "    def topKFrequent(self, nums: List[int], k: int) -> List[int]:\n",
    "        dic ={}\n",
    "        for i in nums:\n",
    "            if i in dic:\n",
    "                dic[i] += 1\n",
    "            else:\n",
    "                dic[i] = 1\n",
    "        num = list(dic.keys())\n",
    "        val = list(dic.values())\n",
    "        val = [(val[i],i) for i in range(len(val))]\n",
    "        ans,s = [],[]\n",
    "        def seek(val,k):\n",
    "            pivot = random.choice(val)[0]\n",
    "            left,mid,right = [],[],[]\n",
    "            for i in val:\n",
    "                if i[0] < pivot:\n",
    "                    right.append(i)\n",
    "                elif i[0] > pivot:\n",
    "                    left.append(i)\n",
    "                else:\n",
    "                    mid.append(i)\n",
    "            if len(left) > k :\n",
    "                return seek(left,k)\n",
    "            elif len(left) == k:\n",
    "                for i in left:\n",
    "                    ans.append(i)\n",
    "                return \n",
    "            elif len(left) + len(mid) == k:\n",
    "                for i in left:\n",
    "                    ans.append(i)\n",
    "                for i in mid:\n",
    "                    ans.append(i)\n",
    "                return\n",
    "            elif len(left) + len(mid) < k:\n",
    "                for i in left:\n",
    "                    ans.append(i)\n",
    "                for i in mid:\n",
    "                    ans.append(i)\n",
    "                return seek(right,k-len(left)-len(mid))\n",
    "        seek(val,k)\n",
    "        for i in ans:\n",
    "            s.append(num[i[1]])\n",
    "        return s"
   ]
  },
  {
   "cell_type": "markdown",
   "id": "97a91aa4",
   "metadata": {},
   "source": [
    "这个的思路，把num和cnt分别算出，cnt不仅有数量，还有位置的索引i，用快速搜索算法，把cnt的前k个储存在ans中，然后在num中根绝ans元素的第二个，也就是索引，进行收取"
   ]
  },
  {
   "cell_type": "code",
   "execution_count": null,
   "id": "67902dca",
   "metadata": {},
   "outputs": [],
   "source": [
    "class Solution:\n",
    "    def topKFrequent(self, nums: List[int], k: int) -> List[int]:\n",
    "        cnt = Counter(nums)\n",
    "        maxi = max(cnt.values())\n",
    "        mini = min(cnt.values())\n",
    "        cnt_array = [[] for i in range((maxi-mini+1))]\n",
    "        for i,j in cnt.items():\n",
    "            cnt_array[j-mini].append(i)\n",
    "        ans = []\n",
    "        for i in range(len(cnt_array)-1,-1,-1):\n",
    "            if cnt_array[i] != []:\n",
    "                ans +=  cnt_array[i]\n",
    "                k -= len(cnt_array[i])\n",
    "            if k == 0:\n",
    "                return ans"
   ]
  },
  {
   "cell_type": "markdown",
   "id": "d31858a9",
   "metadata": {},
   "source": [
    "这个的思路从提示中的nums长度来的，因为我们的长度一定，所以统计得到的最大频率也在可控范围内，这样子的情况下就可以用桶排序，用counter的到nums的数和频率，然后在创建一个桶，0代表mini，最大的是maxi，然后把频率和数据都放入其中，ans在后序对array反向遍历，不为空的就把列表相加，k就减去array[i]的长度，直到为0\n",
    "\n",
    "这里学到的：\n",
    "1.要同时遍历字典的键和值时，用for i,j in dic.items()\n",
    "2.找counter的最大最小值时，不需要list化，只需要max(cnt.keys())"
   ]
  }
 ],
 "metadata": {
  "language_info": {
   "name": "python"
  }
 },
 "nbformat": 4,
 "nbformat_minor": 5
}
