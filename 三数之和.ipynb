{
 "cells": [
  {
   "cell_type": "markdown",
   "id": "7265aa5c",
   "metadata": {},
   "source": [
    "这是hot100第6题：三数之和 给你一个整数数组 nums ，判断是否存在三元组 [nums[i], nums[j], nums[k]] 满足 i != j、i != k 且 j != k ，同时还满足 nums[i] + nums[j] + nums[k] == 0 。请你返回所有和为 0 且不重复的三元组。\n",
    "\n",
    "注意：答案中不可以包含重复的三元组。\n",
    "\n"
   ]
  },
  {
   "cell_type": "code",
   "execution_count": null,
   "id": "40529f25",
   "metadata": {},
   "outputs": [],
   "source": [
    "class Solution:\n",
    "    def threeSum(self, nums: List[int]) -> List[List[int]]:\n",
    "        d = dict()\n",
    "        s = []\n",
    "        for i in nums:\n",
    "            if i in d:\n",
    "                d[i] += 1\n",
    "            else:\n",
    "                d[i] = 1\n",
    "        for i in range(len(nums)):\n",
    "            for j in range(len(nums)):\n",
    "                k = 0 - nums[i] - nums[j]\n",
    "                if i != j and k in d and((k != nums[i] and k != nums[j]) or (nums[i] != nums[j] and d[k] >= 2) or d[k] >= 3):\n",
    "                    m = [nums[i],nums[j],k]\n",
    "                    m.sort()\n",
    "                    s.append(tuple(m))\n",
    "        s = list(set(s))\n",
    "        for i in range(len(s)):\n",
    "            s[i] = list(s[i])\n",
    "        return s"
   ]
  },
  {
   "cell_type": "markdown",
   "id": "0dd4c49d",
   "metadata": {},
   "source": [
    "上面的时间复杂度已经在o（n^2）了，但是在极端情况下还是需要修改"
   ]
  },
  {
   "cell_type": "code",
   "execution_count": null,
   "id": "0cb62b47",
   "metadata": {},
   "outputs": [],
   "source": [
    "class Solution:\n",
    "    def threeSum(self, nums: List[int]) -> List[List[int]]:\n",
    "        d = dict()\n",
    "        s = []\n",
    "        for i in nums:\n",
    "            if i in d:\n",
    "                d[i] += 1\n",
    "            else:\n",
    "                d[i] = 1\n",
    "        m = list(d.keys())\n",
    "        for i in range(len(m)):\n",
    "            for j in range(len(m)):\n",
    "                k = 0 - m[i] - m[j]\n",
    "                if k in d and (m[i] != m[j] or d[m[i]] >= 2)and((k != m[i] and k != m[j]) or (m[i] != m[j] and d[k] >= 2) or d[k] >= 3):\n",
    "                    l = [m[i],m[j],k]\n",
    "                    l.sort()\n",
    "                    s.append(tuple(l))\n",
    "        s = list(set(s))\n",
    "        for i in range(len(s)):\n",
    "            s[i] = list(s[i])\n",
    "        return s"
   ]
  },
  {
   "cell_type": "markdown",
   "id": "d973ba72",
   "metadata": {},
   "source": [
    "这个是上面的优化版本，在时间复杂度上没有区别，但是判断条件太复杂了，导致运行时间过长，所以还是需要再优化\n",
    "在这里学到的东西有：\n",
    "\n",
    "1.列表命名的时候重复不会告诉你命名重复，而是说out of range所以要自己注意\n",
    "\n",
    "2.要集合元素的更新用add()，多个元素的话要用update([…,…])\n",
    "\n",
    "3.深拷贝才能把一个完整复制过去，浅拷贝不行"
   ]
  },
  {
   "cell_type": "code",
   "execution_count": null,
   "id": "7595d792",
   "metadata": {},
   "outputs": [],
   "source": [
    "class Solution:\n",
    "    def threeSum(self, nums: List[int]) -> List[List[int]]:\n",
    "        nums.sort()\n",
    "        s = []\n",
    "        for i in range(len(nums)-2):\n",
    "            if nums[i] + nums[i+1] + nums[i+2] > 0:\n",
    "                break\n",
    "            if nums[i] + nums[-2] + nums[-1] < 0:\n",
    "                continue\n",
    "            if nums[i] == nums[i-1] and i>0:\n",
    "                continue\n",
    "            j = i+1\n",
    "            k = len(nums) -1\n",
    "            while j<k:\n",
    "                if nums[i]+nums[j]+nums[k] == 0:\n",
    "                    s.append([nums[i],nums[j],nums[k]])\n",
    "                    j += 1\n",
    "                    while j<k and nums[j] == nums[j-1]:\n",
    "                        j += 1\n",
    "                    k -= 1\n",
    "                    while j<k and nums[k] == nums[k+1]:\n",
    "                        k -= 1\n",
    "                if nums[i]+nums[j]+nums[k] < 0:\n",
    "                    j += 1\n",
    "                while nums[i]+nums[j]+nums[k] > 0:\n",
    "                    k -= 1\n",
    "        return s"
   ]
  },
  {
   "cell_type": "markdown",
   "id": "dd8133cf",
   "metadata": {},
   "source": [
    "这个代码是排序+双重指针，首先排序是为了区分三个数字的大小关系，其中有一个主指针，是来寻找三数之中最小的数字，for循环进行遍历，那么这个最小的数在遍历过程中有哪些地方不能取呢\n",
    "\n",
    "1.当它和最大的两个正数加和仍小于0时，不可以\n",
    "2.当它和前一个数一样，但是包含前一个数的所有组合已经被验证过了，也要跳过\n",
    "3.因为是三个之中最小的数字，当它和之后两个紧挨的数字之和都大于0，那就再也无法找到它之后的两个数字之和等于它的相反数了\n",
    "\n",
    "然后在这个数字可以取的时候，我们开始进行第二层遍历，在这里，才是双指针的用处，使用的是左右指针\n",
    "\n",
    "当三个数之和大于0，就把最大的数减小一个，当三个数之和小于0，就把最小的数增大一个，当然这里也可以跳过重复数字，但是我实验之后发现运行时间反而增长了，下面的这个要跳过，是要不能重复组合，这个不跳过好像没有什么影响\n",
    "\n",
    "当三个数之和等于0时，把它加入到s中，此时jk需要改变，j增大，但是因为要不一样的组合，所以nums[j]也不能重复，所以遇到重复的就再往后面加，直到不重复\n",
    "k减小，因为同上的理由，也要直到不重复"
   ]
  }
 ],
 "metadata": {
  "kernelspec": {
   "display_name": "Python 3",
   "language": "python",
   "name": "python3"
  },
  "language_info": {
   "codemirror_mode": {
    "name": "ipython",
    "version": 3
   },
   "file_extension": ".py",
   "mimetype": "text/x-python",
   "name": "python",
   "nbconvert_exporter": "python",
   "pygments_lexer": "ipython3",
   "version": "3.9.6"
  }
 },
 "nbformat": 4,
 "nbformat_minor": 5
}
