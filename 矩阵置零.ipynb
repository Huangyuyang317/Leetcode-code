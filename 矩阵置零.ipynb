{
 "cells": [
  {
   "cell_type": "markdown",
   "id": "0c32e339",
   "metadata": {},
   "source": [
    "这是hot100的第18题：矩阵置零 给定一个 m x n 的矩阵，如果一个元素为 0 ，则将其所在行和列的所有元素都设为 0 。请使用 原地 算法。"
   ]
  },
  {
   "cell_type": "code",
   "execution_count": null,
   "id": "22067e58",
   "metadata": {},
   "outputs": [],
   "source": [
    "class Solution:\n",
    "    def setZeroes(self, matrix: List[List[int]]) -> None:\n",
    "        l = set()\n",
    "        m = set()\n",
    "        for i in range(len(matrix)):\n",
    "            for j in range(len(matrix[0])):\n",
    "                if matrix[i][j] == 0:\n",
    "                    l.add(i)\n",
    "                    m.add(j)\n",
    "        for i in list(l):\n",
    "            for j in range(len(matrix[0])):\n",
    "                matrix[i][j] = 0\n",
    "        for j in list(m):\n",
    "            for i in range(len(matrix)):\n",
    "                matrix[i][j] = 0       \n"
   ]
  },
  {
   "cell_type": "markdown",
   "id": "098000ad",
   "metadata": {},
   "source": [
    "记录0的下标，用两个集合，转成列表，然后遍历两个集合，行集合碰到，这行都是0，列集合碰到，这一列都是0，时间复杂度o(m*n)，空间复杂度o(m+n)\n",
    "这个相当于在矩阵之外建立了两个长度为m和n的列表，这个改进思路非常巧妙，也就是把列表的第一行第一列作为这两个列表，第一行和第一列再行计算\n",
    "先记录一下第一行和第一列中有无0，因为后续变化会一定会有0\n",
    "遍历m-1*n-1的过程，当m[i][j]是0的时候，m[0][j]和m[i][0]就变成0，其他数字不变\n",
    "然后在根据第一行第一列进行修改其余行列的值，当为0时，行列全部为0\n",
    "最后根据记录的值，将第一行（列）的数进行修改，如果没有0，就不改了，因为会被其他行列影响的地方已经被修改了\n",
    "学到了这些东西：\n",
    "any(iterable)：当iterable中任一元素为真，则返回true，这里对其使用，判断是否第一行中是否存在0，有的话，就需要改变"
   ]
  },
  {
   "cell_type": "code",
   "execution_count": null,
   "id": "b7fec286",
   "metadata": {},
   "outputs": [],
   "source": [
    "class Solution:\n",
    "    def setZeroes(self, matrix: List[List[int]]) -> None:\n",
    "        m, n = len(matrix), len(matrix[0])\n",
    "        flag_col0 = any(matrix[i][0] == 0 for i in range(m))\n",
    "        flag_row0 = any(matrix[0][j] == 0 for j in range(n))\n",
    "        \n",
    "        for i in range(1, m):\n",
    "            for j in range(1, n):\n",
    "                if matrix[i][j] == 0:\n",
    "                    matrix[i][0] = matrix[0][j] = 0\n",
    "        \n",
    "        for i in range(1, m):\n",
    "            for j in range(1, n):\n",
    "                if matrix[i][0] == 0 or matrix[0][j] == 0:\n",
    "                    matrix[i][j] = 0\n",
    "        \n",
    "        if flag_col0:\n",
    "            for i in range(m):\n",
    "                matrix[i][0] = 0\n",
    "        \n",
    "        if flag_row0:\n",
    "            for j in range(n):\n",
    "                matrix[0][j] = 0"
   ]
  }
 ],
 "metadata": {
  "language_info": {
   "name": "python"
  }
 },
 "nbformat": 4,
 "nbformat_minor": 5
}
