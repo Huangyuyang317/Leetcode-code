{
 "cells": [
  {
   "cell_type": "markdown",
   "id": "4bb6fab7",
   "metadata": {},
   "source": [
    "这是hot100的第29题：删除链表的倒数第 N 个结点 给你一个链表，删除链表的倒数第 n 个结点，并且返回链表的头结点。"
   ]
  },
  {
   "cell_type": "code",
   "execution_count": null,
   "id": "5762ed81",
   "metadata": {},
   "outputs": [],
   "source": [
    "# Definition for singly-linked list.\n",
    "# class ListNode:\n",
    "#     def __init__(self, val=0, next=None):\n",
    "#         self.val = val\n",
    "#         self.next = next\n",
    "class Solution:\n",
    "    def removeNthFromEnd(self, head: Optional[ListNode], n: int) -> Optional[ListNode]:\n",
    "        s = ListNode()\n",
    "        s.next = head\n",
    "        cur = head\n",
    "        i = 0\n",
    "        while cur:\n",
    "            i += 1\n",
    "            cur = cur.next\n",
    "        i -= n\n",
    "        m = s\n",
    "        for j in range(i):\n",
    "            m = m.next\n",
    "        n = m.next.next\n",
    "        m.next = n\n",
    "        return s.next"
   ]
  },
  {
   "cell_type": "markdown",
   "id": "b763694e",
   "metadata": {},
   "source": [
    "这个题目思路很简单，就是要会用哑节点开始计算，因为万一有一个节点并且被去除的话，不用哑节点不方便判断\n",
    "记得这种去除的要用哑节点\n",
    "还有一种不用长度的方法\n",
    "那就是两个指针，同时移动，两者差n个,当然还是要有哑节点"
   ]
  },
  {
   "cell_type": "code",
   "execution_count": null,
   "id": "6472c890",
   "metadata": {},
   "outputs": [],
   "source": [
    "# Definition for singly-linked list.\n",
    "# class ListNode:\n",
    "#     def __init__(self, val=0, next=None):\n",
    "#         self.val = val\n",
    "#         self.next = next\n",
    "class Solution:\n",
    "    def removeNthFromEnd(self, head: Optional[ListNode], n: int) -> Optional[ListNode]:\n",
    "        dummy = ListNode(next = head)\n",
    "        l = m = dummy\n",
    "        for i in range(n):\n",
    "            m = m.next\n",
    "        while m.next:\n",
    "            l = l.next\n",
    "            m = m.next\n",
    "        l.next = l.next.next\n",
    "        return dummy.next"
   ]
  }
 ],
 "metadata": {
  "language_info": {
   "name": "python"
  }
 },
 "nbformat": 4,
 "nbformat_minor": 5
}
