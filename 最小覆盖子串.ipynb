{
 "cells": [
  {
   "cell_type": "markdown",
   "id": "fdf2bb22",
   "metadata": {},
   "source": [
    "这是hot100的第12题：最小覆盖子串 给你一个字符串 s 、一个字符串 t 。返回 s 中涵盖 t 所有字符的最小子串。如果 s 中不存在涵盖 t 所有字符的子串，则返回空字符串 \"\" 。"
   ]
  },
  {
   "cell_type": "code",
   "execution_count": null,
   "id": "4e1fe05a",
   "metadata": {},
   "outputs": [],
   "source": [
    "class Solution:\n",
    "    def minWindow(self, s: str, t: str) -> str:\n",
    "        if len(s) < len(t):\n",
    "            return \"\"\n",
    "        ans = \"\"\n",
    "        d = Counter(t)\n",
    "        dd = Counter()\n",
    "        j = 0\n",
    "        for i in range(len(s)):\n",
    "            if s[i] in d:\n",
    "                dd[s[i]] += 1\n",
    "            while dd >= d:\n",
    "                if not ans or len(ans) > i - j + 1:\n",
    "                    ans = s[j:i+1]\n",
    "                if s[j] in d:\n",
    "                    dd[s[j]] -= 1\n",
    "                j += 1  \n",
    "        return ans"
   ]
  },
  {
   "cell_type": "markdown",
   "id": "d8608c57",
   "metadata": {},
   "source": [
    "失败了很多次啊，看了提示才知道，一是错在使用了字典的方式进行比较包含关系，但是判断条件太复杂了,包含关系没弄懂，思路是对的，就是使用滑动窗口进行移动求解，不知道有个Counter()可以求两串字符串的包含关系，二是知道有counter可以比较的时候，才想着滑动窗口这怎么使用，不用急着把j往后移动，先到ij之间包含的时候，再移动j，每移动一次，就判断包含关系，然后求最小的那个保存起来，当不满足包含了，就把把后指针移动，直到移动到最后一个，结束\n",
    "学到了：\n",
    "\n",
    "1.counter()可以进行包含关系的计算，counter(str/list)都可以，生成的是一个字典，c1>=c2意味着c1包含c2\n",
    "\n",
    "2.这个的时间复杂度在O(∣Σ∣m+n)，其中∣Σ∣的意思是在匹配的过程中，counter会对字符串进行比较，而字符串集合的键有数量限制，为∣Σ∣，这里是英文字母52个，而每次移动窗口都要比较一次，所以是∣Σ∣*m次，m为总字符串的长度"
   ]
  },
  {
   "cell_type": "code",
   "execution_count": null,
   "id": "bdb6840e",
   "metadata": {},
   "outputs": [],
   "source": [
    "class Solution:\n",
    "    def minWindow(self, s: str, t: str) -> str:\n",
    "        ans_left, ans_right = -1, len(s)\n",
    "        cnt = defaultdict(int)  # 比 Counter 更快\n",
    "        for c in t:\n",
    "            cnt[c] += 1\n",
    "        less = len(cnt)  # 有 less 种字母的出现次数 < t 中的字母出现次数\n",
    "\n",
    "        left = 0\n",
    "        for right, c in enumerate(s):  # 移动子串右端点\n",
    "            cnt[c] -= 1  # 右端点字母移入子串\n",
    "            if cnt[c] == 0:\n",
    "                # 原来窗口内 c 的出现次数比 t 的少，现在一样多\n",
    "                less -= 1\n",
    "            while less == 0:  # 涵盖：所有字母的出现次数都是 >=\n",
    "                if right - left < ans_right - ans_left:  # 找到更短的子串\n",
    "                    ans_left, ans_right = left, right  # 记录此时的左右端点\n",
    "                x = s[left]  # 左端点字母\n",
    "                if cnt[x] == 0:\n",
    "                    # x 移出窗口之前，检查出现次数，\n",
    "                    # 如果窗口内 x 的出现次数和 t 一样，\n",
    "                    # 那么 x 移出窗口后，窗口内 x 的出现次数比 t 的少\n",
    "                    less += 1\n",
    "                cnt[x] += 1  # 左端点字母移出子串\n",
    "                left += 1\n",
    "        return \"\" if ans_left < 0 else s[ans_left: ans_right + 1]"
   ]
  },
  {
   "cell_type": "markdown",
   "id": "8c54a873",
   "metadata": {},
   "source": [
    "这部分的代码优化在于不比较counter了，而是使用了新的数据结构defaultdict，这个字典有默认值，可以得到字典的长度，我们将t字符串变成defaultdict，然后将初始答案的左右端点放在-1和len(s)，然后用双指针对s进行遍历，减去dict中的值，当dict的长度为0时，说明内部已经包含了我们想要的字符串，然后大小比较；比较完成之后，移动左指针，当less为0时，就不进行比较"
   ]
  }
 ],
 "metadata": {
  "kernelspec": {
   "display_name": "Python 3",
   "language": "python",
   "name": "python3"
  },
  "language_info": {
   "codemirror_mode": {
    "name": "ipython",
    "version": 3
   },
   "file_extension": ".py",
   "mimetype": "text/x-python",
   "name": "python",
   "nbconvert_exporter": "python",
   "pygments_lexer": "ipython3",
   "version": "3.9.6"
  }
 },
 "nbformat": 4,
 "nbformat_minor": 5
}
