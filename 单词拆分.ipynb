{
 "cells": [
  {
   "cell_type": "markdown",
   "id": "c1fa0ed7",
   "metadata": {},
   "source": [
    "这是hot100的第86题：单词拆分 给你一个字符串 s 和一个字符串列表 wordDict 作为字典。如果可以利用字典中出现的一个或多个单词拼接出 s 则返回 true。\n",
    "\n",
    "注意：不要求字典中出现的单词全部都使用，并且字典中的单词可以重复使用。"
   ]
  },
  {
   "cell_type": "code",
   "execution_count": null,
   "id": "25a77939",
   "metadata": {},
   "outputs": [],
   "source": [
    "class Solution:\n",
    "    def wordBreak(self, s: str, wordDict: List[str]) -> bool:\n",
    "        m = [-1]\n",
    "        dic = dict()\n",
    "        for j in wordDict:\n",
    "            dic[j] = 1\n",
    "        for i in range(len(s)):\n",
    "            for j in m:\n",
    "                if s[j+1:i+1] in dic:\n",
    "                    m.append(i)\n",
    "                    break\n",
    "        return m[-1] == len(s)-1"
   ]
  },
  {
   "cell_type": "markdown",
   "id": "b43513ad",
   "metadata": {},
   "source": [
    "上面的时间复杂的是o(n^2)，但是m会越来越累计起来，并且注意m要是-1开始，因为+1才是0了，所以下面的修改就是根据worddict的最长长度，m的跨度也会小于最长的长度，会删去前面一部分的，减少遍历时间"
   ]
  },
  {
   "cell_type": "code",
   "execution_count": null,
   "id": "264eb100",
   "metadata": {},
   "outputs": [],
   "source": [
    "class Solution:\n",
    "    def wordBreak(self, s: str, wordDict: List[str]) -> bool:\n",
    "        m = [-1]\n",
    "        dic = dict()\n",
    "        maxi = 0\n",
    "        for j in wordDict:\n",
    "            dic[j] = 1\n",
    "            maxi = max(maxi,len(j))\n",
    "        for i in range(len(s)):\n",
    "            temp = -1\n",
    "            for j in range(len(m)):\n",
    "                if i-m[j] > maxi:\n",
    "                    temp = j\n",
    "                if s[m[j]+1:i+1] in dic:\n",
    "                    m.append(i)\n",
    "                    break\n",
    "            m = m[temp+1:]\n",
    "        if m:\n",
    "            return m[-1] == len(s)-1\n",
    "        else:\n",
    "            return False"
   ]
  }
 ],
 "metadata": {
  "language_info": {
   "name": "python"
  }
 },
 "nbformat": 4,
 "nbformat_minor": 5
}
