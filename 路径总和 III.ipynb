{
 "cells": [
  {
   "cell_type": "markdown",
   "id": "8636efea",
   "metadata": {},
   "source": [
    "这是hot100的第48题：路径总和 III 给定一个二叉树的根节点 root ，和一个整数 targetSum ，求该二叉树里节点值之和等于 targetSum 的 路径 的数目。\n",
    "\n",
    "路径 不需要从根节点开始，也不需要在叶子节点结束，但是路径方向必须是向下的（只能从父节点到子节点）。\n",
    "\n"
   ]
  },
  {
   "cell_type": "code",
   "execution_count": null,
   "id": "ca1a72ae",
   "metadata": {},
   "outputs": [],
   "source": [
    "# Definition for a binary tree node.\n",
    "# class TreeNode:\n",
    "#     def __init__(self, val=0, left=None, right=None):\n",
    "#         self.val = val\n",
    "#         self.left = left\n",
    "#         self.right = right\n",
    "class Solution:\n",
    "    def pathSum(self, root: Optional[TreeNode], targetSum: int) -> int:\n",
    "        dic = defaultdict(int)\n",
    "        dic[0] = 1\n",
    "        pre = 0\n",
    "        ans = 0\n",
    "        def seek(node):\n",
    "            nonlocal pre,ans\n",
    "\n",
    "            if not node:\n",
    "                return\n",
    "            \n",
    "            pre += node.val\n",
    "            ans += dic[pre-targetSum]\n",
    "            dic[pre] += 1\n",
    "\n",
    "            seek(node.left)\n",
    "            seek(node.right)\n",
    "\n",
    "            dic[pre] -= 1\n",
    "            pre -= node.val\n",
    "        seek(root)\n",
    "        return ans"
   ]
  },
  {
   "cell_type": "markdown",
   "id": "1c3c858f",
   "metadata": {},
   "source": [
    "这个题目需要的，是回溯算法，难点在于，怎么确保需要的前缀和不在其他的链条上，使用递归的方法可以避免，在每一次内部的seek(node.left)前，pre前缀和更新，并且把node也放入了dic中，在对node left 和right中进行判断时，就可以确保没有错误了，在运行到尾端的时候，node的left和right都返回了，所以需要回溯，把pre删掉当前节点的值，为上一层节点的值，同时把dic中的node也删去，确保后面的判断不会出现这个node\n",
    "学到的东西：\n",
    "1.defaultdict要把最后一个去除，不是pop，而是.popitem()\n",
    "2.deadfalldict后面的括号里面要有数据类型\n",
    "3.dic在这里不用nonlocal，因为没有赋值"
   ]
  }
 ],
 "metadata": {
  "kernelspec": {
   "display_name": "Python 3",
   "language": "python",
   "name": "python3"
  },
  "language_info": {
   "codemirror_mode": {
    "name": "ipython",
    "version": 3
   },
   "file_extension": ".py",
   "mimetype": "text/x-python",
   "name": "python",
   "nbconvert_exporter": "python",
   "pygments_lexer": "ipython3",
   "version": "3.9.6"
  }
 },
 "nbformat": 4,
 "nbformat_minor": 5
}
