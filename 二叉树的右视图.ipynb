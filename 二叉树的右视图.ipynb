{
 "cells": [
  {
   "cell_type": "markdown",
   "id": "2f19ea37",
   "metadata": {},
   "source": [
    "这是hot100的第45题：二叉树的右视图 给定一个二叉树的 根节点 root，想象自己站在它的右侧，按照从顶部到底部的顺序，返回从右侧所能看到的节点值。"
   ]
  },
  {
   "cell_type": "code",
   "execution_count": null,
   "id": "021a15cb",
   "metadata": {},
   "outputs": [],
   "source": [
    "# Definition for a binary tree node.\n",
    "# class TreeNode:\n",
    "#     def __init__(self, val=0, left=None, right=None):\n",
    "#         self.val = val\n",
    "#         self.left = left\n",
    "#         self.right = right\n",
    "class Solution:\n",
    "    def rightSideView(self, root: Optional[TreeNode]) -> List[int]:\n",
    "        if not root:\n",
    "            return []\n",
    "        s = [root]\n",
    "        ans = []\n",
    "        while s:\n",
    "            temp = []\n",
    "            ans.append(s[-1].val)\n",
    "            for node in s:\n",
    "                if node:\n",
    "                    if node.left:\n",
    "                        temp.append(node.left)\n",
    "                    if node.right:\n",
    "                        temp.append(node.right)\n",
    "            s = temp\n",
    "        return ans\n"
   ]
  },
  {
   "cell_type": "markdown",
   "id": "9ac237e0",
   "metadata": {},
   "source": [
    "还是层序遍历最好用，这里掌握了层序遍历的一个方法，就是在遍历s中一是要node不为none，而是append是left和right也要先判断才行，至于最开始赋值ans，一般就用空列表了，在循环中再处理"
   ]
  },
  {
   "cell_type": "code",
   "execution_count": null,
   "id": "e74cd8c4",
   "metadata": {},
   "outputs": [],
   "source": [
    "# Definition for a binary tree node.\n",
    "# class TreeNode:\n",
    "#     def __init__(self, val=0, left=None, right=None):\n",
    "#         self.val = val\n",
    "#         self.left = left\n",
    "#         self.right = right\n",
    "class Solution:\n",
    "    def rightSideView(self, root: Optional[TreeNode]) -> List[int]:\n",
    "        def dfs(node,depth):\n",
    "            if not root:\n",
    "                return []\n",
    "            if depth == len(ans):\n",
    "                return node.val\n",
    "            dfs(node.right,depth+1)\n",
    "            dfs(node.right,depth+1)\n",
    "        ans = []\n",
    "        dfs(root,0)\n",
    "        return ans"
   ]
  },
  {
   "cell_type": "markdown",
   "id": "05578644",
   "metadata": {},
   "source": [
    "居然也可以用深度搜索写，也就是先遍历右子树，当层数==ans长度时，把当前遍历到的第一个node。val加进去，思路比较巧妙"
   ]
  }
 ],
 "metadata": {
  "language_info": {
   "name": "python"
  }
 },
 "nbformat": 4,
 "nbformat_minor": 5
}
