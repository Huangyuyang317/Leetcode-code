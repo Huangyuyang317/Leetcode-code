{
 "cells": [
  {
   "cell_type": "markdown",
   "id": "421979c1",
   "metadata": {},
   "source": [
    "这是hot100的第90题：最长有效括号 给你一个只包含 '(' 和 ')' 的字符串，找出最长有效（格式正确且连续）括号 子串 的长度。\n",
    "\n",
    "左右括号匹配，即每个左括号都有对应的右括号将其闭合的字符串是格式正确的，比如 \"(()())\"。"
   ]
  },
  {
   "cell_type": "code",
   "execution_count": null,
   "id": "0c579bb8",
   "metadata": {},
   "outputs": [],
   "source": [
    "class Solution:\n",
    "    def longestValidParentheses(self, s: str) -> int:\n",
    "        stack,ans = [],0\n",
    "        for i in range(len(s)):\n",
    "            if stack == [] or (s[stack[-1]] != '(' or s[i] != ')'):\n",
    "                stack.append(i)\n",
    "            else:\n",
    "                stack.pop()\n",
    "        stack = [-1] + stack + [len(s)]\n",
    "        for i in range(1,len(stack)):\n",
    "            ans = max(ans,stack[i]-stack[i-1]-1)\n",
    "        return ans"
   ]
  },
  {
   "cell_type": "code",
   "execution_count": null,
   "id": "5c26a4ec",
   "metadata": {},
   "outputs": [],
   "source": [
    "class Solution:\n",
    "    def longestValidParentheses(self, s: str) -> int:\n",
    "        stack,ans = [],0\n",
    "        for i in range(len(s)):\n",
    "            if stack == [] or (s[stack[-1]] != '(' or s[i] != ')'):\n",
    "                stack.append(i)\n",
    "            else:\n",
    "                stack.pop()\n",
    "                if not stack:\n",
    "                    ans = max(ans,i+1)\n",
    "                else:\n",
    "                    ans = max(ans,i-stack[-1])\n",
    "        return ans"
   ]
  },
  {
   "cell_type": "markdown",
   "id": "c591776d",
   "metadata": {},
   "source": [
    "这个是使用栈的思想，栈会消除，能够匹配好的有效括号，剩下的中间就是连续的有效括号，再遍历栈，把未消除之间的索引相减减1，找到最大值"
   ]
  },
  {
   "cell_type": "code",
   "execution_count": null,
   "id": "4dcdb2cb",
   "metadata": {},
   "outputs": [],
   "source": [
    "class Solution:\n",
    "    def longestValidParentheses(self, s: str) -> int:\n",
    "        dp,ans = [0 for i in s],0\n",
    "        for i in range(len(s)):\n",
    "            if s[i] == ')':\n",
    "                temp = ')'\n",
    "                j = i-1\n",
    "                while j>=0:\n",
    "                    if s[j] == ')' and dp[j] != 0:\n",
    "                        j -= dp[j]\n",
    "                    elif s[j] == '(' and temp == ')':\n",
    "                        j -= 1\n",
    "                        temp = ''\n",
    "                    elif (s[j] == ')' and dp[j] == 0) or (s[j] == '(' and temp == ''):\n",
    "                        break\n",
    "                if temp == '':\n",
    "                    dp[i] = i-j\n",
    "                ans = max(ans,dp[i])\n",
    "        return ans"
   ]
  },
  {
   "cell_type": "markdown",
   "id": "200ee68b",
   "metadata": {},
   "source": [
    "这个是dp的方法，每次遇到了')'后，向前遍历，当遇到了')'后，如果dp是0，则说明这个中间没有成型的，之前的也不会有成型的括号，就break\n",
    "遇到了')'后，如果不是0，就说明中间是有成型的，就跳到这个成型的括号之前，继续寻找\n",
    "遇到了'('后，如果temp有')'，就j-1，继续\n",
    "遇到了'('后，如果temp没有')'，就结束"
   ]
  },
  {
   "cell_type": "code",
   "execution_count": null,
   "id": "5218b7c8",
   "metadata": {},
   "outputs": [],
   "source": [
    "class Solution:\n",
    "    def longestValidParentheses(self, s: str) -> int:\n",
    "        left = right = 0\n",
    "        ans = 0\n",
    "        for i in s:\n",
    "            if i == '(':\n",
    "                left += 1\n",
    "            else:\n",
    "                right += 1\n",
    "            if left == right:\n",
    "                ans = max(ans,2*left)\n",
    "            elif left < right:\n",
    "                left = right = 0\n",
    "        left = right = 0\n",
    "        for i in range(len(s)-1,-1,-1):\n",
    "            if s[i] == ')':\n",
    "                right += 1\n",
    "            else:\n",
    "                left += 1\n",
    "            if left == right:\n",
    "                ans = max(ans,2*left)\n",
    "            elif left > right:\n",
    "                left = right = 0\n",
    "        return ans"
   ]
  },
  {
   "cell_type": "markdown",
   "id": "8f35fab0",
   "metadata": {},
   "source": [
    "这个使用的双指针法，左边的遍历是验证((多的情况，右边的遍历是验证))多的情况，空间复杂度为常数"
   ]
  }
 ],
 "metadata": {
  "language_info": {
   "name": "python"
  }
 },
 "nbformat": 4,
 "nbformat_minor": 5
}
