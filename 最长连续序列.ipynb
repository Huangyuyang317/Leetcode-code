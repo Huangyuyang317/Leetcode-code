{
 "cells": [
  {
   "cell_type": "markdown",
   "id": "ee9cb1da",
   "metadata": {},
   "source": [
    "这是hot100的第三题：最长连续序列 给定一个未排序的整数数组nums，找出数字连续的最长序列（不要求序列元素在原数组中连续）的长度。\n",
    "请你设计并实现时间复杂度为 O(n) 的算法解决此问题。"
   ]
  },
  {
   "cell_type": "code",
   "execution_count": null,
   "id": "784d5e9e",
   "metadata": {},
   "outputs": [],
   "source": [
    "class Solution:\n",
    "    def longestConsecutive(self, nums: List[int]) -> int:\n",
    "        dic = dict()\n",
    "        if len(nums) == 0:\n",
    "            return 0\n",
    "        nums.sort()\n",
    "        for i in range(len(nums)):\n",
    "            if nums[i] - 1 in dic:\n",
    "                dic[nums[i]] = dic[nums[i]-1] + 1\n",
    "            else:\n",
    "                dic[nums[i]] = 1\n",
    "        return max(list(dic.values()))"
   ]
  },
  {
   "cell_type": "markdown",
   "id": "e4d6b260",
   "metadata": {},
   "source": [
    "还是函数的哈希性质处理问题，但是要对列表排序才能使用，这样才不会出现之后的数比之前的数先遍历，首先就是sort函数的使用，有点忘记了\n",
    "\n",
    "1.list.sort()直接返回了一个list不需要赋值\n",
    "\n",
    "2.注意边界条件比如说空列表和一个的列表\n",
    "\n",
    "但是要求了时间复杂度为o（n），所以不能排序，要换个方法"
   ]
  },
  {
   "cell_type": "code",
   "execution_count": null,
   "id": "995d1341",
   "metadata": {},
   "outputs": [],
   "source": [
    "class Solution:\n",
    "    def longestConsecutive(self, nums: List[int]) -> int:\n",
    "        if len(nums) == 0:\n",
    "            return 0\n",
    "        ans = 0\n",
    "        s = set(nums)\n",
    "        for i in s:\n",
    "            if i - 1 in s:\n",
    "                continue\n",
    "            j = 0\n",
    "            k = i\n",
    "            while k in s:\n",
    "                j += 1\n",
    "                k += 1\n",
    "            ans  = max(ans,j)\n",
    "        return ans"
   ]
  },
  {
   "cell_type": "markdown",
   "id": "1aa13bb8",
   "metadata": {},
   "source": [
    "题解所说的方法就是时间复杂度为o（n）的方法，思路如下：\n",
    "\n",
    "1.对可能有重复数据的列表转化为set，是基于哈希实现的，平均时间复杂度也为o（n）\n",
    "\n",
    "2.当碰到了一个有前一个的数据时，跳过这个数\n",
    "\n",
    "3.当这个数没有前一个值时，就开始计算这条线的值，需要注意到的时，虽然是有一个while循环，但是这个while循环只会遍历一部分数据，并且在某个数的while循环经历过的数，不会再经历了，所以该for循环整体时间复杂度只有o（2n）\n",
    "\n",
    "重点在set的处理和while的遍历不是o（n^2）"
   ]
  }
 ],
 "metadata": {
  "language_info": {
   "name": "python"
  }
 },
 "nbformat": 4,
 "nbformat_minor": 5
}
