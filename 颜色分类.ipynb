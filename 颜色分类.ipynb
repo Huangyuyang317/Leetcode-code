{
 "cells": [
  {
   "cell_type": "markdown",
   "id": "8ac48bd0",
   "metadata": {},
   "source": [
    "这是hot100的第98题：颜色分类 给定一个包含红色、白色和蓝色、共 n 个元素的数组 nums ，原地 对它们进行排序，使得相同颜色的元素相邻，并按照红色、白色、蓝色顺序排列。\n",
    "\n",
    "我们使用整数 0、 1 和 2 分别表示红色、白色和蓝色。\n",
    "\n",
    "必须在不使用库内置的 sort 函数的情况下解决这个问题。"
   ]
  },
  {
   "cell_type": "code",
   "execution_count": null,
   "id": "674c762d",
   "metadata": {},
   "outputs": [],
   "source": [
    "class Solution:\n",
    "    def sortColors(self, nums: List[int]) -> None:\n",
    "        \"\"\"\n",
    "        Do not return anything, modify nums in-place instead.\n",
    "        \"\"\"\n",
    "        d = Counter(nums)\n",
    "        i = j = 0\n",
    "        while i <= len(nums)-1:\n",
    "            if i == d[0]:\n",
    "                j = 1\n",
    "            if i == d[0]+d[1]:\n",
    "                j = 2\n",
    "            nums[i] = j\n",
    "            i += 1"
   ]
  },
  {
   "cell_type": "markdown",
   "id": "9220790e",
   "metadata": {},
   "source": [
    "这个是使用两次遍历，一次遍历是对列表中的012的数量，第二次就是根据数量进行填充"
   ]
  },
  {
   "cell_type": "code",
   "execution_count": null,
   "id": "6951bcf9",
   "metadata": {},
   "outputs": [],
   "source": [
    "class Solution:\n",
    "    def sortColors(self, nums: List[int]) -> None:\n",
    "        a = b = 0\n",
    "        for i in range(len(nums)):\n",
    "            k = nums[i]\n",
    "            nums[i] = 2\n",
    "            if k <= 1:\n",
    "                nums[b] = 1\n",
    "                b += 1\n",
    "            if k == 0:\n",
    "                nums[a] = 0\n",
    "                a += 1"
   ]
  },
  {
   "cell_type": "markdown",
   "id": "b18bed26",
   "metadata": {},
   "source": [
    "这个想法就是使用一次遍历，a和b分别用来代表0的终点和1的终点，每次遍历时，2的刷新代表把所有的数先变为2，当遍历得到的数为1或者0，就把num[b]=1，b加1，再次判断是0时，num[a]=0，a+1，最后我们发现，执行了n次num[i] = 2,a次的num[i]=0，b次的num[i]=1，而a,b-a,n-b分别就是列表中012的数量，相对于用0来覆盖1，1来覆盖2\n",
    "我刚开始也想到了双指针，但是就是没想到覆盖的方法"
   ]
  }
 ],
 "metadata": {
  "language_info": {
   "name": "python"
  }
 },
 "nbformat": 4,
 "nbformat_minor": 5
}
