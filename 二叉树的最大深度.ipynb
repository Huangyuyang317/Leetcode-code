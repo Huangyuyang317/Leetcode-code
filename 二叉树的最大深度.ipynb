{
 "cells": [
  {
   "cell_type": "markdown",
   "id": "0038f213",
   "metadata": {},
   "source": [
    "这是hot100的第37题：二叉树的最大深度 给定一个二叉树 root ，返回其最大深度。\n",
    "\n",
    "二叉树的 最大深度 是指从根节点到最远叶子节点的最长路径上的节点数。"
   ]
  },
  {
   "cell_type": "code",
   "execution_count": null,
   "id": "4eb81132",
   "metadata": {},
   "outputs": [],
   "source": [
    "# Definition for a binary tree node.\n",
    "# class TreeNode:\n",
    "#     def __init__(self, val=0, left=None, right=None):\n",
    "#         self.val = val\n",
    "#         self.left = left\n",
    "#         self.right = right\n",
    "class Solution:\n",
    "    def maxDepth(self, root: Optional[TreeNode]) -> int:\n",
    "        if not root:\n",
    "            return 0\n",
    "        l = self.maxDepth(root.left)\n",
    "        r = self.maxDepth(root.right)\n",
    "        return 1 + max(l,r)"
   ]
  },
  {
   "cell_type": "markdown",
   "id": "bc25881f",
   "metadata": {},
   "source": [
    "第一种解法，递归秒了，这种是先得到节点的左右子树，再和节点加1，所以是深度优先搜索中的后序遍历"
   ]
  },
  {
   "cell_type": "code",
   "execution_count": null,
   "id": "79c99f1c",
   "metadata": {},
   "outputs": [],
   "source": [
    "# Definition for a binary tree node.\n",
    "# class TreeNode:\n",
    "#     def __init__(self, val=0, left=None, right=None):\n",
    "#         self.val = val\n",
    "#         self.left = left\n",
    "#         self.right = right\n",
    "from queue import Queue\n",
    "class Solution:\n",
    "    def maxDepth(self, root: Optional[TreeNode]) -> int:\n",
    "        s = Queue()\n",
    "        s.put(root)\n",
    "        j = 1\n",
    "        while not s.empty():\n",
    "            l = []\n",
    "            while not s.empty():\n",
    "                m = s.get()\n",
    "                if m:\n",
    "                    l.append(m.left)\n",
    "                    l.append(m.right)\n",
    "            for i in range(len(l)):\n",
    "                s.put(l[i])\n",
    "            j += 1\n",
    "        return j"
   ]
  },
  {
   "cell_type": "code",
   "execution_count": null,
   "id": "6318a63e",
   "metadata": {},
   "outputs": [],
   "source": [
    "# Definition for a binary tree node.\n",
    "# class TreeNode:\n",
    "#     def __init__(self, val=0, left=None, right=None):\n",
    "#         self.val = val\n",
    "#         self.left = left\n",
    "#         self.right = right\n",
    "from queue import Queue\n",
    "class Solution:\n",
    "    def maxDepth(self, root: Optional[TreeNode]) -> int:\n",
    "        if not root:\n",
    "            return 0\n",
    "        s = Queue()\n",
    "        s.put(root)\n",
    "        j = 1\n",
    "        while not s.empty():\n",
    "            l = []\n",
    "            while not s.empty():\n",
    "                m = s.get()\n",
    "                if m:\n",
    "                    l.append(m.left)\n",
    "                    l.append(m.right)\n",
    "            for i in range(len(l)):\n",
    "                if l[i]:\n",
    "                    s.put(l[i])\n",
    "            j += 1\n",
    "        return j-1"
   ]
  },
  {
   "cell_type": "markdown",
   "id": "041a76d0",
   "metadata": {},
   "source": [
    "这是广度优先搜索，但是我写的有点复杂，我把它修改一下,而且好像不需要队列,也就是一层读取，然后把这一层的子节点再放进去，直到没有了"
   ]
  },
  {
   "cell_type": "code",
   "execution_count": null,
   "id": "773853ff",
   "metadata": {},
   "outputs": [],
   "source": [
    "# Definition for a binary tree node.\n",
    "# class TreeNode:\n",
    "#     def __init__(self, val=0, left=None, right=None):\n",
    "#         self.val = val\n",
    "#         self.left = left\n",
    "#         self.right = right\n",
    "from queue import Queue\n",
    "class Solution:\n",
    "    def maxDepth(self, root: Optional[TreeNode]) -> int:\n",
    "        if not root:\n",
    "            return 0\n",
    "        queue = [root]\n",
    "        j = 0\n",
    "        while queue:\n",
    "            temp = []\n",
    "            for node in queue:\n",
    "                if node.left: \n",
    "                    temp.append(node.left)\n",
    "                if node.right: \n",
    "                    temp.append(node.right)\n",
    "            queue = temp\n",
    "            j += 1\n",
    "        return j"
   ]
  }
 ],
 "metadata": {
  "kernelspec": {
   "display_name": "Python 3",
   "language": "python",
   "name": "python3"
  },
  "language_info": {
   "codemirror_mode": {
    "name": "ipython",
    "version": 3
   },
   "file_extension": ".py",
   "mimetype": "text/x-python",
   "name": "python",
   "nbconvert_exporter": "python",
   "pygments_lexer": "ipython3",
   "version": "3.9.6"
  }
 },
 "nbformat": 4,
 "nbformat_minor": 5
}
