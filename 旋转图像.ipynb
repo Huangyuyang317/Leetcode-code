{
 "cells": [
  {
   "cell_type": "markdown",
   "id": "56778333",
   "metadata": {},
   "source": [
    "这是hot100第20题：旋转图像 给定一个 n × n 的二维矩阵 matrix 表示一个图像。请你将图像顺时针旋转 90 度。\n",
    "\n",
    "你必须在 原地 旋转图像，这意味着你需要直接修改输入的二维矩阵。请不要 使用另一个矩阵来旋转图像。"
   ]
  },
  {
   "cell_type": "code",
   "execution_count": null,
   "id": "49c15335",
   "metadata": {},
   "outputs": [],
   "source": [
    "class Solution:\n",
    "    def rotate(self, matrix: List[List[int]]) -> None:\n",
    "        n = len(matrix)\n",
    "        for j in range(int(ceil(len(matrix)/2))):\n",
    "            for i in range(j,n-j-1):\n",
    "                matrix[j][i],matrix[i][n-j-1],matrix[n-j-1][n-i-1],matrix[n-i-1][j] = matrix[n-i-1][j],matrix[j][i],matrix[i][n-j-1],matrix[n-j-1][n-i-1]\n"
   ]
  },
  {
   "cell_type": "markdown",
   "id": "e484cf41",
   "metadata": {},
   "source": [
    "这个我一般的思路和上一题螺旋矩阵一样，也是以每个最外层的正方形为改变对象，每行进行旋转，思路很简单，注意边界条件\n",
    "这个地方学到的思想，在于矩阵的转置，但是内存占用太多，因为在交换过程中，使用了一个临时的元组，长度为4，如果换成一个临时变量的话，可以节省很多，达到50%\n",
    "\n",
    "最常用的思路是：旋转90度等于转置+每一列翻转，因为第i行变成了第n-i-1列，所以转置后，第i行变成第i列，翻转后，第i列变成第n-i-1列"
   ]
  },
  {
   "cell_type": "code",
   "execution_count": null,
   "id": "60f6285b",
   "metadata": {},
   "outputs": [],
   "source": [
    "class Solution:\n",
    "    def rotate(self, matrix: List[List[int]]) -> None:\n",
    "        for i in range(len(matrix)):\n",
    "            for j in range(i+1):\n",
    "                matrix[i][j],matrix[j][i] = matrix[j][i],matrix[i][j]\n",
    "        for i in range(len(matrix)):\n",
    "            for j in range(len(matrix)//2):\n",
    "                matrix[i][len(matrix)-j-1],matrix[i][j]= matrix[i][j],matrix[i][len(matrix)-j-1]"
   ]
  }
 ],
 "metadata": {
  "kernelspec": {
   "display_name": "Python 3",
   "language": "python",
   "name": "python3"
  },
  "language_info": {
   "codemirror_mode": {
    "name": "ipython",
    "version": 3
   },
   "file_extension": ".py",
   "mimetype": "text/x-python",
   "name": "python",
   "nbconvert_exporter": "python",
   "pygments_lexer": "ipython3",
   "version": "3.9.6"
  }
 },
 "nbformat": 4,
 "nbformat_minor": 5
}
