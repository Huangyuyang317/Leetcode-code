{
 "cells": [
  {
   "cell_type": "markdown",
   "id": "29c06f1f",
   "metadata": {},
   "source": [
    "这是hot100的第82题：杨辉三角 给定一个非负整数 numRows，生成「杨辉三角」的前 numRows 行。\n"
   ]
  },
  {
   "cell_type": "code",
   "execution_count": null,
   "id": "d3d56608",
   "metadata": {},
   "outputs": [],
   "source": [
    "class Solution:\n",
    "    def generate(self, numRows: int) -> List[List[int]]:\n",
    "        ans = [[1]]\n",
    "        for i in range(1,numRows):\n",
    "            temp = []\n",
    "            t = [0]+ans[i-1]+[0]\n",
    "            for j in range(len(t)-1):\n",
    "                temp.append(t[j]+t[j+1])\n",
    "            ans.append(temp)\n",
    "        return ans"
   ]
  },
  {
   "cell_type": "markdown",
   "id": "a6c520c5",
   "metadata": {},
   "source": [
    "这个思路就是初始化第一行，从第二行开始，每一个是上一行的两个相加，第一个和最后一个不一样，所以在这里前后又加了两个"
   ]
  }
 ],
 "metadata": {
  "language_info": {
   "name": "python"
  }
 },
 "nbformat": 4,
 "nbformat_minor": 5
}
