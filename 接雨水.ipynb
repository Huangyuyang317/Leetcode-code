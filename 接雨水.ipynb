{
 "cells": [
  {
   "cell_type": "markdown",
   "id": "64b10620",
   "metadata": {},
   "source": [
    "这是hot100的第7题：接雨水给定 n 个非负整数表示每个宽度为 1 的柱子的高度图，计算按此排列的柱子，下雨之后能接多少雨水。"
   ]
  },
  {
   "cell_type": "code",
   "execution_count": null,
   "id": "b951633a",
   "metadata": {},
   "outputs": [],
   "source": [
    "class Solution:\n",
    "    def trap(self, height):\n",
    "        ans=maxi = 0\n",
    "        l1 = [0 for j in range(len(height))]\n",
    "        for k in range(len(height)-1,-1,-1):\n",
    "            l1[k] = maxi\n",
    "            maxi = max(maxi,height[k])\n",
    "        m = height[0]\n",
    "        i = 0\n",
    "        while i <= len(height) - 1:\n",
    "            if height[i] <= m:\n",
    "                ans += m-height[i]\n",
    "                i += 1\n",
    "            elif height[i] > m and l1[i] >= height[i]:\n",
    "                m = height[i]\n",
    "                i += 1\n",
    "            elif height[i] > m and l1[i] < height[i]:\n",
    "                m = 0\n",
    "                i += 1\n",
    "        return ans\n",
    "            "
   ]
  },
  {
   "cell_type": "markdown",
   "id": "d00ad7e5",
   "metadata": {},
   "source": [
    "这个部分的代码是我最开始的想法，感觉漏洞太多，需要很多bug的修改还改不过来，遂放弃"
   ]
  },
  {
   "cell_type": "code",
   "execution_count": null,
   "id": "6bcf0e32",
   "metadata": {},
   "outputs": [],
   "source": [
    "class Solution:\n",
    "    def trap(self, height: List[int]) -> int:\n",
    "        ans = 0\n",
    "        l1 = [0 for i in range(len(height))]\n",
    "        m1 = height[0]\n",
    "        l2 = [0 for i in range(len(height))]\n",
    "        m2 = height[-1]\n",
    "        for i in range(1,len(height)):\n",
    "            l1[i] = m1\n",
    "            m1 = max(m1,height[i])\n",
    "            l2[len(height)-1-i] = m2\n",
    "            m2 = max(m2,height[len(height)-1-i])\n",
    "        for i in range(len(height)):\n",
    "            ans += max(min(l1[i],l2[i])-height[i],0)\n",
    "        return ans"
   ]
  },
  {
   "cell_type": "markdown",
   "id": "504e31b5",
   "metadata": {},
   "source": [
    "这个是用的动态规划的思想，但是经历了两次遍历，时间会久一些，而且还用了两个空列表，空间也比较大\n",
    "这个方法的思路在，每一块方块上方能够承受的水量，是是比两边的最高板子中的最小的差值，但是也要比0大，核心在这里"
   ]
  },
  {
   "cell_type": "code",
   "execution_count": null,
   "id": "55e9ea00",
   "metadata": {},
   "outputs": [],
   "source": [
    "class Solution:\n",
    "    def trap(self, height: List[int]) -> int:\n",
    "        i = 0\n",
    "        j = len(height)-1\n",
    "        m = height[i]\n",
    "        n = height[j]\n",
    "        ans  = 0\n",
    "        while i<j:\n",
    "            if height[j] > height[i]:\n",
    "                i += 1\n",
    "                if m > height[i]:\n",
    "                    ans += m - height[i]\n",
    "                else:\n",
    "                    m = height[i]\n",
    "            else:\n",
    "                j -= 1\n",
    "                if n > height[j]:\n",
    "                    ans += n - height[j]\n",
    "                else:\n",
    "                    n = height[j]\n",
    "        return ans"
   ]
  },
  {
   "cell_type": "markdown",
   "id": "508fb8f3",
   "metadata": {},
   "source": [
    "修改后的代码是双指针算法，只遍历了一次，会比上面的时间快一些，其思路为m，n为两个指向第i个左边的最大的数和第j个右边最大的数，当m比n小时，说明左边是低方位，那么在i往前移动时，m比height[i]高的地方一定能够被雨水填满，同理可得n。"
   ]
  }
 ],
 "metadata": {
  "kernelspec": {
   "display_name": "Python 3",
   "language": "python",
   "name": "python3"
  },
  "language_info": {
   "codemirror_mode": {
    "name": "ipython",
    "version": 3
   },
   "file_extension": ".py",
   "mimetype": "text/x-python",
   "name": "python",
   "nbconvert_exporter": "python",
   "pygments_lexer": "ipython3",
   "version": "3.9.6"
  }
 },
 "nbformat": 4,
 "nbformat_minor": 5
}
