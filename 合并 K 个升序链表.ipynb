{
 "cells": [
  {
   "cell_type": "markdown",
   "id": "f7b453a5",
   "metadata": {},
   "source": [
    "这是hot100的第34题：合并 K 个升序链表 给你一个链表数组，每个链表都已经按升序排列。\n",
    "\n",
    "请你将所有链表合并到一个升序链表中，返回合并后的链表。"
   ]
  },
  {
   "cell_type": "code",
   "execution_count": null,
   "id": "004d77d6",
   "metadata": {},
   "outputs": [],
   "source": [
    "# Definition for singly-linked list.\n",
    "# class ListNode:\n",
    "#     def __init__(self, val=0, next=None):\n",
    "#         self.val = val\n",
    "#         self.next = next\n",
    "import heapq\n",
    "class Solution:\n",
    "    def mergeKLists(self, lists: List[Optional[ListNode]]) -> Optional[ListNode]:\n",
    "        ans = ListNode()\n",
    "        l = ans\n",
    "        s = []\n",
    "        for i in range(len(lists)):\n",
    "            heapq.heappush(s,(lists[i].val,i,lists[i]))\n",
    "        while s:\n",
    "            a,b = heapq.heappop(s)\n",
    "            l.next = b\n",
    "            l = l.next\n",
    "            if b.next:\n",
    "                heapq.heappush(b.next)\n",
    "            else:\n",
    "                pass\n",
    "        return ans.next"
   ]
  },
  {
   "cell_type": "markdown",
   "id": "de344867",
   "metadata": {},
   "source": [
    "这个想法和两个链表类似，但是它的比较是k个比较，所以需要一个尽量不影响其他的排序方式，这里的堆排序就很合适，而且代码也简单，python封装好了堆，并且是小根堆，可以输出最小值\n",
    "这里学到的：\n",
    "1.堆排序直接使用heapq,先要建立一个list，heapq.heappush(list,元素),元素最好是以元组形式表现，因为要从前到后依次比较，listnode无法比较，所以要不加入新的类方法，要不就和我一样加索引 加方法如下：ListNode.__lt__ = lambda a, b: a.val < b.val"
   ]
  },
  {
   "cell_type": "code",
   "execution_count": null,
   "id": "a7814fe9",
   "metadata": {},
   "outputs": [],
   "source": [
    "# Definition for singly-linked list.\n",
    "# class ListNode:\n",
    "#     def __init__(self, val=0, next=None):\n",
    "#         self.val = val\n",
    "#         self.next = next\n",
    "class Solution:\n",
    "    def mergeKLists(self, lists: List[Optional[ListNode]]) -> Optional[ListNode]:\n",
    "        def merge_two_list(l1,l2):\n",
    "            cur = dummy = ListNode()\n",
    "            while l1 and l2:\n",
    "                if l1.val > l2.val:\n",
    "                    dummy.next = l2\n",
    "                    l2 = l2.next\n",
    "                    dummy = dummy.next\n",
    "                else:\n",
    "                    dummy.next = l1\n",
    "                    l1 = l1.next\n",
    "                    dummy = dummy.next\n",
    "            dummy.next = l1 if l1 else l2\n",
    "            return cur.next\n",
    "        def merge(l):\n",
    "            m = len(l)\n",
    "            if m == 0:\n",
    "                return None\n",
    "            if m == 1:\n",
    "                return l[0]\n",
    "            left = merge(l[:m//2])\n",
    "            right = merge(l[m//2:])\n",
    "            return merge_two_list(left,right)\n",
    "        return merge(lists)"
   ]
  },
  {
   "cell_type": "markdown",
   "id": "56072bed",
   "metadata": {},
   "source": [
    "这个是递归的方法，但是我觉得有个问题，粗暴的把链表列表分成前后两个平均分，不能满足节点数量均分的要求，可能是一种粗略的分析吧"
   ]
  },
  {
   "cell_type": "code",
   "execution_count": null,
   "id": "07839868",
   "metadata": {},
   "outputs": [],
   "source": [
    "# Definition for singly-linked list.\n",
    "# class ListNode:\n",
    "#     def __init__(self, val=0, next=None):\n",
    "#         self.val = val\n",
    "#         self.next = next\n",
    "class Solution:\n",
    "    def mergeKLists(self, lists: List[Optional[ListNode]]) -> Optional[ListNode]:\n",
    "        def merge_two_list(l1,l2):\n",
    "            cur = dummy = ListNode()\n",
    "            while l1 and l2:\n",
    "                if l1.val > l2.val:\n",
    "                    dummy.next = l2\n",
    "                    l2 = l2.next\n",
    "                else:\n",
    "                    dummy.next = l1\n",
    "                    l1 =l1.next\n",
    "                dummy = dummy.next\n",
    "            dummy.next = l1 if l1 else l2\n",
    "            return cur.next\n",
    "        if not lists:\n",
    "            return None\n",
    "        m,gap = len(lists),1\n",
    "        while gap < m:\n",
    "            i = 0\n",
    "            while i < m:\n",
    "                l1 = lists[i]\n",
    "                l2 = lists[i+gap] if i+gap < m else None\n",
    "                lists[i] = merge_two_list(l1,l2)\n",
    "                i = i + 2 * gap\n",
    "            gap *= 2\n",
    "        return lists[0]"
   ]
  },
  {
   "cell_type": "markdown",
   "id": "b975ab0b",
   "metadata": {},
   "source": [
    "会了，把所有的都放到第一个的位置就可以了，gap代表是已经融合了几个"
   ]
  }
 ],
 "metadata": {
  "language_info": {
   "name": "python"
  }
 },
 "nbformat": 4,
 "nbformat_minor": 5
}
