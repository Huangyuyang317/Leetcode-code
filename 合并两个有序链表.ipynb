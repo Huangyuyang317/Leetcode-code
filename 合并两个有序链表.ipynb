{
 "cells": [
  {
   "cell_type": "markdown",
   "id": "ba88a57d",
   "metadata": {},
   "source": [
    "这是hot100的第27题：合并两个有序链表 将两个升序链表合并为一个新的 升序 链表并返回。新链表是通过拼接给定的两个链表的所有节点组成的。"
   ]
  },
  {
   "cell_type": "code",
   "execution_count": null,
   "id": "eebc676e",
   "metadata": {},
   "outputs": [],
   "source": [
    "v# Definition for singly-linked list.\n",
    "# class ListNode:\n",
    "#     def __init__(self, val=0, next=None):\n",
    "#         self.val = val\n",
    "#         self.next = next\n",
    "class Solution:\n",
    "    def mergeTwoLists(self, list1: Optional[ListNode], list2: Optional[ListNode]) -> Optional[ListNode]:\n",
    "        if not list1:\n",
    "            return list2\n",
    "        if not list2:\n",
    "            return list1\n",
    "        if list1.val >= list2.val:\n",
    "            s = list2\n",
    "            list2 = list2.next\n",
    "            s.next = None\n",
    "        else:\n",
    "            s = list1\n",
    "            list1 = list1.next\n",
    "            s.next = None\n",
    "        a = s\n",
    "        while list1 and list2:\n",
    "            if list1.val >= list2.val:\n",
    "                s.next = list2\n",
    "                list2 = list2.next\n",
    "                s = s.next\n",
    "                s.next = None\n",
    "            else:\n",
    "                s.next = list1\n",
    "                list1 = list1.next\n",
    "                s = s.next\n",
    "                s.next = None\n",
    "        if not list1:\n",
    "            s.next = list2\n",
    "        elif not list2:\n",
    "            s.next = list1\n",
    "        return a"
   ]
  },
  {
   "cell_type": "markdown",
   "id": "1a7cc518",
   "metadata": {},
   "source": [
    "这个方法写起来太复杂了，可以用哑节点来简化，把第一步也放回到while中"
   ]
  },
  {
   "cell_type": "code",
   "execution_count": null,
   "id": "5e91b288",
   "metadata": {},
   "outputs": [],
   "source": [
    "class Solution:\n",
    "    def mergeTwoLists(self, list1: Optional[ListNode], list2: Optional[ListNode]) -> Optional[ListNode]:\n",
    "        s = ListNode()\n",
    "        cur = s\n",
    "        while list1 and list2:\n",
    "            if list1.val >= list2.val:\n",
    "                cur.next = list2\n",
    "                list2 = list2.next\n",
    "                cur = cur.next\n",
    "            else:\n",
    "                cur.next = list1\n",
    "                list1 = list1.next\n",
    "                cur = cur.next\n",
    "        if not list1:\n",
    "            cur.next = list2\n",
    "        elif not list2:\n",
    "            cur.next = list1\n",
    "        return s.next"
   ]
  }
 ],
 "metadata": {
  "language_info": {
   "name": "python"
  }
 },
 "nbformat": 4,
 "nbformat_minor": 5
}
