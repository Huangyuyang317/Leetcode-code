{
 "cells": [
  {
   "cell_type": "markdown",
   "id": "1fbff05f",
   "metadata": {},
   "source": [
    "这是hot100的第51题：岛屿数量 给你一个由 '1'（陆地）和 '0'（水）组成的的二维网格，请你计算网格中岛屿的数量。\n",
    "\n",
    "岛屿总是被水包围，并且每座岛屿只能由水平方向和/或竖直方向上相邻的陆地连接形成。\n",
    "\n",
    "此外，你可以假设该网格的四条边均被水包围。"
   ]
  },
  {
   "cell_type": "code",
   "execution_count": null,
   "id": "09cdfae7",
   "metadata": {},
   "outputs": [],
   "source": [
    "class Solution:\n",
    "    def numIslands(self, grid: List[List[str]]) -> int:\n",
    "        def dfs(i,j):\n",
    "            if i < 0  or i > len(grid)-1 or j < 0 or j >len(grid[0])-1 or  grid[i][j] != '1':\n",
    "                return\n",
    "            grid[i][j] = '2'\n",
    "            dfs(i+1,j)\n",
    "            dfs(i-1,j)\n",
    "            dfs(i,j+1)\n",
    "            dfs(i,j-1)\n",
    "\n",
    "        ans = 0\n",
    "        for i in range(len(grid)):\n",
    "            for j in range(len(grid[0])):\n",
    "                if grid[i][j] == '1':\n",
    "                    ans += 1\n",
    "                    dfs(i,j)\n",
    "        return ans\n",
    "            "
   ]
  },
  {
   "cell_type": "markdown",
   "id": "5e3f4e88",
   "metadata": {},
   "source": [
    "现在进入了新的专题，也就是图论，这个是网格图，也可以使用递归的方法，dfs，也就是每个格子的上下左右是子节点，如果是1就改变为2，如果不是1或者越界，就停止了"
   ]
  },
  {
   "cell_type": "code",
   "execution_count": null,
   "id": "016f35f5",
   "metadata": {},
   "outputs": [],
   "source": [
    "class Solution:\n",
    "    def numIslands(self, grid: List[List[str]]) -> int:\n",
    "        class UnionFind:\n",
    "            def __init__(self,n):\n",
    "                self.size = n\n",
    "                self.p = [i for i in range(n)]\n",
    "            def find(self,x):\n",
    "                if self.p[x] != x:\n",
    "                    self.p[x] = self.find(self.p[x])\n",
    "                return self.p[x]\n",
    "            def union(self,x,y):\n",
    "                m = self.find(x)\n",
    "                n = self.find(y)\n",
    "                if m != n:\n",
    "                    self.p[m] = n\n",
    "                    self.size -= 1\n",
    "        uf = UnionFind(len(grid)*len(grid[0]))\n",
    "        ocean = 0\n",
    "        for i in range(len(grid)):\n",
    "            for j in range(len(grid[0])):\n",
    "                if grid[i][j] == '0':\n",
    "                    ocean += 1\n",
    "                else:\n",
    "                    if i < len(grid)-1 and grid[i+1][j] == '1':\n",
    "                        uf.union(i*len(grid[0])+j,(i+1)*len(grid[0])+j)\n",
    "                    if j < len(grid[0])-1 and grid[i][j+1] == '1':\n",
    "                        uf.union(i*len(grid[0])+j,i*len(grid[0])+(j+1))\n",
    "        uf.find(0)\n",
    "        print(uf.p)\n",
    "        return uf.size - ocean"
   ]
  },
  {
   "cell_type": "markdown",
   "id": "39b4e4e7",
   "metadata": {},
   "source": [
    "这个是经典的并查集方法，并查集用来维护若干个不重叠的集合，经常用于连通性的判断，这个是一个二维图，要先降维，降为一维，行序*列数+列序，每一个在父列表中的节点为本身，在后续，只有p[x] = x的节点才是父节点\n",
    "首先是查询功能，当非父节点时，也就是p[x]!=x，查询其上一节点p[x]是否为父节点，不断迭代，直至返回到其父节点\n",
    "\n",
    "然后是合并功能，两个节点，用find找到其父节点的值m和n，也就是在p列表中的索引，如果相同就不用合并，不同的话，就在p中，把p[m]改成n，size-1\n",
    "\n",
    "定义完成之后，size的数量为水的数量加岛的数量，减去ocean即可"
   ]
  }
 ],
 "metadata": {
  "language_info": {
   "name": "python"
  }
 },
 "nbformat": 4,
 "nbformat_minor": 5
}
